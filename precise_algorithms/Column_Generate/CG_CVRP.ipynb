{
 "cells": [
  {
   "cell_type": "markdown",
   "id": "5892f028",
   "metadata": {},
   "source": [
    "# 作业4\n",
    "# Author：陈伟钊\n",
    "# （一）限定迭代时间的CG算法求解送货问题"
   ]
  },
  {
   "cell_type": "code",
   "execution_count": 1,
   "id": "72b8463e",
   "metadata": {},
   "outputs": [],
   "source": [
    "import math\n",
    "import numpy as np\n",
    "import gurobipy as grb\n",
    "import time\n",
    "import matplotlib.pyplot as plt\n",
    "import matplotlib as mpl    \n",
    "mpl.rcParams['font.sans-serif'] = ['SimHei']  #指定默认字体\n",
    "mpl.rcParams['axes.unicode_minus'] = False   #正常显示图像中的负号"
   ]
  },
  {
   "cell_type": "markdown",
   "id": "2aceda4c",
   "metadata": {},
   "source": [
    "# 初始化"
   ]
  },
  {
   "cell_type": "code",
   "execution_count": 2,
   "id": "dc94a0bf",
   "metadata": {},
   "outputs": [],
   "source": [
    "# 初始化\n",
    "# 已知位置(50,50)是仓库位置\n",
    "location = [\n",
    "    (50,50),  \n",
    "    (50,68),\n",
    "    (67,3),\n",
    "    (14,73),\n",
    "    (28,39),\n",
    "    (75,40),\n",
    "    (35,85),\n",
    "    (60,6),\n",
    "    (27,5),\n",
    "    (76,75),\n",
    "    (46,30),\n",
    "    (3,50),\n",
    "    (81,13),\n",
    "    (5,1),\n",
    "    (79,4),\n",
    "    (11,55)\n",
    "]\n",
    "# 每个客户节点（1-15）的送货量\n",
    "max_load = [30,20,15,10,15,30,25,40,40,10,50,25,40,20,10]\n",
    "\n",
    "car_max_load = 100\n",
    "\n",
    "per_fare = 5\n",
    "\n",
    "# 乘上单位费用的距离矩阵(原先的距离矩阵做备份)\n",
    "distance_mat = [[0 for i in range(len(location))] for j in range(len(location))]\n",
    "distance_mat_init = [[0 for i in range(len(location))] for j in range(len(location))]\n",
    "for i in range(len(location)):\n",
    "    for j in range(len(location)):\n",
    "        distance_mat[i][j] = round(math.sqrt(pow((location[i][0]-location[j][0]),2) + pow((location[i][1]-location[j][1]),2)),2)*per_fare\n",
    "        distance_mat_init[i][j] = round(math.sqrt(pow((location[i][0]-location[j][0]),2) + pow((location[i][1]-location[j][1]),2)),2)*per_fare\n",
    "\n",
    "# 记录方案成本\n",
    "cost = []\n",
    "\n",
    "# 初始化路线成本\n",
    "Cr = [2*distance for distance in distance_mat[0][1:]]\n",
    "\n",
    "# 路线是否选用客户节点\n",
    "if_route_choose_node = [[0 for i in range(len(location)-1)] for j in range(len(location)-1)]\n",
    "for i in range(len(location)-1):\n",
    "    if_route_choose_node[i][i] = 1\n",
    "\n",
    "# 记录每条路线的节点顺序\n",
    "route = [[0,i,0] for i in range(1,16)]\n",
    "\n",
    "# 记录时间\n",
    "start = time.time()\n",
    "end = time.time()\n",
    "\n",
    "step = 0"
   ]
  },
  {
   "cell_type": "markdown",
   "id": "7fb83e24",
   "metadata": {},
   "source": [
    "# RMP求解"
   ]
  },
  {
   "cell_type": "code",
   "execution_count": 3,
   "id": "b2a38501",
   "metadata": {},
   "outputs": [],
   "source": [
    "# rmp求解的封装函数\n",
    "def rmp_solve(route,Cr,cost,if_route_choose_node):\n",
    "    # 创建模型\n",
    "    rmp_model = grb.Model('rmp_model')\n",
    "\n",
    "    # 添加变量\n",
    "    x = rmp_model.addVars(len(route),vtype='C',lb=0,ub=1,name='x')\n",
    "\n",
    "    # 更新变换环境\n",
    "    rmp_model.update()\n",
    "\n",
    "    # 创建目标函数\n",
    "    rmp_model.setObjective(x.prod(Cr),grb.GRB.MINIMIZE)\n",
    "\n",
    "    # 创建约束条件\n",
    "    rmp_model.addConstrs(x.prod(if_route_choose_node[i]) >= 1 for i in range(len(if_route_choose_node)))\n",
    "\n",
    "    # 执行\n",
    "    rmp_model.params.OutputFlag=0\n",
    "    rmp_model.optimize()\n",
    "\n",
    "    # 获取影子价格\n",
    "    Dual = rmp_model.getAttr(grb.GRB.Attr.Pi,rmp_model.getConstrs())\n",
    "    Dual.insert(0,0)\n",
    "    \n",
    "    # 记录方案成本\n",
    "    cost.append(rmp_model.objval)\n",
    "    \n",
    "    return rmp_model,Dual"
   ]
  },
  {
   "cell_type": "markdown",
   "id": "3b09189d",
   "metadata": {},
   "source": [
    "# 子问题求解"
   ]
  },
  {
   "cell_type": "code",
   "execution_count": 4,
   "id": "e3bc47cc",
   "metadata": {},
   "outputs": [],
   "source": [
    "# sub求解的封装函数\n",
    "def sub_solve(distance_mat,Dual,car_max_load,max_load,step):\n",
    "    # 更新距离矩阵\n",
    "    for i in range(len(distance_mat)):\n",
    "        for j in range(len(distance_mat)):\n",
    "            distance_mat[i][j] = distance_mat[i][j] - Dual[j]\n",
    "            \n",
    "    # 创建模型\n",
    "    sub_model = grb.Model('sub_model')\n",
    "\n",
    "    # 添加变量\n",
    "    Zij={}\n",
    "    for i in range(len(distance_mat)):\n",
    "        for j in range(len(distance_mat)):\n",
    "            Zij[i,j]=sub_model.addVar(obj=distance_mat[i][j],vtype='B',name='Zij[%s][%s]'%(i,j))\n",
    "    Vi={}\n",
    "    for i in range(len(distance_mat)-1):\n",
    "        Vi[i] = sub_model.addVar(obj=0,vtype='C',name='Vi[%s]'%i)        \n",
    "    \n",
    "    # 更新变量环境\n",
    "    sub_model.update()\n",
    "\n",
    "    # 创建目标函数\n",
    "    #sub_model.setObjective(grb.GRB.MINIMIZE)\n",
    "\n",
    "    # 创建约束条件\n",
    "    # 第一组约束，保证回到仓库\n",
    "    sub_model.addConstr(sum(Zij[i,0] for i in range(len(distance_mat))) == 1)\n",
    "    # 第二组约束，保证Vi小于货车容量上限\n",
    "    for i in range(len(distance_mat)-1):\n",
    "        sub_model.addConstr(Vi[i] <= car_max_load)\n",
    "    # 第三组约束，保证被服务的客户可以被满足\n",
    "    for i in range(len(distance_mat)-1):\n",
    "        sub_model.addConstr(Vi[i] >= max_load[i])\n",
    "    # 第四组约束，保证服务的先后顺序\n",
    "    for i in range(len(distance_mat)-1):\n",
    "        for j in range(len(distance_mat)-1):\n",
    "            sub_model.addConstr(Vi[i] + (1-Zij[i+1,j+1])*car_max_load - Vi[j] - max_load[i] >= 0)\n",
    "    # 第五组约束，保证从仓库出发\n",
    "    sub_model.addConstr(Zij[0,0]== 0)\n",
    "    sub_model.addConstr(sum(Zij[0,i] for i in range(len(distance_mat))) == 1)\n",
    "    # 第六组约束，保证该方案客户不会被重复满足\n",
    "    for i in range(len(distance_mat)-1):\n",
    "        sub_model.addConstr(sum(Zij[i+1,j] for j in range(len(distance_mat))) <= 1)\n",
    "    # 第七组约束，保证经过某节点则会从某节点再出发\n",
    "    for i in range(len(distance_mat)-1):\n",
    "        sub_model.addConstr(sum(Zij[i+1,j] for j in range(len(distance_mat))) - sum(Zij[j,i+1] for j in range(len(distance_mat))) == 0)\n",
    "    \n",
    "    # 执行\n",
    "    sub_model.params.OutputFlag=0\n",
    "    sub_model.params.TimeLimit=50+50*step\n",
    "    sub_model.optimize()\n",
    "    \n",
    "    return sub_model,Zij"
   ]
  },
  {
   "cell_type": "markdown",
   "id": "d0fa0a6f",
   "metadata": {},
   "source": [
    "# 主函数"
   ]
  },
  {
   "cell_type": "code",
   "execution_count": 7,
   "id": "ca71dbf9",
   "metadata": {},
   "outputs": [
    {
     "name": "stdout",
     "output_type": "stream",
     "text": [
      "最小成本为： 3817.583333333334\n",
      "选择路线0 [0, 1, 0]\n",
      "选择路线5 [0, 6, 0]\n",
      "选择路线7 [0, 8, 0]\n",
      "选择路线8 [0, 9, 0]\n",
      "选择路线10 [0, 11, 0]\n",
      "选择路线15 [0, 3, 15, 4, 2, 14, 12, 0]\n",
      "选择路线17 [0, 10, 7, 13, 15, 3, 0]\n",
      "选择路线18 [0, 13, 7, 2, 5, 0]\n",
      "选择路线19 [0, 5, 7, 13, 4, 10, 0]\n",
      "选择路线28 [0, 10, 14, 12, 5, 6, 0]\n",
      "程序运行时间为： 7664.61280465126\n"
     ]
    },
    {
     "data": {
      "image/png": "[encoded data removed]",
      "text/plain": [
       "<Figure size 432x288 with 1 Axes>"
      ]
     },
     "metadata": {
      "needs_background": "light"
     },
     "output_type": "display_data"
    }
   ],
   "source": [
    "# 主函数\n",
    "if __name__ == '__main__':\n",
    "    rmp_model,Dual = rmp_solve(route,Cr,cost,if_route_choose_node)\n",
    "\n",
    "    sub_model,Zij = sub_solve(distance_mat,Dual,car_max_load,max_load,step)\n",
    "\n",
    "    # 更新\n",
    "    # 迭代时间在2h内\n",
    "    while (end - start < 7200) and (sub_model.objVal < 0):\n",
    "        # 计算路线成本\n",
    "        routei_Cr = 0\n",
    "        for i in range(len(distance_mat_init)):\n",
    "            for j in range(len(distance_mat_init)):\n",
    "                routei_Cr+=distance_mat_init[i][j]*Zij[i,j].x\n",
    "        Cr.append(routei_Cr)\n",
    "\n",
    "        # 更新rmp的路线节点选择矩阵\n",
    "        for i in range(1,len(distance_mat)):\n",
    "            if_route_choose_node[i-1].append(sum(Zij[i,j].x for j in range(len(distance_mat))))\n",
    "\n",
    "        # 记录路线的节点顺序\n",
    "        list_save_node = []\n",
    "        for i in range(len(distance_mat)):\n",
    "            for j in range(len(distance_mat)):\n",
    "                if Zij[i,j].x > 0:\n",
    "                    list_save_node.append((i,j))\n",
    "        list_save_path = [0]\n",
    "        while len(list_save_path) < len(list_save_node)+1:\n",
    "            for v in list_save_node:\n",
    "                if list_save_path[-1] == v[0]:\n",
    "                    list_save_path.append(v[1])\n",
    "        route_path = list_save_path[0:len(list_save_node)+1]\n",
    "        route.append(route_path)\n",
    "\n",
    "        # 重新求解rmp\n",
    "        rmp_model,Dual = rmp_solve(route,Cr,cost,if_route_choose_node)\n",
    "\n",
    "        # 重新求解sub\n",
    "        step += 1\n",
    "        sub_model,Zij = sub_solve(distance_mat,Dual,car_max_load,max_load,step)\n",
    "    \n",
    "        # 记录结束时间\n",
    "        end = time.time()\n",
    "\n",
    "        print('最小成本为：',cost[-1])\n",
    "        for i in range(len(route)):\n",
    "            if rmp_model.x[i]>0:\n",
    "                print('选择路线%d'%i,route[i])\n",
    "        print('程序运行时间为：',end-start)\n",
    "        plt.plot(cost)\n",
    "        plt.title('迭代过程')\n",
    "        plt.show()"
   ]
  },
  {
   "cell_type": "markdown",
   "id": "4de77c90",
   "metadata": {},
   "source": [
    "根据上述结果，我们可知在限制了2h的迭代时间内，目前采用列生成算法得到的最后方案成本为3817.58，选择路线为0,5,7,8,10,15,17,18,19,28，其中不同路线可能包含了相同的客户节点。若客户仅被服务一次，则上述路线经过节点可进一步改进，对于已服务的客户节点可不用再提供送货服务，从而降低成本。同时由于在求解子问题时设置了动态求解时间限制（越往后迭代时间越多），每次求解只会得到规定时间内的满意解，因此上述方案可利用一些启发式算法再进行改进，如路线0,5,7,8,10只服务单个客户，可利用节约法进一步降低成本。但是发现上述求解子问题时变量规模以及约束条件个数过多，导致求解时间过长，并不比直接建模求解简单。下面的方法二则直接建立线性模型进行求解。"
   ]
  },
  {
   "cell_type": "markdown",
   "id": "38b3f6f7",
   "metadata": {},
   "source": [
    "# （二）直接建立线性模型求解"
   ]
  },
  {
   "cell_type": "markdown",
   "id": "70106f30",
   "metadata": {},
   "source": [
    "<br/>\n",
    "\n",
    "<br/>\n",
    "\n",
    "<br/>\n",
    "\n",
    "<br/>\n",
    "\n",
    "<br/>\n",
    "\n",
    "<br/>\n",
    "    \n",
    "<br/>\n",
    "\n",
    "<br/>\n",
    "\n",
    "<br/>\n",
    "\n",
    "<br/>\n",
    "\n",
    "<br/>\n",
    "\n",
    "<br/> \n",
    "\n",
    "<br/>\n",
    "\n",
    "<br/>\n",
    "\n",
    "<br/>\n",
    "\n",
    "<br/>\n",
    "\n",
    "<br/>\n",
    "\n",
    "<br/>\n",
    "\n",
    "<br/>\n",
    "\n",
    "<br/>\n",
    "\n",
    "<br/>\n",
    "    \n",
    "<br/>\n",
    "\n",
    "<br/>\n",
    "\n",
    "<br/>\n",
    "\n",
    "<br/>\n",
    "\n",
    "<br/>\n",
    "\n",
    "<br/>\n",
    "    \n",
    "<br/>\n",
    "\n",
    "<br/>\n",
    "\n",
    "<br/>\n",
    "\n",
    "<br/>"
   ]
  },
  {
   "cell_type": "code",
   "execution_count": 1,
   "id": "bcd17d82",
   "metadata": {},
   "outputs": [],
   "source": [
    "import math\n",
    "import pandas as pd\n",
    "import numpy as np\n",
    "import gurobipy as grb\n",
    "import time\n",
    "import matplotlib.pyplot as plt\n",
    "import matplotlib as mpl    \n",
    "mpl.rcParams['font.sans-serif'] = ['SimHei']  #指定默认字体\n",
    "mpl.rcParams['axes.unicode_minus'] = False   #正常显示图像中的负号"
   ]
  },
  {
   "cell_type": "markdown",
   "id": "2033779c",
   "metadata": {},
   "source": [
    "# 初始化"
   ]
  },
  {
   "cell_type": "code",
   "execution_count": 2,
   "id": "761ed9d9",
   "metadata": {},
   "outputs": [],
   "source": [
    "df=pd.read_excel('D:\\\\my_data\\\\cvrp.xls',sheet_name='Sheet1')\n",
    "# 获取节点信息\n",
    "depot=df['节点编号'][0]\n",
    "N = [depot]\n",
    "C = []\n",
    "Q = {}\n",
    "for i in range(1,df.shape[0]):\n",
    "    id=df['节点编号'][i]\n",
    "    demand=df['送货量'][i]\n",
    "    N.append(id)\n",
    "    C.append(id)\n",
    "    Q[id]=int(demand)\n",
    "N = grb.tuplelist(N)\n",
    "C = grb.tuplelist(C)\n",
    "Q = grb.tupledict(Q)\n",
    "\n",
    "# 获取网络弧信息\n",
    "location = []\n",
    "for i in range(len(df)):\n",
    "    location.append(tuple((df['X坐标'][i],df['Y坐标'][i])))\n",
    "Cost = {}\n",
    "per_fare = 5\n",
    "for i in range(len(df)):\n",
    "    for j in range(len(df)):\n",
    "        Cost[i,j] = round(math.sqrt(pow((location[i][0]-location[j][0]),2) + pow((location[i][1]-location[j][1]),2)),0)*per_fare\n",
    "Cost = grb.tupledict(Cost)"
   ]
  },
  {
   "cell_type": "markdown",
   "id": "18843f9e",
   "metadata": {},
   "source": [
    "# 求解模型"
   ]
  },
  {
   "cell_type": "code",
   "execution_count": 6,
   "id": "1c74e28a",
   "metadata": {},
   "outputs": [],
   "source": [
    "# 封装成函数\n",
    "def solveCVRPModel(depot,C,N,Q,Cost,n_vehicles=15,CAP=100):\n",
    "    \"\"\"\n",
    "    :param depot: 车场索引\n",
    "    :param C: 需求点集合\n",
    "    :param N: 所有点集合\n",
    "    :param Q: 需求集合\n",
    "    :param Cost: 弧运输成本集合\n",
    "    :param n_vehicles: 最大车辆数量\n",
    "    :param CAP: 车辆容量\n",
    "    :return:\n",
    "    \"\"\"\n",
    "    # 构建车队\n",
    "    K = grb.tuplelist([f'v'+str(k) for k in range(n_vehicles)])\n",
    "    \n",
    "    # 实例化模型\n",
    "    model = grb.Model('cvrp')\n",
    "    \n",
    "    # 添加变量\n",
    "    X = model.addVars( N,N,K,vtype=grb.GRB.BINARY,name='X[i,j,k]')\n",
    "    Y = model.addVars( K,N,vtype=grb.GRB.BINARY,name='Y[k,i]')\n",
    "    U = model.addVars( K,N,vtype=grb.GRB.CONTINUOUS,name='U[k,i]')\n",
    "    \n",
    "    # 目标函数：最小化路径成本\n",
    "    z1 = grb.quicksum( Cost[i,j]*X[i,j,k] for i in N for j in N for k in K if i!=j)    \n",
    "    model.setObjective(z1,grb.GRB.MINIMIZE)\n",
    "    \n",
    "    # 约束：需求覆盖约束\n",
    "    model.addConstrs( grb.quicksum( Y[k,i] for k in K ) ==1 for i in C )\n",
    "    # 约束：车辆数量约束\n",
    "    model.addConstr( grb.quicksum( Y[k,depot] for k in K) == n_vehicles )\n",
    "    # 约束：流平衡\n",
    "    model.addConstrs( grb.quicksum( X[i,j,k] for j in N ) == grb.quicksum( X[j,i,k] for j in N ) for i in N for k in K )\n",
    "    # 约束：决策变量关联\n",
    "    model.addConstrs( grb.quicksum( X[i,j,k] for j in N ) == Y[k,i] for i in N for k in K )\n",
    "    # 约束：容量限制\n",
    "    model.addConstrs( grb.quicksum( Q[i]*Y[k,i] for i in C ) <= CAP for k in K )\n",
    "    # 约束：破除子环\n",
    "    model.addConstrs( U[k,i]-U[k,j]+CAP*X[i,j,k] <= CAP-Q[i] for i in C for j in C for k in K )\n",
    "    model.addConstrs( Q[i] <= U[k,i] for k in K for i in C )\n",
    "    model.addConstrs( U[k,i] <= CAP for k in K for i in C)\n",
    "    \n",
    "    # 求解\n",
    "    model.params.OutputFlag=0\n",
    "    model.Params.TimeLimit = 3600 # 设置求解时间上限为1h\n",
    "    model.optimize()\n",
    "    if model.status == grb.GRB.Status.OPTIMAL or model.status == grb.GRB.Status.TIME_LIMIT:\n",
    "        print(\"最小成本为:{}\".format(model.objVal))\n",
    "        fig, ax = plt.subplots()\n",
    "        for k in K:\n",
    "            c = (np.random.rand(),np.random.rand(),np.random.rand())\n",
    "            node_x = []\n",
    "            node_y = []           \n",
    "            for i in N: \n",
    "                if i == 0:\n",
    "                    ax.scatter(location[i][0],location[i][1],color='black',marker='d')\n",
    "                    ax.annotate('配送中心', xy=(50, 50), xytext=(60, 60),xycoords='data',arrowprops=dict(facecolor='black', shrink=0.01))\n",
    "                else:\n",
    "                    ax.scatter(location[i][0],location[i][1],color='black')                   \n",
    "                for j in N:\n",
    "                    if i!=j :\n",
    "                        if X[i,j,k].x>0:\n",
    "                            # print(\"X[{},{},{}]=1\".format(i,j,k))\n",
    "                            ax.plot([location[i][0],location[j][0]],[location[i][1],location[j][1]],color=c,linewidth=2)\n",
    "    else:\n",
    "        print(\"no solution\")"
   ]
  },
  {
   "cell_type": "markdown",
   "id": "0a5e20a0",
   "metadata": {},
   "source": [
    "# 主函数"
   ]
  },
  {
   "cell_type": "code",
   "execution_count": 7,
   "id": "d541ca50",
   "metadata": {},
   "outputs": [
    {
     "name": "stdout",
     "output_type": "stream",
     "text": [
      "最小成本为:2705.0\n"
     ]
    },
    {
     "data": {
      "image/png": "[encoded data removed]",
      "text/plain": [
       "<Figure size 432x288 with 1 Axes>"
      ]
     },
     "metadata": {
      "needs_background": "light"
     },
     "output_type": "display_data"
    }
   ],
   "source": [
    "# 调用上述封装函数，可视化规划路径\n",
    "if __name__ == '__main__':\n",
    "    result = solveCVRPModel(depot,C,N,Q,Cost,n_vehicles=15,CAP=100)"
   ]
  },
  {
   "cell_type": "code",
   "execution_count": null,
   "id": "2fe67fa5",
   "metadata": {},
   "outputs": [],
   "source": []
  }
 ],
 "metadata": {
  "kernelspec": {
   "display_name": "Python 3",
   "language": "python",
   "name": "python3"
  },
  "language_info": {
   "codemirror_mode": {
    "name": "ipython",
    "version": 3
   },
   "file_extension": ".py",
   "mimetype": "text/x-python",
   "name": "python",
   "nbconvert_exporter": "python",
   "pygments_lexer": "ipython3",
   "version": "3.8.8"
  }
 },
 "nbformat": 4,
 "nbformat_minor": 5
}
