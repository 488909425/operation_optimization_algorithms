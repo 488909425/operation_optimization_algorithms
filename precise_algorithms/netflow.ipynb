{
 "cells": [
  {
   "cell_type": "markdown",
   "id": "73e44c85",
   "metadata": {},
   "source": [
    "利用gurobi中的三种数据结构Multidict/Tuplelist/Tupledict解决网络流问题\n",
    "\n",
    "应用场景如下：\n",
    "有两个城市A、B，生产了两种商品com1、com2，必须装运到三个城市C、D、E。其中网络的每一条弧都有容量限制以及运输成本"
   ]
  },
  {
   "cell_type": "code",
   "execution_count": 150,
   "id": "78e73742",
   "metadata": {},
   "outputs": [],
   "source": [
    "import gurobipy as grb\n",
    "\n",
    "# 2种商品\n",
    "commodities = ['com1','com2']\n",
    "\n",
    "# 2个产地和3个目的地\n",
    "nodes = ['A','B','C','D','E']\n",
    "\n",
    "# 网络中每条弧的容量，使用Multidict一次性创建多个字典，可迭代\n",
    "# arcs为键，capacity为值\n",
    "arcs, capacity = grb.multidict(\n",
    "{\n",
    "    ('A','C'): 100,\n",
    "    ('A','D'): 80,\n",
    "    ('A','E'): 120,\n",
    "    ('B','C'): 120,\n",
    "    ('B','D'): 120,\n",
    "    ('B','E'): 120\n",
    "})\n",
    "\n",
    "# 商品在不同弧上的运输成本，是tupledict形式(不同于Multidict)，其键在内部存储格式是tuplelist，可以用select/sum/prod等加快变量选取运算\n",
    "cost = {\n",
    "    ('com1','A','C'): 10,\n",
    "    ('com1','A','D'): 20,\n",
    "    ('com1','A','E'): 60,\n",
    "    ('com1','B','C'): 40,\n",
    "    ('com1','B','D'): 40,\n",
    "    ('com1','B','E'): 30,\n",
    "    ('com2','A','C'): 20,\n",
    "    ('com2','A','D'): 20,\n",
    "    ('com2','A','E'): 80,\n",
    "    ('com2','B','C'): 60,\n",
    "    ('com2','B','D'): 70,\n",
    "    ('com2','B','E'): 30\n",
    "}\n",
    "\n",
    "# 商品在不同节点的流入量、流出量/需求量，同样是tupledict形式，可以用select/sum/prod等加快变量选取运算\n",
    "# 正数表示产量、负数表示需求量\n",
    "inflow = {\n",
    "    ('com1','A'): 50,\n",
    "    ('com1','B'): 60,\n",
    "    ('com1','C'): -50,\n",
    "    ('com1','D'): -50,\n",
    "    ('com1','E'): -10,\n",
    "    ('com2','A'): 60,\n",
    "    ('com2','B'): 40,\n",
    "    ('com2','C'): -40,\n",
    "    ('com2','D'): -30,\n",
    "    ('com2','E'): -30\n",
    "}"
   ]
  },
  {
   "cell_type": "code",
   "execution_count": 151,
   "id": "ee3d2005",
   "metadata": {},
   "outputs": [
    {
     "name": "stdout",
     "output_type": "stream",
     "text": [
      "Gurobi Optimizer version 9.1.2 build v9.1.2rc0 (win64)\n",
      "Thread count: 4 physical cores, 8 logical processors, using up to 8 threads\n",
      "Optimize a model with 16 rows, 12 columns and 36 nonzeros\n",
      "Model fingerprint: 0xc43e5943\n",
      "Coefficient statistics:\n",
      "  Matrix range     [1e+00, 1e+00]\n",
      "  Objective range  [1e+01, 8e+01]\n",
      "  Bounds range     [0e+00, 0e+00]\n",
      "  RHS range        [1e+01, 1e+02]\n",
      "Presolve removed 16 rows and 12 columns\n",
      "Presolve time: 0.01s\n",
      "Presolve: All rows and columns removed\n",
      "Iteration    Objective       Primal Inf.    Dual Inf.      Time\n",
      "       0    5.5000000e+03   0.000000e+00   2.000000e+01      0s\n",
      "Extra simplex iterations after uncrush: 1\n",
      "       1    5.5000000e+03   0.000000e+00   0.000000e+00      0s\n",
      "\n",
      "Solved in 1 iterations and 0.02 seconds\n",
      "Optimal objective  5.500000000e+03\n"
     ]
    }
   ],
   "source": [
    "# 创建模型\n",
    "m = grb.Model('netflow')\n",
    "\n",
    "# 创建变量\n",
    "# flow是tupledict类型的变量，可以使用select快速筛选，键是('com1','A','C')格式，值是cost\n",
    "flow = m.addVars(commodities, arcs, obj=cost, name='flow')\n",
    "\n",
    "# 添加容量约束\n",
    "# 使用迭代表达式，i表示产地，j表示目的地\n",
    "# flow.sum('*',i,j)表示对i->j的所有不同商品的总量求和\n",
    "m.addConstrs((flow.sum('*',i,j) <= capacity[i,j] for i,j in arcs), 'cap')\n",
    "\n",
    "# 添加节点流入=流出+需求量的约束\n",
    "# h表示商品，j表示节点，包括产地和目的地\n",
    "# flow.sum(h,'*',j)表示商品h经所有中间节点到达j后的总数量\n",
    "# flow.sum(h,j,'*')表示商品h从j节点流出去的总数量\n",
    "m.addConstrs((flow.sum(h,'*',j) + inflow[h,j] == flow.sum(h,j,'*') for h in commodities for j in nodes), 'node')\n",
    "\n",
    "# 求解模型\n",
    "m.optimize()"
   ]
  },
  {
   "cell_type": "code",
   "execution_count": 152,
   "id": "fd2b0113",
   "metadata": {},
   "outputs": [
    {
     "name": "stdout",
     "output_type": "stream",
     "text": [
      "\n",
      "Optimal flows for com1:\n",
      "A -> C: 50\n",
      "B -> D: 50\n",
      "B -> E: 10\n",
      "\n",
      "Optimal flows for com2:\n",
      "A -> C: 30\n",
      "A -> D: 30\n",
      "B -> C: 10\n",
      "B -> E: 30\n"
     ]
    }
   ],
   "source": [
    "# 输出结果\n",
    "if m.status == grb.GRB.Status.OPTIMAL:\n",
    "    solution = m.getAttr('x',flow)\n",
    "    for h in commodities:\n",
    "        print('\\nOptimal flows for %s:' % h)\n",
    "        for i,j in arcs:\n",
    "            if solution[h,i,j] > 0:\n",
    "                print('%s -> %s: %g' % (i,j,solution[h,i,j]))"
   ]
  },
  {
   "cell_type": "code",
   "execution_count": null,
   "id": "e281d5a7",
   "metadata": {},
   "outputs": [],
   "source": []
  }
 ],
 "metadata": {
  "kernelspec": {
   "display_name": "Python 3",
   "language": "python",
   "name": "python3"
  },
  "language_info": {
   "codemirror_mode": {
    "name": "ipython",
    "version": 3
   },
   "file_extension": ".py",
   "mimetype": "text/x-python",
   "name": "python",
   "nbconvert_exporter": "python",
   "pygments_lexer": "ipython3",
   "version": "3.8.8"
  }
 },
 "nbformat": 4,
 "nbformat_minor": 5
}
