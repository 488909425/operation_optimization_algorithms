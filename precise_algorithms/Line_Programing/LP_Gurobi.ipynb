{
 "cells": [
  {
   "cell_type": "markdown",
   "id": "aae1d432",
   "metadata": {},
   "source": [
    "# EX1\n",
    "## author：陈伟钊"
   ]
  },
  {
   "cell_type": "markdown",
   "id": "107f658c",
   "metadata": {},
   "source": [
    "令xi表示每天喂养的等级 i 的饲料的数量（磅），i＝1,2,3\n",
    "\n",
    "则该模型可被表示如下：\n",
    "\n",
    "\t\t\tmin    0.25 x1 ＋ 0.1 x2 ＋ 0.08 x3\n",
    "    \n",
    "       subject to\n",
    "        \n",
    "\t\t\t0.7 x1 ＋ 0.8 x2   >= 10\n",
    "            \n",
    "\t\t\t0.9 x1 ＋ 0.8 x2 ＋0.8 x3 >= 12\n",
    "            \n",
    "\t\t\t0.8 x1 ＋ 1.5 x2 ＋0.9 x3 >= 15\n",
    "            \n",
    "\t\t\t0.5 x1 ＋ 0.6 x2 ＋0.4 x3 <= 7.5\n",
    "            \n",
    "\t\t\tx1>=0， x2>=0， x3>=0 \n",
    "            \n",
    "下面采用gurobi建模解决"
   ]
  },
  {
   "cell_type": "code",
   "execution_count": 27,
   "id": "e233e6a4",
   "metadata": {},
   "outputs": [
    {
     "name": "stdout",
     "output_type": "stream",
     "text": [
      "Gurobi Optimizer version 9.1.2 build v9.1.2rc0 (win64)\n",
      "Thread count: 4 physical cores, 8 logical processors, using up to 8 threads\n",
      "Optimize a model with 4 rows, 3 columns and 11 nonzeros\n",
      "Model fingerprint: 0x463f66d4\n",
      "Coefficient statistics:\n",
      "  Matrix range     [4e-01, 2e+00]\n",
      "  Objective range  [8e-02, 3e-01]\n",
      "  Bounds range     [0e+00, 0e+00]\n",
      "  RHS range        [8e+00, 2e+01]\n",
      "Presolve time: 0.00s\n",
      "Presolved: 4 rows, 3 columns, 11 nonzeros\n",
      "\n",
      "Iteration    Objective       Primal Inf.    Dual Inf.      Time\n",
      "       0    0.0000000e+00   3.700000e+01   0.000000e+00      0s\n",
      "       4    2.5900000e+00   0.000000e+00   0.000000e+00      0s\n",
      "\n",
      "Solved in 4 iterations and 0.01 seconds\n",
      "Optimal objective  2.590000000e+00\n",
      "\n",
      "Obj: 2.59\n",
      "x[0]：8.0\n",
      "x[1]：5.5\n",
      "x[2]：0.5\n",
      "\n",
      "\n",
      "R0: 0.31\n",
      "R1: 0.67\n",
      "R2: 0.0\n",
      "R3: -1.14\n"
     ]
    }
   ],
   "source": [
    "import gurobipy as grb\n",
    "\n",
    "# 创建模型\n",
    "c = [0.25, 0.1, 0.08]     \n",
    "a = [[0.7, 0.8, 0],\n",
    "     [0.9, 0.8, 0.8],\n",
    "     [0.8, 1.5, 0.9],\n",
    "     [0.5, 0.6, 0.4]\n",
    "    ]\n",
    "b = [10, 12, 15, 7.5]\n",
    "model_ex1 = grb.Model('ex1')\n",
    "\n",
    "# 创建变量\n",
    "x = model_ex1.addVars(3, lb=0, name='x')     #这里定义变量时直接定义下界为0\n",
    "\n",
    "# 更新变量环境\n",
    "model_ex1.update()\n",
    "\n",
    "# 创建目标函数\n",
    "model_ex1.setObjective(x.prod(c), grb.GRB.MINIMIZE)\n",
    "\n",
    "# 创建约束条件\n",
    "model_ex1.addConstrs(x.prod(a[i]) >= b[i] for i in range(3))  #前三个约束为大于等于约束\n",
    "model_ex1.addConstr(x.prod(a[3]) <= b[3])                     #第四个约束为小于等于约束\n",
    "\n",
    "# 执行线性规划模型\n",
    "model_ex1.optimize()\n",
    "\n",
    "#输出结果\n",
    "print(\"\\nObj:\", round(model_ex1.objVal,3))\n",
    "for v in model_ex1.getVars():\n",
    "      print(f\"{v.varName}：{round(v.x,3)}\")\n",
    "print('\\n')\n",
    "for j in model_ex1.getConstrs():\n",
    "    print(f\"{j.constrName}: {round(j.pi,3)}\")                   #Constr.pi表示对偶价格"
   ]
  },
  {
   "cell_type": "markdown",
   "id": "f5d6f03f",
   "metadata": {},
   "source": [
    "根据上述结果，我们可以得到等级1、等级2、等级3的饲料数量分别为8，5.5和0.5，最小成本为2.59，钙、铁、蛋白质和脂肪这四种资源的对偶价格分别为0.31, 0.67, 0, -1.14。"
   ]
  }
 ],
 "metadata": {
  "kernelspec": {
   "display_name": "Python 3",
   "language": "python",
   "name": "python3"
  },
  "language_info": {
   "codemirror_mode": {
    "name": "ipython",
    "version": 3
   },
   "file_extension": ".py",
   "mimetype": "text/x-python",
   "name": "python",
   "nbconvert_exporter": "python",
   "pygments_lexer": "ipython3",
   "version": "3.8.8"
  }
 },
 "nbformat": 4,
 "nbformat_minor": 5
}
