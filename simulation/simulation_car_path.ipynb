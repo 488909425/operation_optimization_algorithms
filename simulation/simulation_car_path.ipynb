{
 "cells": [
  {
   "cell_type": "code",
   "execution_count": 6,
   "id": "27b101ac",
   "metadata": {},
   "outputs": [
    {
     "data": {
      "image/png": "[encoded data removed]",
      "text/plain": [
       "<Figure size 432x288 with 1 Axes>"
      ]
     },
     "metadata": {
      "needs_background": "light"
     },
     "output_type": "display_data"
    }
   ],
   "source": [
    "import matplotlib.pyplot as plt\n",
    "import matplotlib as mpl\n",
    "import numpy as np\n",
    "\n",
    "mpl.rcParams['font.sans-serif'] = ['SimHei']  #指定默认字体\n",
    "mpl.rcParams['axes.unicode_minus'] = False   #正常显示图像中的负号\n",
    "\n",
    "from matplotlib import animation             #动态图模块\n",
    "\n",
    "'''\n",
    "假设一个场景中有3辆卡车，在一个广场上行驶，现需要画出3辆卡车的位置\n",
    "使用类来模拟卡车，该类有3个属性，x和y表示其位置，marker表示卡车标识；\n",
    "1个方法，move表示随机移动了一步，同时使用随机数来模拟卡车随机行驶的效果\n",
    "'''\n",
    "\n",
    "#这是一个卡车类\n",
    "class car():\n",
    "    # 没有默认值的参数在定义时应放在了有默认值的参数的前面，否则会报错\n",
    "    def __init__(self,marker,x=1,y=1):\n",
    "        self.x = x\n",
    "        self.y = y\n",
    "        self.marker = marker\n",
    "    \n",
    "    def move(self):\n",
    "        '''在东南西北4个方向随机选一个方向走一步，步长未定，然后更新坐标'''\n",
    "        # 随机移动一步\n",
    "        self.x = self.x + np.random.randint(low=-1,high=2,size=1)[0]\n",
    "        self.y = self.y + np.random.randint(low=-1,high=2,size=1)[0]\n",
    "        # 防止越界\n",
    "        self.x = self.x if self.x > 0 else 0\n",
    "        self.x = self.x if self.x < 10 else 10\n",
    "        self.y = self.y if self.y > 0 else 0\n",
    "        self.y = self.y if self.y < 10 else 10\n",
    "\n",
    "        \n",
    "# 实例化3辆车\n",
    "cars = [car(marker='o'), car(marker='^'), car(marker='*')]\n",
    "\n",
    "# 绘制一张画布\n",
    "fig = plt.figure()\n",
    "\n",
    "# 模拟1000个时间点\n",
    "i = list(range(1000))\n",
    "\n",
    "# update是核心函数，在每个时间点操作图形对象\n",
    "def update(i):\n",
    "    plt.clf()                      #清空图层\n",
    "    # 对每辆车进行操作\n",
    "    for car in cars:\n",
    "        car.move()                 #移动一步\n",
    "        \n",
    "        x = car.x                  #图层输入数据\n",
    "        y = car.y\n",
    "        marker = car.marker\n",
    "        \n",
    "        plt.xlim(0,10)             #限制图形区域\n",
    "        plt.ylim(0,10)\n",
    "        \n",
    "        plt .scatter(x,y,marker=marker)  #绘制卡车\n",
    "    return\n",
    "\n",
    "\n",
    "# Funcanimation函数为绘制动态图的接口函数，传入参数为图层以及操作函数\n",
    "ani = animation.FuncAnimation(fig,update) \n",
    "ani.save('car.gif',writer='pillow')   #报存为gif动图，否则结果不会显示出动态\n",
    "\n",
    "plt.show()"
   ]
  },
  {
   "cell_type": "code",
   "execution_count": null,
   "id": "7289c815",
   "metadata": {},
   "outputs": [],
   "source": []
  }
 ],
 "metadata": {
  "kernelspec": {
   "display_name": "Python 3",
   "language": "python",
   "name": "python3"
  },
  "language_info": {
   "codemirror_mode": {
    "name": "ipython",
    "version": 3
   },
   "file_extension": ".py",
   "mimetype": "text/x-python",
   "name": "python",
   "nbconvert_exporter": "python",
   "pygments_lexer": "ipython3",
   "version": "3.8.8"
  }
 },
 "nbformat": 4,
 "nbformat_minor": 5
}
