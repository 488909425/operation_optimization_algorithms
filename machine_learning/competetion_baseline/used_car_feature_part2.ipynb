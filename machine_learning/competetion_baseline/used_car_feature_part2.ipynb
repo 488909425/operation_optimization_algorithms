{
 "cells": [
  {
   "cell_type": "code",
   "execution_count": 291,
   "metadata": {},
   "outputs": [],
   "source": [
    "import pandas as pd\n",
    "import numpy as np\n",
    "import matplotlib\n",
    "import matplotlib.pyplot as plt\n",
    "import seaborn as sns\n",
    "from operator import itemgetter\n",
    "%matplotlib inline\n",
    "\n",
    "path1 = 'E:/used_card/used_car_train_20200313/'\n",
    "path2 = 'E:/used_card/used_car_testA_20200313/'\n",
    "Train_data = pd.read_csv(path1+'used_car_train_20200313.csv', sep=' ')\n",
    "Test_data = pd.read_csv(path2+'used_car_testA_20200313.csv', sep=' ')"
   ]
  },
  {
   "cell_type": "code",
   "execution_count": 293,
   "metadata": {},
   "outputs": [],
   "source": [
    "# 删除不需要的数据\n",
    "Train_data = Train_data.drop(['SaleID','name', 'seller', 'offerType'], axis=1)\n",
    "Test_data = Test_data.drop(['name', 'seller', 'offerType'], axis=1)\n",
    "Train_data=Train_data[Train_data['model'].notna()]\n",
    "Train_data=Train_data[Train_data['model']!=247.0]\n",
    "Train_data.reset_index(drop=True, inplace=True)"
   ]
  },
  {
   "cell_type": "code",
   "execution_count": 294,
   "metadata": {},
   "outputs": [],
   "source": [
    "#可以看出来‘ - ’也为空缺值，因为很多模型对nan有直接的处理，这里我们先不做处理，先替换成nan\n",
    "Train_data['notRepairedDamage'].replace('-', np.nan, inplace=True)\n",
    "Test_data['notRepairedDamage'].replace('-', np.nan, inplace=True)"
   ]
  },
  {
   "cell_type": "code",
   "execution_count": 295,
   "metadata": {},
   "outputs": [
    {
     "data": {
      "text/plain": [
       "SaleID                   0\n",
       "regDate                  0\n",
       "model                    0\n",
       "brand                    0\n",
       "bodyType              4506\n",
       "fuelType              8679\n",
       "gearbox               5981\n",
       "power                    0\n",
       "kilometer                0\n",
       "notRepairedDamage    24323\n",
       "regionCode               0\n",
       "creatDate                0\n",
       "price                    0\n",
       "v_0                      0\n",
       "v_1                      0\n",
       "v_2                      0\n",
       "v_3                      0\n",
       "v_4                      0\n",
       "v_5                      0\n",
       "v_6                      0\n",
       "v_7                      0\n",
       "v_8                      0\n",
       "v_9                      0\n",
       "v_10                     0\n",
       "v_11                     0\n",
       "v_12                     0\n",
       "v_13                     0\n",
       "v_14                     0\n",
       "dtype: int64"
      ]
     },
     "execution_count": 295,
     "metadata": {},
     "output_type": "execute_result"
    }
   ],
   "source": [
    "Train_data.isnull().sum()"
   ]
  },
  {
   "cell_type": "code",
   "execution_count": 24,
   "metadata": {},
   "outputs": [
    {
     "name": "stdout",
     "output_type": "stream",
     "text": [
      "[    0     0     0     0     0     0     0     0     0     0     0     0\n",
      "     0     0     0     0     0     0     0     0     0     0     0     0\n",
      "  4506  5981  8680 24324]\n",
      "[ 0 25 24 23 22 21 20 19 18 17 16 15 14 13 12 11 10  8  7  3  2  1 26 27\n",
      "  4  6  5  9]\n"
     ]
    }
   ],
   "source": [
    "'''X_missing_reg = Train_data.copy()\n",
    "#将每个特征中缺失的个数找出来\n",
    "print(np.sort(X_missing_reg.isnull().sum(axis=0)))\n",
    "# 找出缺失值从小到大对应的索引值\n",
    "sortindex = np.argsort(X_missing_reg.isnull().sum(axis=0)).values\n",
    "print(sortindex)'''"
   ]
  },
  {
   "cell_type": "code",
   "execution_count": 18,
   "metadata": {},
   "outputs": [
    {
     "name": "stdout",
     "output_type": "stream",
     "text": [
      "[4 6 5 9]\n"
     ]
    }
   ],
   "source": [
    "'''sortindex=sortindex[-4:]\n",
    "print(sortindex)'''"
   ]
  },
  {
   "cell_type": "code",
   "execution_count": 25,
   "metadata": {},
   "outputs": [
    {
     "name": "stdout",
     "output_type": "stream",
     "text": [
      "<class 'pandas.core.frame.DataFrame'>\n",
      "RangeIndex: 149999 entries, 0 to 149998\n",
      "Data columns (total 32 columns):\n",
      "SaleID               149999 non-null int64\n",
      "regDate              149999 non-null int64\n",
      "model                149999 non-null float64\n",
      "brand                149999 non-null int64\n",
      "bodyType             145493 non-null float64\n",
      "fuelType             141319 non-null float64\n",
      "gearbox              144018 non-null float64\n",
      "power                149999 non-null int64\n",
      "kilometer            149999 non-null float64\n",
      "notRepairedDamage    125675 non-null object\n",
      "regionCode           149999 non-null int64\n",
      "creatDate            149999 non-null int64\n",
      "price                149999 non-null int64\n",
      "v_0                  149999 non-null float64\n",
      "v_1                  149999 non-null float64\n",
      "v_2                  149999 non-null float64\n",
      "v_3                  149999 non-null float64\n",
      "v_4                  149999 non-null float64\n",
      "v_5                  149999 non-null float64\n",
      "v_6                  149999 non-null float64\n",
      "v_7                  149999 non-null float64\n",
      "v_8                  149999 non-null float64\n",
      "v_9                  149999 non-null float64\n",
      "v_10                 149999 non-null float64\n",
      "v_11                 149999 non-null float64\n",
      "v_12                 149999 non-null float64\n",
      "v_13                 149999 non-null float64\n",
      "v_14                 149999 non-null float64\n",
      "4                    4506 non-null float64\n",
      "6                    5981 non-null float64\n",
      "5                    8680 non-null float64\n",
      "9                    24324 non-null float64\n",
      "dtypes: float64(24), int64(7), object(1)\n",
      "memory usage: 36.0+ MB\n"
     ]
    }
   ],
   "source": [
    "'''sortindex=sortindex[-4:]\n",
    "from sklearn.impute import SimpleImputer  # 填充缺失值的类\n",
    "from sklearn.ensemble import RandomForestRegressor  # 随机森林回归\n",
    "\n",
    "#随机森林预测值\n",
    "for i in sortindex:\n",
    "    \n",
    "    # 构建新的特征矩阵和新标签\n",
    "    df = X_missing_reg   # 所有的操作都在df上进行，只是最后得到的填充值作用在X_missing_reg上面\n",
    "    fillc = df.iloc[:, i]   # 某个需要填充的列，索引为i\n",
    "    \n",
    "    # 没有被选中填充（!=）的特征与原始标签的连接起来；df就是新特征矩阵\n",
    "    df = df.iloc[:, df.columns != i]  \n",
    "    \n",
    "    \n",
    "    # 新的特征矩阵df中，对含有缺失值的列，进行0的填补\n",
    "    # 检查是否有0 pd.DataFrame(df_0).isnull().sum() \n",
    "    df_0 = SimpleImputer(missing_values=np.nan, strategy='constant', fill_value=0).fit_transform(df)\n",
    "    \n",
    "    # 找出训练集和测试集\n",
    "    ytrain = fillc[fillc.notnull()]  # 被选中填充的特征矩阵T中的非空值\n",
    "    ytest = fillc[fillc.isnull()]  # 被选中填充的特征矩阵T中的空值\n",
    "    Xtrain = df_0[ytrain.index, :]  # 新特征矩阵上，被选出来要填充的特征的非空值对应的记录\n",
    "    Xtest = df_0[ytest.index, :]   # 空值对应的记录\n",
    "    \n",
    "    # 随机森林填充缺失值\n",
    "    rfc = RandomForestRegressor(n_estimators=100)\n",
    "    rfc = rfc.fit(Xtrain, ytrain)\n",
    "    y_predict = rfc.predict(Xtest)  # predict接口预测\n",
    "    \n",
    "    # 将填补好的特征返回到我们的原始特征矩阵中\n",
    "    X_missing_reg.loc[X_missing_reg.iloc[:, i].isnull(), i] = y_predict\n",
    "    \n",
    "Train_data=X_missing_reg\n",
    "Train_data.info()#空的字符串需要先处理，要先把其他的缺失值包括字符串啥的处理好才行，要求所有数据都是float类型才行！\n",
    "#结果发现随机森林预测出来的最好的填充都是0'''"
   ]
  },
  {
   "cell_type": "code",
   "execution_count": 47,
   "metadata": {},
   "outputs": [
    {
     "data": {
      "text/plain": [
       "0.0    111360\n",
       "1.0     14315\n",
       "Name: notRepairedDamage, dtype: int64"
      ]
     },
     "execution_count": 47,
     "metadata": {},
     "output_type": "execute_result"
    }
   ],
   "source": [
    "'''Train_data['notRepairedDamage'].value_counts()#发现就是每个需要填充的众数也是0'''"
   ]
  },
  {
   "cell_type": "code",
   "execution_count": 303,
   "metadata": {},
   "outputs": [
    {
     "name": "stdout",
     "output_type": "stream",
     "text": [
      "<class 'pandas.core.frame.DataFrame'>\n",
      "RangeIndex: 149998 entries, 0 to 149997\n",
      "Data columns (total 28 columns):\n",
      "SaleID               149998 non-null float64\n",
      "regDate              149998 non-null float64\n",
      "model                149998 non-null float64\n",
      "brand                149998 non-null float64\n",
      "bodyType             149998 non-null float64\n",
      "fuelType             149998 non-null float64\n",
      "gearbox              149998 non-null float64\n",
      "power                149998 non-null float64\n",
      "kilometer            149998 non-null float64\n",
      "notRepairedDamage    149998 non-null float64\n",
      "regionCode           149998 non-null float64\n",
      "creatDate            149998 non-null float64\n",
      "price                149998 non-null float64\n",
      "v_0                  149998 non-null float64\n",
      "v_1                  149998 non-null float64\n",
      "v_2                  149998 non-null float64\n",
      "v_3                  149998 non-null float64\n",
      "v_4                  149998 non-null float64\n",
      "v_5                  149998 non-null float64\n",
      "v_6                  149998 non-null float64\n",
      "v_7                  149998 non-null float64\n",
      "v_8                  149998 non-null float64\n",
      "v_9                  149998 non-null float64\n",
      "v_10                 149998 non-null float64\n",
      "v_11                 149998 non-null float64\n",
      "v_12                 149998 non-null float64\n",
      "v_13                 149998 non-null float64\n",
      "v_14                 149998 non-null float64\n",
      "dtypes: float64(28)\n",
      "memory usage: 32.0 MB\n"
     ]
    },
    {
     "data": {
      "text/plain": [
       "0.0    135683\n",
       "1.0     14315\n",
       "Name: notRepairedDamage, dtype: int64"
      ]
     },
     "execution_count": 303,
     "metadata": {},
     "output_type": "execute_result"
    }
   ],
   "source": [
    "Train_data=Train_data.fillna('0').astype(float)\n",
    "Train_data.info()\n",
    "Train_data.isnull().sum()\n",
    "Train_data['notRepairedDamage'].value_counts()"
   ]
  },
  {
   "cell_type": "code",
   "execution_count": 302,
   "metadata": {},
   "outputs": [
    {
     "data": {
      "text/plain": [
       "0.0    45280\n",
       "1.0     4720\n",
       "Name: notRepairedDamage, dtype: int64"
      ]
     },
     "execution_count": 302,
     "metadata": {},
     "output_type": "execute_result"
    }
   ],
   "source": [
    "#查看测试集是不是也是每个集合也是0是众数，如果是的话用0填充比较好,发现结果都是用0填充比较好\n",
    "Test_data['notRepairedDamage'].value_counts()"
   ]
  },
  {
   "cell_type": "code",
   "execution_count": 301,
   "metadata": {},
   "outputs": [
    {
     "name": "stdout",
     "output_type": "stream",
     "text": [
      "<class 'pandas.core.frame.DataFrame'>\n",
      "RangeIndex: 50000 entries, 0 to 49999\n",
      "Data columns (total 27 columns):\n",
      "SaleID               50000 non-null float64\n",
      "regDate              50000 non-null float64\n",
      "model                50000 non-null float64\n",
      "brand                50000 non-null float64\n",
      "bodyType             50000 non-null float64\n",
      "fuelType             50000 non-null float64\n",
      "gearbox              50000 non-null float64\n",
      "power                50000 non-null float64\n",
      "kilometer            50000 non-null float64\n",
      "notRepairedDamage    50000 non-null float64\n",
      "regionCode           50000 non-null float64\n",
      "creatDate            50000 non-null float64\n",
      "v_0                  50000 non-null float64\n",
      "v_1                  50000 non-null float64\n",
      "v_2                  50000 non-null float64\n",
      "v_3                  50000 non-null float64\n",
      "v_4                  50000 non-null float64\n",
      "v_5                  50000 non-null float64\n",
      "v_6                  50000 non-null float64\n",
      "v_7                  50000 non-null float64\n",
      "v_8                  50000 non-null float64\n",
      "v_9                  50000 non-null float64\n",
      "v_10                 50000 non-null float64\n",
      "v_11                 50000 non-null float64\n",
      "v_12                 50000 non-null float64\n",
      "v_13                 50000 non-null float64\n",
      "v_14                 50000 non-null float64\n",
      "dtypes: float64(27)\n",
      "memory usage: 10.3 MB\n"
     ]
    }
   ],
   "source": [
    "Test_data=Test_data.fillna('0').astype(float)\n",
    "Test_data.info()"
   ]
  },
  {
   "cell_type": "code",
   "execution_count": 62,
   "metadata": {},
   "outputs": [
    {
     "data": {
      "text/plain": [
       "0    20040402\n",
       "1    20030301\n",
       "2    20040403\n",
       "3    19960908\n",
       "4    20120103\n",
       "0    20160404\n",
       "1    20160309\n",
       "2    20160402\n",
       "3    20160312\n",
       "4    20160313\n",
       "dtype: int64"
      ]
     },
     "execution_count": 62,
     "metadata": {},
     "output_type": "execute_result"
    }
   ],
   "source": [
    "Train_data['regDate'].head(5).append(Train_data['creatDate'].head(5))"
   ]
  },
  {
   "cell_type": "code",
   "execution_count": 72,
   "metadata": {},
   "outputs": [
    {
     "name": "stdout",
     "output_type": "stream",
     "text": [
      "<class 'pandas.core.frame.DataFrame'>\n",
      "RangeIndex: 149999 entries, 0 to 149998\n",
      "Data columns (total 29 columns):\n",
      "SaleID               149999 non-null int64\n",
      "regDate              149999 non-null int64\n",
      "model                149999 non-null float64\n",
      "brand                149999 non-null int64\n",
      "bodyType             149999 non-null object\n",
      "fuelType             149999 non-null object\n",
      "gearbox              149999 non-null object\n",
      "power                149999 non-null int64\n",
      "kilometer            149999 non-null float64\n",
      "notRepairedDamage    149999 non-null object\n",
      "regionCode           149999 non-null int64\n",
      "creatDate            149999 non-null int64\n",
      "price                149999 non-null int64\n",
      "v_0                  149999 non-null float64\n",
      "v_1                  149999 non-null float64\n",
      "v_2                  149999 non-null float64\n",
      "v_3                  149999 non-null float64\n",
      "v_4                  149999 non-null float64\n",
      "v_5                  149999 non-null float64\n",
      "v_6                  149999 non-null float64\n",
      "v_7                  149999 non-null float64\n",
      "v_8                  149999 non-null float64\n",
      "v_9                  149999 non-null float64\n",
      "v_10                 149999 non-null float64\n",
      "v_11                 149999 non-null float64\n",
      "v_12                 149999 non-null float64\n",
      "v_13                 149999 non-null float64\n",
      "v_14                 149999 non-null float64\n",
      "usetime              149999 non-null int32\n",
      "dtypes: float64(17), int32(1), int64(7), object(4)\n",
      "memory usage: 30.3+ MB\n"
     ]
    }
   ],
   "source": [
    "#构造汽车使用时间的特征\n",
    "'''T2 = Train_data.copy()\n",
    "T2['use_year']=(T2['creatDate']/10000).astype(int)-(T2['regDate']/10000).astype(int)\n",
    "T2['use_year'].sort_values()\n",
    "T2['use_month']=((T2['creatDate']%10000)/100).astype(int)-((T2['regDate']%10000)/100).astype(int)\n",
    "T2['use_month'].sort_values()\n",
    "T2['use_day']=(T2['creatDate']%100).astype(int)-(T2['regDate']%100).astype(int)\n",
    "T2['use_day'].sort_values()\n",
    "T2['usetime']=T2['use_year']*365+T2['use_month']*30+T2['use_day']\n",
    "T2['usetime'].sort_values()'''\n",
    "Train_data = T2.drop(['use_year', 'use_month', 'use_day'], axis=1)\n",
    "Train_data.info()"
   ]
  },
  {
   "cell_type": "code",
   "execution_count": 74,
   "metadata": {},
   "outputs": [
    {
     "name": "stdout",
     "output_type": "stream",
     "text": [
      "<class 'pandas.core.frame.DataFrame'>\n",
      "RangeIndex: 50000 entries, 0 to 49999\n",
      "Data columns (total 28 columns):\n",
      "SaleID               50000 non-null int64\n",
      "regDate              50000 non-null int64\n",
      "model                50000 non-null float64\n",
      "brand                50000 non-null int64\n",
      "bodyType             50000 non-null object\n",
      "fuelType             50000 non-null object\n",
      "gearbox              50000 non-null object\n",
      "power                50000 non-null int64\n",
      "kilometer            50000 non-null float64\n",
      "notRepairedDamage    50000 non-null object\n",
      "regionCode           50000 non-null int64\n",
      "creatDate            50000 non-null int64\n",
      "v_0                  50000 non-null float64\n",
      "v_1                  50000 non-null float64\n",
      "v_2                  50000 non-null float64\n",
      "v_3                  50000 non-null float64\n",
      "v_4                  50000 non-null float64\n",
      "v_5                  50000 non-null float64\n",
      "v_6                  50000 non-null float64\n",
      "v_7                  50000 non-null float64\n",
      "v_8                  50000 non-null float64\n",
      "v_9                  50000 non-null float64\n",
      "v_10                 50000 non-null float64\n",
      "v_11                 50000 non-null float64\n",
      "v_12                 50000 non-null float64\n",
      "v_13                 50000 non-null float64\n",
      "v_14                 50000 non-null float64\n",
      "usetime              50000 non-null int32\n",
      "dtypes: float64(17), int32(1), int64(6), object(4)\n",
      "memory usage: 9.7+ MB\n"
     ]
    }
   ],
   "source": [
    "#构造测试集汽车使用时间的特征\n",
    "T2 = Test_data.copy()\n",
    "T2['use_year']=(T2['creatDate']/10000).astype(int)-(T2['regDate']/10000).astype(int)\n",
    "T2['use_year'].sort_values()\n",
    "T2['use_month']=((T2['creatDate']%10000)/100).astype(int)-((T2['regDate']%10000)/100).astype(int)\n",
    "T2['use_month'].sort_values()\n",
    "T2['use_day']=(T2['creatDate']%100).astype(int)-(T2['regDate']%100).astype(int)\n",
    "T2['use_day'].sort_values()\n",
    "T2['usetime']=T2['use_year']*365+T2['use_month']*30+T2['use_day']\n",
    "T2['usetime'].sort_values()\n",
    "Test_data = T2.drop(['use_year', 'use_month', 'use_day'], axis=1)\n",
    "Test_data.info()"
   ]
  },
  {
   "cell_type": "code",
   "execution_count": 118,
   "metadata": {},
   "outputs": [
    {
     "name": "stdout",
     "output_type": "stream",
     "text": [
      "<class 'pandas.core.frame.DataFrame'>\n",
      "RangeIndex: 50000 entries, 0 to 49999\n",
      "Data columns (total 27 columns):\n",
      "SaleID               50000 non-null int64\n",
      "model                50000 non-null float64\n",
      "brand                50000 non-null int64\n",
      "bodyType             50000 non-null object\n",
      "fuelType             50000 non-null object\n",
      "gearbox              50000 non-null object\n",
      "power                50000 non-null int64\n",
      "kilometer            50000 non-null float64\n",
      "notRepairedDamage    50000 non-null object\n",
      "creatDate            50000 non-null int64\n",
      "v_0                  50000 non-null float64\n",
      "v_1                  50000 non-null float64\n",
      "v_2                  50000 non-null float64\n",
      "v_3                  50000 non-null float64\n",
      "v_4                  50000 non-null float64\n",
      "v_5                  50000 non-null float64\n",
      "v_6                  50000 non-null float64\n",
      "v_7                  50000 non-null float64\n",
      "v_8                  50000 non-null float64\n",
      "v_9                  50000 non-null float64\n",
      "v_10                 50000 non-null float64\n",
      "v_11                 50000 non-null float64\n",
      "v_12                 50000 non-null float64\n",
      "v_13                 50000 non-null float64\n",
      "v_14                 50000 non-null float64\n",
      "usetime              50000 non-null int32\n",
      "city                 50000 non-null object\n",
      "dtypes: float64(17), int32(1), int64(4), object(5)\n",
      "memory usage: 9.2+ MB\n"
     ]
    }
   ],
   "source": [
    "# 从邮编中提取城市信息，相当于加入了先验知识\n",
    "#Train_data['city'] = data['regionCode'].apply(lambda x : str(x)[:-3])\n",
    "#Train_data=Train_data.drop('regionCode',axis=1)\n",
    "#Test_data['city'] = Test_data['regionCode'].apply(lambda x : str(x)[:-3])\n",
    "#Test_data=Test_data.drop('regionCode',axis=1)\n",
    "Test_data.info()\n"
   ]
  },
  {
   "cell_type": "code",
   "execution_count": 137,
   "metadata": {
    "scrolled": true
   },
   "outputs": [
    {
     "data": {
      "text/plain": [
       "[Timestamp('2015-06-01 00:00:00'),\n",
       " Timestamp('2015-07-01 00:00:00'),\n",
       " Timestamp('2015-08-01 00:00:00'),\n",
       " Timestamp('2015-09-01 00:00:00'),\n",
       " Timestamp('2015-10-01 00:00:00'),\n",
       " Timestamp('2015-11-01 00:00:00'),\n",
       " Timestamp('2015-12-01 00:00:00'),\n",
       " Timestamp('2016-01-01 00:00:00'),\n",
       " Timestamp('2016-02-01 00:00:00'),\n",
       " Timestamp('2016-03-01 00:00:00'),\n",
       " Timestamp('2016-04-01 00:00:00'),\n",
       " Timestamp('2016-05-01 00:00:00')]"
      ]
     },
     "execution_count": 137,
     "metadata": {},
     "output_type": "execute_result"
    }
   ],
   "source": [
    "#数据分桶，汽车购买时间区间\n",
    "bin_array=pd.to_datetime(np.array([20150601,20150701,20150801,20150901,20151001,20151101,20151201,20160101,20160201,20160301,20160401,20160501]),format='%Y%m%d',errors='coerce')\n",
    "bin=bin_array.tolist()\n",
    "bin"
   ]
  },
  {
   "cell_type": "code",
   "execution_count": 139,
   "metadata": {},
   "outputs": [
    {
     "data": {
      "text/html": [
       "<div>\n",
       "<style scoped>\n",
       "    .dataframe tbody tr th:only-of-type {\n",
       "        vertical-align: middle;\n",
       "    }\n",
       "\n",
       "    .dataframe tbody tr th {\n",
       "        vertical-align: top;\n",
       "    }\n",
       "\n",
       "    .dataframe thead th {\n",
       "        text-align: right;\n",
       "    }\n",
       "</style>\n",
       "<table border=\"1\" class=\"dataframe\">\n",
       "  <thead>\n",
       "    <tr style=\"text-align: right;\">\n",
       "      <th></th>\n",
       "      <th>bought_time_bin</th>\n",
       "      <th>bought_time</th>\n",
       "    </tr>\n",
       "  </thead>\n",
       "  <tbody>\n",
       "    <tr>\n",
       "      <th>0</th>\n",
       "      <td>11</td>\n",
       "      <td>2016-04-04</td>\n",
       "    </tr>\n",
       "    <tr>\n",
       "      <th>1</th>\n",
       "      <td>10</td>\n",
       "      <td>2016-03-09</td>\n",
       "    </tr>\n",
       "    <tr>\n",
       "      <th>2</th>\n",
       "      <td>11</td>\n",
       "      <td>2016-04-02</td>\n",
       "    </tr>\n",
       "    <tr>\n",
       "      <th>3</th>\n",
       "      <td>10</td>\n",
       "      <td>2016-03-12</td>\n",
       "    </tr>\n",
       "    <tr>\n",
       "      <th>4</th>\n",
       "      <td>10</td>\n",
       "      <td>2016-03-13</td>\n",
       "    </tr>\n",
       "  </tbody>\n",
       "</table>\n",
       "</div>"
      ],
      "text/plain": [
       "  bought_time_bin bought_time\n",
       "0              11  2016-04-04\n",
       "1              10  2016-03-09\n",
       "2              11  2016-04-02\n",
       "3              10  2016-03-12\n",
       "4              10  2016-03-13"
      ]
     },
     "execution_count": 139,
     "metadata": {},
     "output_type": "execute_result"
    }
   ],
   "source": [
    "#数据分桶\n",
    "Train_data['bought_time'] = pd.to_datetime(Train_data['creatDate'], format='%Y%m%d', errors='coerce')\n",
    "Train_data['bought_time_bin'] = pd.cut(Train_data['bought_time'], bin, labels=[1,2,3,4,5,6,7,8,9,10,11]) #用数字代表两者之间的区间，表示购买时间# 对类别特征进行 OneEncoder\n",
    "data = pd.get_dummies(data, columns=['model', 'brand', 'bodyType', 'fuelType',\n",
    "                                     'gearbox', 'notRepairedDamage', 'power_bin'])\n",
    "Train_data[['bought_time_bin', 'bought_time']].head()"
   ]
  },
  {
   "cell_type": "code",
   "execution_count": 147,
   "metadata": {},
   "outputs": [
    {
     "data": {
      "text/html": [
       "<div>\n",
       "<style scoped>\n",
       "    .dataframe tbody tr th:only-of-type {\n",
       "        vertical-align: middle;\n",
       "    }\n",
       "\n",
       "    .dataframe tbody tr th {\n",
       "        vertical-align: top;\n",
       "    }\n",
       "\n",
       "    .dataframe thead th {\n",
       "        text-align: right;\n",
       "    }\n",
       "</style>\n",
       "<table border=\"1\" class=\"dataframe\">\n",
       "  <thead>\n",
       "    <tr style=\"text-align: right;\">\n",
       "      <th></th>\n",
       "      <th>bought_time_bin</th>\n",
       "      <th>bought_time</th>\n",
       "    </tr>\n",
       "  </thead>\n",
       "  <tbody>\n",
       "    <tr>\n",
       "      <th>0</th>\n",
       "      <td>10</td>\n",
       "      <td>2016-03-29</td>\n",
       "    </tr>\n",
       "    <tr>\n",
       "      <th>1</th>\n",
       "      <td>11</td>\n",
       "      <td>2016-04-04</td>\n",
       "    </tr>\n",
       "    <tr>\n",
       "      <th>2</th>\n",
       "      <td>10</td>\n",
       "      <td>2016-03-08</td>\n",
       "    </tr>\n",
       "    <tr>\n",
       "      <th>3</th>\n",
       "      <td>10</td>\n",
       "      <td>2016-03-25</td>\n",
       "    </tr>\n",
       "    <tr>\n",
       "      <th>4</th>\n",
       "      <td>10</td>\n",
       "      <td>2016-03-09</td>\n",
       "    </tr>\n",
       "  </tbody>\n",
       "</table>\n",
       "</div>"
      ],
      "text/plain": [
       "  bought_time_bin bought_time\n",
       "0              10  2016-03-29\n",
       "1              11  2016-04-04\n",
       "2              10  2016-03-08\n",
       "3              10  2016-03-25\n",
       "4              10  2016-03-09"
      ]
     },
     "execution_count": 147,
     "metadata": {},
     "output_type": "execute_result"
    }
   ],
   "source": [
    "Test_data['bought_time'] = pd.to_datetime(Test_data['creatDate'], format='%Y%m%d', errors='coerce')\n",
    "Test_data['bought_time_bin'] = pd.cut(Test_data['bought_time'], bin, labels=[1,2,3,4,5,6,7,8,9,10,11]) #用数字代表两者之间的区间.1表示2015年6月到7月，以此类推\n",
    "Test_data[['bought_time_bin', 'bought_time']].head()"
   ]
  },
  {
   "cell_type": "code",
   "execution_count": 153,
   "metadata": {},
   "outputs": [],
   "source": [
    "Train_data=Train_data.drop(['buy_time','bought_time','creatDate'],axis=1)\n",
    "Test_data=Test_data.drop(['bought_time','creatDate'],axis=1)"
   ]
  },
  {
   "cell_type": "code",
   "execution_count": 155,
   "metadata": {},
   "outputs": [],
   "source": [
    "# 这里要以 train 的数据计算统计量\n",
    "Train_gb = Train_data.groupby(\"brand\")\n",
    "all_info = {}\n",
    "for kind, kind_data in Train_gb:\n",
    "    info = {}\n",
    "    kind_data = kind_data[kind_data['price'] > 0]\n",
    "    info['brand_amount'] = len(kind_data)\n",
    "    info['brand_price_max'] = kind_data.price.max()\n",
    "    info['brand_price_median'] = kind_data.price.median()\n",
    "    info['brand_price_min'] = kind_data.price.min()\n",
    "    info['brand_price_sum'] = kind_data.price.sum()\n",
    "    info['brand_price_std'] = kind_data.price.std()\n",
    "    info['brand_price_average'] = round(kind_data.price.sum() / (len(kind_data) + 1), 2)\n",
    "    all_info[kind] = info\n",
    "#print(all_info)\n",
    "#brand_fe = pd.DataFrame(all_info).T.reset_index().rename(columns={\"index\": \"brand\"})    #逐步分解看怎么操作的\n",
    "#print(brand_fe)\n",
    "brand_fe = pd.DataFrame(all_info).T.reset_index().rename(columns={\"index\": \"brand\"})\n",
    "Train_data = Train_data.merge(brand_fe, how='left', on='brand')\n",
    "Test_data = Test_data.merge(brand_fe, how='left', on='brand')"
   ]
  },
  {
   "cell_type": "code",
   "execution_count": 162,
   "metadata": {},
   "outputs": [
    {
     "data": {
      "text/plain": [
       "<matplotlib.axes._subplots.AxesSubplot at 0x2380b590>"
      ]
     },
     "execution_count": 162,
     "metadata": {},
     "output_type": "execute_result"
    },
    {
     "data": {
      "image/png": "[encoded data removed]",
      "text/plain": [
       "<Figure size 432x288 with 1 Axes>"
      ]
     },
     "metadata": {
      "needs_background": "light"
     },
     "output_type": "display_data"
    }
   ],
   "source": [
    "T4=Train_data.copy()\n",
    "T4['power']=T4['power'].apply(lambda x:600 if x>600 else x)\n",
    "T4['power'].plot.hist()\n",
    "Train_data=T4\n",
    "Train_data['power'].plot.hist()\n",
    "Test_data['power']=Test_data['power'].apply(lambda x:600 if x>600 else x)\n",
    "Test_data['power'].plot.hist()"
   ]
  },
  {
   "cell_type": "code",
   "execution_count": 167,
   "metadata": {},
   "outputs": [
    {
     "data": {
      "text/html": [
       "<div>\n",
       "<style scoped>\n",
       "    .dataframe tbody tr th:only-of-type {\n",
       "        vertical-align: middle;\n",
       "    }\n",
       "\n",
       "    .dataframe tbody tr th {\n",
       "        vertical-align: top;\n",
       "    }\n",
       "\n",
       "    .dataframe thead th {\n",
       "        text-align: right;\n",
       "    }\n",
       "</style>\n",
       "<table border=\"1\" class=\"dataframe\">\n",
       "  <thead>\n",
       "    <tr style=\"text-align: right;\">\n",
       "      <th></th>\n",
       "      <th>power_bin</th>\n",
       "      <th>power</th>\n",
       "    </tr>\n",
       "  </thead>\n",
       "  <tbody>\n",
       "    <tr>\n",
       "      <th>0</th>\n",
       "      <td>4</td>\n",
       "      <td>60</td>\n",
       "    </tr>\n",
       "    <tr>\n",
       "      <th>1</th>\n",
       "      <td>0</td>\n",
       "      <td>0</td>\n",
       "    </tr>\n",
       "    <tr>\n",
       "      <th>2</th>\n",
       "      <td>9</td>\n",
       "      <td>163</td>\n",
       "    </tr>\n",
       "    <tr>\n",
       "      <th>3</th>\n",
       "      <td>10</td>\n",
       "      <td>193</td>\n",
       "    </tr>\n",
       "    <tr>\n",
       "      <th>4</th>\n",
       "      <td>4</td>\n",
       "      <td>68</td>\n",
       "    </tr>\n",
       "  </tbody>\n",
       "</table>\n",
       "</div>"
      ],
      "text/plain": [
       "  power_bin  power\n",
       "0         4     60\n",
       "1         0      0\n",
       "2         9    163\n",
       "3        10    193\n",
       "4         4     68"
      ]
     },
     "execution_count": 167,
     "metadata": {},
     "output_type": "execute_result"
    }
   ],
   "source": [
    "bin = [0,1,20,40,60,80,100,120,140,160,180,200,250,300,400,500,601]\n",
    "Train_data['power_bin'] = pd.cut(Train_data['power'], bin, right=False,labels=[0,1,2,3,4,5,6,7,8,9,10,11,12,13,14,15]) #包括左边的区间值，也就是0\n",
    "Train_data[['power_bin', 'power']].head()"
   ]
  },
  {
   "cell_type": "code",
   "execution_count": 168,
   "metadata": {},
   "outputs": [
    {
     "data": {
      "text/html": [
       "<div>\n",
       "<style scoped>\n",
       "    .dataframe tbody tr th:only-of-type {\n",
       "        vertical-align: middle;\n",
       "    }\n",
       "\n",
       "    .dataframe tbody tr th {\n",
       "        vertical-align: top;\n",
       "    }\n",
       "\n",
       "    .dataframe thead th {\n",
       "        text-align: right;\n",
       "    }\n",
       "</style>\n",
       "<table border=\"1\" class=\"dataframe\">\n",
       "  <thead>\n",
       "    <tr style=\"text-align: right;\">\n",
       "      <th></th>\n",
       "      <th>power_bin</th>\n",
       "      <th>power</th>\n",
       "    </tr>\n",
       "  </thead>\n",
       "  <tbody>\n",
       "    <tr>\n",
       "      <th>0</th>\n",
       "      <td>13</td>\n",
       "      <td>313</td>\n",
       "    </tr>\n",
       "    <tr>\n",
       "      <th>1</th>\n",
       "      <td>4</td>\n",
       "      <td>75</td>\n",
       "    </tr>\n",
       "    <tr>\n",
       "      <th>2</th>\n",
       "      <td>6</td>\n",
       "      <td>109</td>\n",
       "    </tr>\n",
       "    <tr>\n",
       "      <th>3</th>\n",
       "      <td>9</td>\n",
       "      <td>160</td>\n",
       "    </tr>\n",
       "    <tr>\n",
       "      <th>4</th>\n",
       "      <td>4</td>\n",
       "      <td>75</td>\n",
       "    </tr>\n",
       "  </tbody>\n",
       "</table>\n",
       "</div>"
      ],
      "text/plain": [
       "  power_bin  power\n",
       "0        13    313\n",
       "1         4     75\n",
       "2         6    109\n",
       "3         9    160\n",
       "4         4     75"
      ]
     },
     "execution_count": 168,
     "metadata": {},
     "output_type": "execute_result"
    }
   ],
   "source": [
    "bin = [0,1,20,40,60,80,100,120,140,160,180,200,250,300,400,500,601]\n",
    "Test_data['power_bin'] = pd.cut(Test_data['power'], bin, right=False,labels=[0,1,2,3,4,5,6,7,8,9,10,11,12,13,14,15]) #包括左边的区间值，也就是0\n",
    "Test_data[['power_bin', 'power']].head()"
   ]
  },
  {
   "cell_type": "code",
   "execution_count": 191,
   "metadata": {},
   "outputs": [
    {
     "name": "stdout",
     "output_type": "stream",
     "text": [
      "<class 'pandas.core.frame.DataFrame'>\n",
      "Int64Index: 149999 entries, 0 to 149998\n",
      "Data columns (total 36 columns):\n",
      "SaleID                 149999 non-null int64\n",
      "model                  149999 non-null float64\n",
      "brand                  149999 non-null int64\n",
      "bodyType               149999 non-null float64\n",
      "fuelType               149999 non-null float64\n",
      "gearbox                149999 non-null float64\n",
      "power                  149999 non-null int64\n",
      "kilometer              149999 non-null float64\n",
      "notRepairedDamage      149999 non-null float64\n",
      "price                  149999 non-null int64\n",
      "v_0                    149999 non-null float64\n",
      "v_1                    149999 non-null float64\n",
      "v_2                    149999 non-null float64\n",
      "v_3                    149999 non-null float64\n",
      "v_4                    149999 non-null float64\n",
      "v_5                    149999 non-null float64\n",
      "v_6                    149999 non-null float64\n",
      "v_7                    149999 non-null float64\n",
      "v_8                    149999 non-null float64\n",
      "v_9                    149999 non-null float64\n",
      "v_10                   149999 non-null float64\n",
      "v_11                   149999 non-null float64\n",
      "v_12                   149999 non-null float64\n",
      "v_13                   149999 non-null float64\n",
      "v_14                   149999 non-null float64\n",
      "usetime                149999 non-null int32\n",
      "city                   149999 non-null object\n",
      "bought_time_bin        149999 non-null category\n",
      "brand_amount           149999 non-null float64\n",
      "brand_price_max        149999 non-null float64\n",
      "brand_price_median     149999 non-null float64\n",
      "brand_price_min        149999 non-null float64\n",
      "brand_price_sum        149999 non-null float64\n",
      "brand_price_std        149999 non-null float64\n",
      "brand_price_average    149999 non-null float64\n",
      "power_bin              149999 non-null category\n",
      "dtypes: category(2), float64(28), int32(1), int64(4), object(1)\n",
      "memory usage: 39.2+ MB\n",
      "<class 'pandas.core.frame.DataFrame'>\n",
      "Int64Index: 50000 entries, 0 to 49999\n",
      "Data columns (total 35 columns):\n",
      "SaleID                 50000 non-null int64\n",
      "model                  50000 non-null float64\n",
      "brand                  50000 non-null int64\n",
      "bodyType               50000 non-null float64\n",
      "fuelType               50000 non-null float64\n",
      "gearbox                50000 non-null float64\n",
      "power                  50000 non-null int64\n",
      "kilometer              50000 non-null float64\n",
      "notRepairedDamage      50000 non-null float64\n",
      "v_0                    50000 non-null float64\n",
      "v_1                    50000 non-null float64\n",
      "v_2                    50000 non-null float64\n",
      "v_3                    50000 non-null float64\n",
      "v_4                    50000 non-null float64\n",
      "v_5                    50000 non-null float64\n",
      "v_6                    50000 non-null float64\n",
      "v_7                    50000 non-null float64\n",
      "v_8                    50000 non-null float64\n",
      "v_9                    50000 non-null float64\n",
      "v_10                   50000 non-null float64\n",
      "v_11                   50000 non-null float64\n",
      "v_12                   50000 non-null float64\n",
      "v_13                   50000 non-null float64\n",
      "v_14                   50000 non-null float64\n",
      "usetime                50000 non-null int32\n",
      "city                   50000 non-null object\n",
      "bought_time_bin        50000 non-null category\n",
      "brand_amount           50000 non-null float64\n",
      "brand_price_max        50000 non-null float64\n",
      "brand_price_median     50000 non-null float64\n",
      "brand_price_min        50000 non-null float64\n",
      "brand_price_sum        50000 non-null float64\n",
      "brand_price_std        50000 non-null float64\n",
      "brand_price_average    50000 non-null float64\n",
      "power_bin              50000 non-null category\n",
      "dtypes: category(2), float64(28), int32(1), int64(3), object(1)\n",
      "memory usage: 12.7+ MB\n"
     ]
    }
   ],
   "source": [
    "Train_data.info()\n",
    "Test_data.info()"
   ]
  },
  {
   "cell_type": "code",
   "execution_count": 190,
   "metadata": {},
   "outputs": [
    {
     "data": {
      "text/plain": [
       "0.0    135684\n",
       "1.0     14315\n",
       "Name: notRepairedDamage, dtype: int64"
      ]
     },
     "execution_count": 190,
     "metadata": {},
     "output_type": "execute_result"
    }
   ],
   "source": [
    "#检查各变量\n",
    "#Test_data['fuelType']=Test_data['fuelType'].astype(float)\n",
    "Train_data['notRepairedDamage'].value_counts()"
   ]
  },
  {
   "cell_type": "code",
   "execution_count": 195,
   "metadata": {},
   "outputs": [],
   "source": [
    "# 目前的数据其实已经可以给树模型使用了，所以我们导出一下\n",
    "Train_data.to_csv('E:\\Traindata_for_tree_own.csv', index=0)\n",
    "Test_data.to_csv('E:\\Testdata_for_tree_own.csv', index=0)"
   ]
  },
  {
   "cell_type": "code",
   "execution_count": 196,
   "metadata": {},
   "outputs": [
    {
     "data": {
      "text/plain": [
       "<matplotlib.axes._subplots.AxesSubplot at 0x23c5c5b0>"
      ]
     },
     "execution_count": 196,
     "metadata": {},
     "output_type": "execute_result"
    },
    {
     "data": {
      "image/png": "[encoded data removed]",
      "text/plain": [
       "<Figure size 432x288 with 1 Axes>"
      ]
     },
     "metadata": {
      "needs_background": "light"
     },
     "output_type": "display_data"
    }
   ],
   "source": [
    "# 我们可以再构造一份特征给 LR NN 之类的模型用\n",
    "# 之所以分开构造是因为，不同模型对数据集的要求不同\n",
    "\n",
    "#归一化的数据最好服从正态分布，不要有离群点太大或太小影响，所以连续变量归一化前看图\n",
    "\n",
    "Train_data['power'].plot.hist()\n",
    "Test_data['power'].plot.hist() #这样子便可以直接归一化了"
   ]
  },
  {
   "cell_type": "code",
   "execution_count": 205,
   "metadata": {},
   "outputs": [
    {
     "data": {
      "text/plain": [
       "<matplotlib.axes._subplots.AxesSubplot at 0x26108870>"
      ]
     },
     "execution_count": 205,
     "metadata": {},
     "output_type": "execute_result"
    },
    {
     "data": {
      "image/png": "[encoded data removed]",
      "text/plain": [
       "<Figure size 432x288 with 1 Axes>"
      ]
     },
     "metadata": {
      "needs_background": "light"
     },
     "output_type": "display_data"
    }
   ],
   "source": [
    "#归一化后再画图看看\n",
    "#如果不是特别符合正态分布的图试试对数转化后再看看\n",
    "\n",
    "#T1=Train_data.copy()\n",
    "#T2=Test_data.copy()\n",
    "# 我们对其取 log，在做归一化\n",
    "#from sklearn import preprocessing \n",
    "#min_max_scaler = preprocessing.MinMaxScaler()\n",
    "#T1['power'] = np.log(T1['power'] + 1) \n",
    "#T2['power'] = np.log(T2['power'] + 1) \n",
    "#T1['power'].plot.hist()\n",
    "#T2['power'].plot.hist() \n",
    "#T1['power'] = ((data['power'] - np.min(data['power'])) / (np.max(data['power']) - np.min(data['power'])))\n",
    "#data['power'].plot.hist()  \n",
    "#感觉不需要归一化效果也可以,所以自己没归一化\n",
    "\n",
    "Train_data['power'] = ((Train_data['power'] - np.min(Train_data['power'])) / \n",
    "                        (np.max(Train_data['power']) - np.min(Train_data['power'])))\n",
    "Train_data['power'].plot.hist()\n",
    "Test_data['power'] = ((Test_data['power'] - np.min(Test_data['power'])) / \n",
    "                        (np.max(Test_data['power']) - np.min(Test_data['power'])))\n",
    "Test_data['power'].plot.hist()"
   ]
  },
  {
   "cell_type": "code",
   "execution_count": 204,
   "metadata": {},
   "outputs": [
    {
     "data": {
      "text/plain": [
       "<matplotlib.axes._subplots.AxesSubplot at 0x260b4b30>"
      ]
     },
     "execution_count": 204,
     "metadata": {},
     "output_type": "execute_result"
    },
    {
     "data": {
      "image/png": "[encoded data removed]",
      "text/plain": [
       "<Figure size 432x288 with 1 Axes>"
      ]
     },
     "metadata": {
      "needs_background": "light"
     },
     "output_type": "display_data"
    }
   ],
   "source": [
    "#Train_data['kilometer'].plot.hist()\n",
    "#Test_data['kilometer'].plot.hist()\n",
    "\n",
    "# 所以我们可以直接做归一化\n",
    "Train_data['kilometer'] = ((Train_data['kilometer'] - np.min(Train_data['kilometer'])) / \n",
    "                        (np.max(Train_data['kilometer']) - np.min(Train_data['kilometer'])))\n",
    "Train_data['kilometer'].plot.hist()\n",
    "Test_data['kilometer'] = ((Test_data['kilometer'] - np.min(Test_data['kilometer'])) / \n",
    "                        (np.max(Test_data['kilometer']) - np.min(Test_data['kilometer'])))\n",
    "Test_data['kilometer'].plot.hist()"
   ]
  },
  {
   "cell_type": "code",
   "execution_count": 218,
   "metadata": {},
   "outputs": [
    {
     "data": {
      "text/plain": [
       "\"\\ndata['brand_price_sum'] = ((data['brand_price_sum'] - np.min(data['brand_price_sum'])) / \\n                           (np.max(data['brand_price_sum']) - np.min(data['brand_price_sum'])))\""
      ]
     },
     "execution_count": 218,
     "metadata": {},
     "output_type": "execute_result"
    },
    {
     "data": {
      "image/png": "[encoded data removed]",
      "text/plain": [
       "<Figure size 432x288 with 1 Axes>"
      ]
     },
     "metadata": {
      "needs_background": "light"
     },
     "output_type": "display_data"
    }
   ],
   "source": [
    "def max_min(x):\n",
    "    return (x - np.min(x)) / (np.max(x) - np.min(x))\n",
    "\n",
    "'''Train_data['brand_amount'] = max_min(Train_data['brand_amount'])\n",
    "Train_data['brand_amount'].plot.hist()\n",
    "Test_data['brand_amount'] = max_min(Test_data['brand_amount'])\n",
    "Test_data['brand_amount'].plot.hist()\n",
    "\n",
    "Train_data['brand_price_average'] = max_min(Train_data['brand_price_average'])\n",
    "Train_data['brand_price_average'].plot.hist()\n",
    "Test_data['brand_price_average'] = max_min(Test_data['brand_price_average'])\n",
    "Test_data['brand_price_average'].plot.hist()\n",
    "\n",
    "Train_data['brand_price_max'] = max_min(Train_data['brand_price_max'])\n",
    "Train_data['brand_price_max'].plot.hist()\n",
    "Test_data['brand_price_max'] = max_min(Test_data['brand_price_max'])\n",
    "Test_data['brand_price_max'].plot.hist()\n",
    "\n",
    "Train_data['brand_price_median'] = max_min(Train_data['brand_price_median'])\n",
    "Train_data['brand_price_median'].plot.hist()\n",
    "Test_data['brand_price_median'] = max_min(Test_data['brand_price_median'])\n",
    "Test_data['brand_price_median'].plot.hist()\n",
    "\n",
    "Train_data['brand_price_min'] = max_min(Train_data['brand_price_min'])\n",
    "Train_data['brand_price_min'].plot.hist()\n",
    "Test_data['brand_price_min'] = max_min(Test_data['brand_price_min'])\n",
    "Test_data['brand_price_min'].plot.hist()\n",
    "\n",
    "Train_data['brand_price_std'] = max_min(Train_data['brand_price_std'])\n",
    "Train_data['brand_price_std'].plot.hist()\n",
    "Test_data['brand_price_std'] = max_min(Test_data['brand_price_std'])\n",
    "Test_data['brand_price_std'].plot.hist()\n",
    "\n",
    "\n",
    "Train_data['brand_price_sum'] = max_min(Train_data['brand_price_sum'])\n",
    "Train_data['brand_price_sum'].plot.hist()\n",
    "Test_data['brand_price_sum'] = max_min(Test_data['brand_price_sum'])\n",
    "Test_data['brand_price_sum'].plot.hist()'''"
   ]
  },
  {
   "cell_type": "code",
   "execution_count": 224,
   "metadata": {},
   "outputs": [
    {
     "data": {
      "text/plain": [
       "<matplotlib.axes._subplots.AxesSubplot at 0x2b49fe50>"
      ]
     },
     "execution_count": 224,
     "metadata": {},
     "output_type": "execute_result"
    },
    {
     "data": {
      "image/png": "[encoded data removed]",
      "text/plain": [
       "<Figure size 432x288 with 1 Axes>"
      ]
     },
     "metadata": {
      "needs_background": "light"
     },
     "output_type": "display_data"
    }
   ],
   "source": [
    "Train_data['usetime'] = max_min(Train_data['usetime'])\n",
    "Train_data['usetime'].plot.hist()\n",
    "Test_data['usetime'] = max_min(Test_data['usetime'])\n",
    "Test_data['usetime'].plot.hist()"
   ]
  },
  {
   "cell_type": "code",
   "execution_count": 260,
   "metadata": {},
   "outputs": [
    {
     "data": {
      "text/plain": [
       "<matplotlib.axes._subplots.AxesSubplot at 0x189c1890>"
      ]
     },
     "execution_count": 260,
     "metadata": {},
     "output_type": "execute_result"
    },
    {
     "data": {
      "image/png": "[encoded data removed]",
      "text/plain": [
       "<Figure size 432x288 with 1 Axes>"
      ]
     },
     "metadata": {
      "needs_background": "light"
     },
     "output_type": "display_data"
    }
   ],
   "source": [
    "#V系列特征归一化\n",
    "'''\n",
    "Train_data['v_0'] = max_min(Train_data['v_0'])\n",
    "Train_data['v_0'].plot.hist()\n",
    "Test_data['v_0'] = max_min(Test_data['v_0'])\n",
    "Test_data['v_0'].plot.hist()\n",
    "\n",
    "Train_data['v_1'] = max_min(Train_data['v_1'])\n",
    "Train_data['v_1'].plot.hist()\n",
    "Test_data['v_1'] = max_min(Test_data['v_1'])\n",
    "Test_data['v_1'].plot.hist()\n",
    "\n",
    "Train_data['v_2'] = max_min(Train_data['v_2'])\n",
    "Train_data['v_2'].plot.hist()\n",
    "Test_data['v_2'] = max_min(Test_data['v_2'])\n",
    "Test_data['v_2'].plot.hist()\n",
    "\n",
    "Train_data['v_3'] = max_min(Train_data['v_3'])\n",
    "Train_data['v_3'].plot.hist()\n",
    "Test_data['v_3'] = max_min(Test_data['v_3'])\n",
    "Test_data['v_3'].plot.hist()\n",
    "\n",
    "Train_data['v_4'] = max_min(Train_data['v_4'])\n",
    "Train_data['v_4'].plot.hist()\n",
    "Test_data['v_4'] = max_min(Test_data['v_4'])\n",
    "Test_data['v_4'].plot.hist()\n",
    "\n",
    "Train_data['v_5'] = max_min(Train_data['v_5'])\n",
    "Train_data['v_5'].plot.hist()\n",
    "Test_data['v_5'] = max_min(Test_data['v_5'])\n",
    "Test_data['v_5'].plot.hist()\n",
    "\n",
    "Train_data['v_6'] = max_min(Train_data['v_6'])\n",
    "Train_data['v_6'].plot.hist()\n",
    "Test_data['v_6'] = max_min(Test_data['v_6'])\n",
    "Test_data['v_6'].plot.hist()\n",
    "\n",
    "Train_data['v_7'] = max_min(Train_data['v_7'])\n",
    "Train_data['v_7'].plot.hist()\n",
    "Test_data['v_7'] = max_min(Test_data['v_7'])\n",
    "Test_data['v_7'].plot.hist()\n",
    "\n",
    "Train_data['v_8'] = max_min(Train_data['v_8'])\n",
    "Train_data['v_8'].plot.hist()\n",
    "Test_data['v_8'] = max_min(Test_data['v_8'])\n",
    "Test_data['v_8'].plot.hist()\n",
    "\n",
    "Train_data['v_9'] = max_min(Train_data['v_9'])\n",
    "Train_data['v_9'].plot.hist()\n",
    "Test_data['v_9'] = max_min(Test_data['v_9'])\n",
    "Test_data['v_9'].plot.hist()\n",
    "\n",
    "Train_data['v_10'] = max_min(Train_data['v_10'])\n",
    "Train_data['v_10'].plot.hist()\n",
    "Test_data['v_10'] = max_min(Test_data['v_10'])\n",
    "Test_data['v_10'].plot.hist()\n",
    "\n",
    "Train_data['v_11'] = max_min(Train_data['v_11'])\n",
    "Train_data['v_11'].plot.hist()\n",
    "Test_data['v_11'] = max_min(Test_data['v_11'])\n",
    "Test_data['v_11'].plot.hist()\n",
    "\n",
    "Train_data['v_12'] = max_min(Train_data['v_12'])\n",
    "Train_data['v_12'].plot.hist()\n",
    "Test_data['v_12'] = max_min(Test_data['v_12'])\n",
    "Test_data['v_12'].plot.hist()\n",
    "\n",
    "Train_data['v_13'] = max_min(Train_data['v_13'])\n",
    "Train_data['v_13'].plot.hist()\n",
    "Test_data['v_13'] = max_min(Test_data['v_13'])\n",
    "Test_data['v_13'].plot.hist()\n",
    "\n",
    "\n",
    "Train_data['v_14'] = max_min(Train_data['v_14'])\n",
    "Train_data['v_14'].plot.hist()\n",
    "Test_data['v_14'] = max_min(Test_data['v_14'])\n",
    "Test_data['v_14'].plot.hist()\n",
    "'''"
   ]
  },
  {
   "cell_type": "code",
   "execution_count": 245,
   "metadata": {},
   "outputs": [
    {
     "data": {
      "text/plain": [
       "count    149999.000000\n",
       "mean       5923.047154\n",
       "std        7501.238642\n",
       "min          11.000000\n",
       "25%        1300.000000\n",
       "50%        3250.000000\n",
       "75%        7700.000000\n",
       "max       99999.000000\n",
       "Name: price, dtype: float64"
      ]
     },
     "execution_count": 245,
     "metadata": {},
     "output_type": "execute_result"
    }
   ],
   "source": [
    "Train_data['price'].describe()"
   ]
  },
  {
   "cell_type": "code",
   "execution_count": 246,
   "metadata": {},
   "outputs": [
    {
     "data": {
      "text/plain": [
       "<matplotlib.axes._subplots.AxesSubplot at 0x1d268570>"
      ]
     },
     "execution_count": 246,
     "metadata": {},
     "output_type": "execute_result"
    },
    {
     "data": {
      "image/png": "[encoded data removed]",
      "text/plain": [
       "<Figure size 432x288 with 1 Axes>"
      ]
     },
     "metadata": {
      "needs_background": "light"
     },
     "output_type": "display_data"
    }
   ],
   "source": [
    "Train_data['price'].plot.hist()"
   ]
  },
  {
   "cell_type": "code",
   "execution_count": 262,
   "metadata": {},
   "outputs": [],
   "source": [
    "# 对类别特征进行 OneEncoder\n",
    "Train_data = pd.get_dummies(Train_data, columns=['model', 'brand', 'bodyType', 'fuelType',\n",
    "                                     'gearbox', 'notRepairedDamage','city','bought_time_bin', 'power_bin'])\n",
    "Test_data = pd.get_dummies(Test_data, columns=['model', 'brand', 'bodyType', 'fuelType',\n",
    "                                     'gearbox', 'notRepairedDamage','city','bought_time_bin', 'power_bin'])"
   ]
  },
  {
   "cell_type": "code",
   "execution_count": 263,
   "metadata": {},
   "outputs": [
    {
     "name": "stdout",
     "output_type": "stream",
     "text": [
      "<class 'pandas.core.frame.DataFrame'>\n",
      "Int64Index: 149999 entries, 0 to 149998\n",
      "Columns: 370 entries, SaleID to power_bin_15\n",
      "dtypes: float64(25), int64(2), uint8(343)\n",
      "memory usage: 81.1 MB\n",
      "<class 'pandas.core.frame.DataFrame'>\n",
      "Int64Index: 50000 entries, 0 to 49999\n",
      "Columns: 368 entries, SaleID to power_bin_15\n",
      "dtypes: float64(25), int64(1), uint8(342)\n",
      "memory usage: 26.6 MB\n"
     ]
    }
   ],
   "source": [
    "Train_data.info()\n",
    "Test_data.info()#训练集比测试集除了价格还多一列，是因为除了价格，model类型训练集比测试集多一个，在下面选择剔除掉'model_247.0'"
   ]
  },
  {
   "cell_type": "code",
   "execution_count": 271,
   "metadata": {},
   "outputs": [
    {
     "name": "stdout",
     "output_type": "stream",
     "text": [
      "<class 'pandas.core.frame.DataFrame'>\n",
      "Int64Index: 149999 entries, 0 to 149998\n",
      "Columns: 369 entries, SaleID to power_bin_15\n",
      "dtypes: float64(25), int64(2), uint8(342)\n",
      "memory usage: 81.0 MB\n",
      "<class 'pandas.core.frame.DataFrame'>\n",
      "Int64Index: 50000 entries, 0 to 49999\n",
      "Columns: 368 entries, SaleID to power_bin_15\n",
      "dtypes: float64(25), int64(1), uint8(342)\n",
      "memory usage: 26.6 MB\n"
     ]
    }
   ],
   "source": [
    "#Train_data=Train_data.drop('model_247.0',axis=1)\n",
    "Train_data.info()\n",
    "Test_data.info()"
   ]
  },
  {
   "cell_type": "code",
   "execution_count": 272,
   "metadata": {},
   "outputs": [],
   "source": [
    "# 这份数据可以给 LR  线性模型\n",
    "Train_data.to_csv('E:\\Traindata_for_lr_own.csv', index=0)\n",
    "#Test_data.to_csv('E:\\Testdata_for_lr_own.csv', index=0)"
   ]
  },
  {
   "cell_type": "code",
   "execution_count": 266,
   "metadata": {},
   "outputs": [
    {
     "data": {
      "text/plain": [
       "<matplotlib.axes._subplots.AxesSubplot at 0x2c058d50>"
      ]
     },
     "execution_count": 266,
     "metadata": {},
     "output_type": "execute_result"
    },
    {
     "data": {
      "image/png": "[encoded data removed]",
      "text/plain": [
       "<Figure size 432x288 with 1 Axes>"
      ]
     },
     "metadata": {
      "needs_background": "light"
     },
     "output_type": "display_data"
    }
   ],
   "source": [
    "#先对price进行log变换，因为price有异常值\n",
    "T=Train_data.copy()\n",
    "T['price'] = np.log(T['price'] + 1) \n",
    "T['price'].plot.hist()"
   ]
  },
  {
   "cell_type": "code",
   "execution_count": 267,
   "metadata": {},
   "outputs": [
    {
     "name": "stdout",
     "output_type": "stream",
     "text": [
      "0.5773363347291756\n",
      "-0.40976564790258585\n",
      "-0.779334537708848\n",
      "0.05440350552857124\n",
      "0.2587351415139394\n",
      "0.39157948012057603\n",
      "-0.008888876311719482\n",
      "0.3512587845217383\n",
      "0.38874730718715217\n",
      "0.8732581723776437\n",
      "0.15047173923738075\n",
      "0.5976561650730704\n",
      "-0.9253037058208804\n",
      "-0.1499339224374335\n",
      "0.35370646952820695\n",
      "0.42342900417446855\n",
      "0.021398560882914794\n",
      "0.8360310213066325\n",
      "-0.23563088243517102\n",
      "-0.5071854950861662\n",
      "-0.41001155254970906\n",
      "0.8600685759186506\n",
      "0.052513471958638085\n",
      "0.18915935855441646\n"
     ]
    }
   ],
   "source": [
    "##特征筛选\n",
    "#过滤式\n",
    "\n",
    "# 相关性分析\n",
    "print(T['power'].corr(T['price'], method='spearman'))\n",
    "print(T['kilometer'].corr(T['price'], method='spearman'))\n",
    "print(T['usetime'].corr(T['price'], method='spearman'))\n",
    "\n",
    "print(T['brand_amount'].corr(T['price'], method='spearman'))\n",
    "print(T['brand_price_max'].corr(T['price'], method='spearman'))\n",
    "print(T['brand_price_median'].corr(T['price'], method='spearman'))\n",
    "print(T['brand_price_min'].corr(T['price'], method='spearman'))\n",
    "print(T['brand_price_std'].corr(T['price'], method='spearman'))\n",
    "print(T['brand_price_average'].corr(T['price'], method='spearman'))\n",
    "\n",
    "print(T['v_0'].corr(T['price'], method='spearman'))\n",
    "print(T['v_1'].corr(T['price'], method='spearman'))\n",
    "print(T['v_2'].corr(T['price'], method='spearman'))\n",
    "print(T['v_3'].corr(T['price'], method='spearman'))\n",
    "print(T['v_4'].corr(T['price'], method='spearman'))\n",
    "print(T['v_5'].corr(T['price'], method='spearman'))\n",
    "print(T['v_6'].corr(T['price'], method='spearman'))\n",
    "print(T['v_7'].corr(T['price'], method='spearman'))\n",
    "print(T['v_8'].corr(T['price'], method='spearman'))\n",
    "print(T['v_9'].corr(T['price'], method='spearman'))\n",
    "print(T['v_10'].corr(T['price'], method='spearman'))\n",
    "print(T['v_11'].corr(T['price'], method='spearman'))\n",
    "print(T['v_12'].corr(T['price'], method='spearman'))\n",
    "print(T['v_13'].corr(T['price'], method='spearman'))\n",
    "print(T['v_14'].corr(T['price'], method='spearman'))"
   ]
  },
  {
   "cell_type": "code",
   "execution_count": 273,
   "metadata": {},
   "outputs": [
    {
     "name": "stdout",
     "output_type": "stream",
     "text": [
      "<class 'pandas.core.frame.DataFrame'>\n",
      "Int64Index: 149999 entries, 0 to 149998\n",
      "Columns: 369 entries, SaleID to power_bin_15\n",
      "dtypes: float64(25), int64(2), uint8(342)\n",
      "memory usage: 81.0 MB\n"
     ]
    }
   ],
   "source": [
    "#检查训练集没有重复值\n",
    "T=Train_data.copy()\n",
    "T=T.drop_duplicates()\n",
    "T.reset_index(drop=True)\n",
    "T.info()"
   ]
  },
  {
   "cell_type": "code",
   "execution_count": 276,
   "metadata": {},
   "outputs": [
    {
     "data": {
      "text/plain": [
       "<matplotlib.axes._subplots.AxesSubplot at 0x1a289c10>"
      ]
     },
     "execution_count": 276,
     "metadata": {},
     "output_type": "execute_result"
    },
    {
     "data": {
      "image/png": "[encoded data removed]",
      "text/plain": [
       "<Figure size 432x288 with 1 Axes>"
      ]
     },
     "metadata": {
      "needs_background": "light"
     },
     "output_type": "display_data"
    }
   ],
   "source": [
    "T=Train_data.copy()\n",
    "T=T.drop('SaleID',axis=1)\n",
    "T=T[T['price']>=20]\n",
    "continuous_feature_names = [x for x in T.columns if x not in 'price']\n",
    "\n",
    "train_x = T[continuous_feature_names]   #训练集x值\n",
    "\n",
    "#在这里我们对标签进行了 log(x+1) 变换，使标签贴近于正态分布\n",
    "train_Y = T['price']\n",
    "train_y = np.log(train_Y + 1)            #训练集y值\n",
    "\n",
    "train_y.plot.hist()"
   ]
  },
  {
   "cell_type": "code",
   "execution_count": 277,
   "metadata": {},
   "outputs": [],
   "source": [
    "T1=Test_data.copy()\n",
    "continuous_feature_names = [x for x in T1.columns]\n",
    "\n",
    "test_x = T1[continuous_feature_names]   #测试集x值"
   ]
  },
  {
   "cell_type": "code",
   "execution_count": 279,
   "metadata": {},
   "outputs": [
    {
     "name": "stdout",
     "output_type": "stream",
     "text": [
      "Fitting 5 folds for each of 9 candidates, totalling 45 fits\n"
     ]
    },
    {
     "name": "stderr",
     "output_type": "stream",
     "text": [
      "[Parallel(n_jobs=-1)]: Using backend LokyBackend with 4 concurrent workers.\n"
     ]
    },
    {
     "ename": "KeyboardInterrupt",
     "evalue": "",
     "output_type": "error",
     "traceback": [
      "\u001b[1;31m---------------------------------------------------------------------------\u001b[0m",
      "\u001b[1;31mKeyboardInterrupt\u001b[0m                         Traceback (most recent call last)",
      "\u001b[1;32m<ipython-input-279-a7ad96b15440>\u001b[0m in \u001b[0;36m<module>\u001b[1;34m\u001b[0m\n\u001b[0;32m      9\u001b[0m \u001b[1;33m\u001b[0m\u001b[0m\n\u001b[0;32m     10\u001b[0m \u001b[0mgs\u001b[0m \u001b[1;33m=\u001b[0m \u001b[0mGridSearchCV\u001b[0m\u001b[1;33m(\u001b[0m\u001b[0mestimator\u001b[0m\u001b[1;33m=\u001b[0m\u001b[0mrf\u001b[0m\u001b[1;33m,\u001b[0m \u001b[0mparam_grid\u001b[0m\u001b[1;33m=\u001b[0m\u001b[0mparam_grid\u001b[0m\u001b[1;33m,\u001b[0m \u001b[0mcv\u001b[0m\u001b[1;33m=\u001b[0m\u001b[1;36m5\u001b[0m\u001b[1;33m,\u001b[0m \u001b[0mn_jobs\u001b[0m\u001b[1;33m=\u001b[0m\u001b[1;33m-\u001b[0m\u001b[1;36m1\u001b[0m\u001b[1;33m,\u001b[0m \u001b[0mverbose\u001b[0m\u001b[1;33m=\u001b[0m\u001b[1;36m1\u001b[0m\u001b[1;33m)\u001b[0m\u001b[1;33m\u001b[0m\u001b[1;33m\u001b[0m\u001b[0m\n\u001b[1;32m---> 11\u001b[1;33m \u001b[0mgs\u001b[0m \u001b[1;33m=\u001b[0m \u001b[0mgs\u001b[0m\u001b[1;33m.\u001b[0m\u001b[0mfit\u001b[0m\u001b[1;33m(\u001b[0m\u001b[0mtrain_x\u001b[0m\u001b[1;33m,\u001b[0m \u001b[0mtrain_y\u001b[0m\u001b[1;33m)\u001b[0m\u001b[1;33m\u001b[0m\u001b[1;33m\u001b[0m\u001b[0m\n\u001b[0m\u001b[0;32m     12\u001b[0m \u001b[0mprint\u001b[0m\u001b[1;33m(\u001b[0m\u001b[1;34m'best_score_:'\u001b[0m\u001b[1;33m,\u001b[0m\u001b[0mgs\u001b[0m\u001b[1;33m.\u001b[0m\u001b[0mbest_score_\u001b[0m\u001b[1;33m)\u001b[0m\u001b[1;33m\u001b[0m\u001b[1;33m\u001b[0m\u001b[0m\n\u001b[0;32m     13\u001b[0m \u001b[0mprint\u001b[0m\u001b[1;33m(\u001b[0m\u001b[1;34m'best_params_:'\u001b[0m\u001b[1;33m,\u001b[0m\u001b[0mgs\u001b[0m\u001b[1;33m.\u001b[0m\u001b[0mbest_params_\u001b[0m\u001b[1;33m)\u001b[0m\u001b[1;33m\u001b[0m\u001b[1;33m\u001b[0m\u001b[0m\n",
      "\u001b[1;32m~\\AppData\\Roaming\\Python\\Python37\\site-packages\\sklearn\\model_selection\\_search.py\u001b[0m in \u001b[0;36mfit\u001b[1;34m(self, X, y, groups, **fit_params)\u001b[0m\n\u001b[0;32m    708\u001b[0m                 \u001b[1;32mreturn\u001b[0m \u001b[0mresults\u001b[0m\u001b[1;33m\u001b[0m\u001b[1;33m\u001b[0m\u001b[0m\n\u001b[0;32m    709\u001b[0m \u001b[1;33m\u001b[0m\u001b[0m\n\u001b[1;32m--> 710\u001b[1;33m             \u001b[0mself\u001b[0m\u001b[1;33m.\u001b[0m\u001b[0m_run_search\u001b[0m\u001b[1;33m(\u001b[0m\u001b[0mevaluate_candidates\u001b[0m\u001b[1;33m)\u001b[0m\u001b[1;33m\u001b[0m\u001b[1;33m\u001b[0m\u001b[0m\n\u001b[0m\u001b[0;32m    711\u001b[0m \u001b[1;33m\u001b[0m\u001b[0m\n\u001b[0;32m    712\u001b[0m         \u001b[1;31m# For multi-metric evaluation, store the best_index_, best_params_ and\u001b[0m\u001b[1;33m\u001b[0m\u001b[1;33m\u001b[0m\u001b[1;33m\u001b[0m\u001b[0m\n",
      "\u001b[1;32m~\\AppData\\Roaming\\Python\\Python37\\site-packages\\sklearn\\model_selection\\_search.py\u001b[0m in \u001b[0;36m_run_search\u001b[1;34m(self, evaluate_candidates)\u001b[0m\n\u001b[0;32m   1149\u001b[0m     \u001b[1;32mdef\u001b[0m \u001b[0m_run_search\u001b[0m\u001b[1;33m(\u001b[0m\u001b[0mself\u001b[0m\u001b[1;33m,\u001b[0m \u001b[0mevaluate_candidates\u001b[0m\u001b[1;33m)\u001b[0m\u001b[1;33m:\u001b[0m\u001b[1;33m\u001b[0m\u001b[1;33m\u001b[0m\u001b[0m\n\u001b[0;32m   1150\u001b[0m         \u001b[1;34m\"\"\"Search all candidates in param_grid\"\"\"\u001b[0m\u001b[1;33m\u001b[0m\u001b[1;33m\u001b[0m\u001b[0m\n\u001b[1;32m-> 1151\u001b[1;33m         \u001b[0mevaluate_candidates\u001b[0m\u001b[1;33m(\u001b[0m\u001b[0mParameterGrid\u001b[0m\u001b[1;33m(\u001b[0m\u001b[0mself\u001b[0m\u001b[1;33m.\u001b[0m\u001b[0mparam_grid\u001b[0m\u001b[1;33m)\u001b[0m\u001b[1;33m)\u001b[0m\u001b[1;33m\u001b[0m\u001b[1;33m\u001b[0m\u001b[0m\n\u001b[0m\u001b[0;32m   1152\u001b[0m \u001b[1;33m\u001b[0m\u001b[0m\n\u001b[0;32m   1153\u001b[0m \u001b[1;33m\u001b[0m\u001b[0m\n",
      "\u001b[1;32m~\\AppData\\Roaming\\Python\\Python37\\site-packages\\sklearn\\model_selection\\_search.py\u001b[0m in \u001b[0;36mevaluate_candidates\u001b[1;34m(candidate_params)\u001b[0m\n\u001b[0;32m    687\u001b[0m                                \u001b[1;32mfor\u001b[0m \u001b[0mparameters\u001b[0m\u001b[1;33m,\u001b[0m \u001b[1;33m(\u001b[0m\u001b[0mtrain\u001b[0m\u001b[1;33m,\u001b[0m \u001b[0mtest\u001b[0m\u001b[1;33m)\u001b[0m\u001b[1;33m\u001b[0m\u001b[1;33m\u001b[0m\u001b[0m\n\u001b[0;32m    688\u001b[0m                                in product(candidate_params,\n\u001b[1;32m--> 689\u001b[1;33m                                           cv.split(X, y, groups)))\n\u001b[0m\u001b[0;32m    690\u001b[0m \u001b[1;33m\u001b[0m\u001b[0m\n\u001b[0;32m    691\u001b[0m                 \u001b[1;32mif\u001b[0m \u001b[0mlen\u001b[0m\u001b[1;33m(\u001b[0m\u001b[0mout\u001b[0m\u001b[1;33m)\u001b[0m \u001b[1;33m<\u001b[0m \u001b[1;36m1\u001b[0m\u001b[1;33m:\u001b[0m\u001b[1;33m\u001b[0m\u001b[1;33m\u001b[0m\u001b[0m\n",
      "\u001b[1;32m~\\anaconda3\\lib\\site-packages\\joblib\\parallel.py\u001b[0m in \u001b[0;36m__call__\u001b[1;34m(self, iterable)\u001b[0m\n\u001b[0;32m   1015\u001b[0m \u001b[1;33m\u001b[0m\u001b[0m\n\u001b[0;32m   1016\u001b[0m             \u001b[1;32mwith\u001b[0m \u001b[0mself\u001b[0m\u001b[1;33m.\u001b[0m\u001b[0m_backend\u001b[0m\u001b[1;33m.\u001b[0m\u001b[0mretrieval_context\u001b[0m\u001b[1;33m(\u001b[0m\u001b[1;33m)\u001b[0m\u001b[1;33m:\u001b[0m\u001b[1;33m\u001b[0m\u001b[1;33m\u001b[0m\u001b[0m\n\u001b[1;32m-> 1017\u001b[1;33m                 \u001b[0mself\u001b[0m\u001b[1;33m.\u001b[0m\u001b[0mretrieve\u001b[0m\u001b[1;33m(\u001b[0m\u001b[1;33m)\u001b[0m\u001b[1;33m\u001b[0m\u001b[1;33m\u001b[0m\u001b[0m\n\u001b[0m\u001b[0;32m   1018\u001b[0m             \u001b[1;31m# Make sure that we get a last message telling us we are done\u001b[0m\u001b[1;33m\u001b[0m\u001b[1;33m\u001b[0m\u001b[1;33m\u001b[0m\u001b[0m\n\u001b[0;32m   1019\u001b[0m             \u001b[0melapsed_time\u001b[0m \u001b[1;33m=\u001b[0m \u001b[0mtime\u001b[0m\u001b[1;33m.\u001b[0m\u001b[0mtime\u001b[0m\u001b[1;33m(\u001b[0m\u001b[1;33m)\u001b[0m \u001b[1;33m-\u001b[0m \u001b[0mself\u001b[0m\u001b[1;33m.\u001b[0m\u001b[0m_start_time\u001b[0m\u001b[1;33m\u001b[0m\u001b[1;33m\u001b[0m\u001b[0m\n",
      "\u001b[1;32m~\\anaconda3\\lib\\site-packages\\joblib\\parallel.py\u001b[0m in \u001b[0;36mretrieve\u001b[1;34m(self)\u001b[0m\n\u001b[0;32m    907\u001b[0m             \u001b[1;32mtry\u001b[0m\u001b[1;33m:\u001b[0m\u001b[1;33m\u001b[0m\u001b[1;33m\u001b[0m\u001b[0m\n\u001b[0;32m    908\u001b[0m                 \u001b[1;32mif\u001b[0m \u001b[0mgetattr\u001b[0m\u001b[1;33m(\u001b[0m\u001b[0mself\u001b[0m\u001b[1;33m.\u001b[0m\u001b[0m_backend\u001b[0m\u001b[1;33m,\u001b[0m \u001b[1;34m'supports_timeout'\u001b[0m\u001b[1;33m,\u001b[0m \u001b[1;32mFalse\u001b[0m\u001b[1;33m)\u001b[0m\u001b[1;33m:\u001b[0m\u001b[1;33m\u001b[0m\u001b[1;33m\u001b[0m\u001b[0m\n\u001b[1;32m--> 909\u001b[1;33m                     \u001b[0mself\u001b[0m\u001b[1;33m.\u001b[0m\u001b[0m_output\u001b[0m\u001b[1;33m.\u001b[0m\u001b[0mextend\u001b[0m\u001b[1;33m(\u001b[0m\u001b[0mjob\u001b[0m\u001b[1;33m.\u001b[0m\u001b[0mget\u001b[0m\u001b[1;33m(\u001b[0m\u001b[0mtimeout\u001b[0m\u001b[1;33m=\u001b[0m\u001b[0mself\u001b[0m\u001b[1;33m.\u001b[0m\u001b[0mtimeout\u001b[0m\u001b[1;33m)\u001b[0m\u001b[1;33m)\u001b[0m\u001b[1;33m\u001b[0m\u001b[1;33m\u001b[0m\u001b[0m\n\u001b[0m\u001b[0;32m    910\u001b[0m                 \u001b[1;32melse\u001b[0m\u001b[1;33m:\u001b[0m\u001b[1;33m\u001b[0m\u001b[1;33m\u001b[0m\u001b[0m\n\u001b[0;32m    911\u001b[0m                     \u001b[0mself\u001b[0m\u001b[1;33m.\u001b[0m\u001b[0m_output\u001b[0m\u001b[1;33m.\u001b[0m\u001b[0mextend\u001b[0m\u001b[1;33m(\u001b[0m\u001b[0mjob\u001b[0m\u001b[1;33m.\u001b[0m\u001b[0mget\u001b[0m\u001b[1;33m(\u001b[0m\u001b[1;33m)\u001b[0m\u001b[1;33m)\u001b[0m\u001b[1;33m\u001b[0m\u001b[1;33m\u001b[0m\u001b[0m\n",
      "\u001b[1;32m~\\anaconda3\\lib\\site-packages\\joblib\\_parallel_backends.py\u001b[0m in \u001b[0;36mwrap_future_result\u001b[1;34m(future, timeout)\u001b[0m\n\u001b[0;32m    560\u001b[0m         AsyncResults.get from multiprocessing.\"\"\"\n\u001b[0;32m    561\u001b[0m         \u001b[1;32mtry\u001b[0m\u001b[1;33m:\u001b[0m\u001b[1;33m\u001b[0m\u001b[1;33m\u001b[0m\u001b[0m\n\u001b[1;32m--> 562\u001b[1;33m             \u001b[1;32mreturn\u001b[0m \u001b[0mfuture\u001b[0m\u001b[1;33m.\u001b[0m\u001b[0mresult\u001b[0m\u001b[1;33m(\u001b[0m\u001b[0mtimeout\u001b[0m\u001b[1;33m=\u001b[0m\u001b[0mtimeout\u001b[0m\u001b[1;33m)\u001b[0m\u001b[1;33m\u001b[0m\u001b[1;33m\u001b[0m\u001b[0m\n\u001b[0m\u001b[0;32m    563\u001b[0m         \u001b[1;32mexcept\u001b[0m \u001b[0mLokyTimeoutError\u001b[0m\u001b[1;33m:\u001b[0m\u001b[1;33m\u001b[0m\u001b[1;33m\u001b[0m\u001b[0m\n\u001b[0;32m    564\u001b[0m             \u001b[1;32mraise\u001b[0m \u001b[0mTimeoutError\u001b[0m\u001b[1;33m(\u001b[0m\u001b[1;33m)\u001b[0m\u001b[1;33m\u001b[0m\u001b[1;33m\u001b[0m\u001b[0m\n",
      "\u001b[1;32m~\\anaconda3\\lib\\concurrent\\futures\\_base.py\u001b[0m in \u001b[0;36mresult\u001b[1;34m(self, timeout)\u001b[0m\n\u001b[0;32m    428\u001b[0m                 \u001b[1;32mreturn\u001b[0m \u001b[0mself\u001b[0m\u001b[1;33m.\u001b[0m\u001b[0m__get_result\u001b[0m\u001b[1;33m(\u001b[0m\u001b[1;33m)\u001b[0m\u001b[1;33m\u001b[0m\u001b[1;33m\u001b[0m\u001b[0m\n\u001b[0;32m    429\u001b[0m \u001b[1;33m\u001b[0m\u001b[0m\n\u001b[1;32m--> 430\u001b[1;33m             \u001b[0mself\u001b[0m\u001b[1;33m.\u001b[0m\u001b[0m_condition\u001b[0m\u001b[1;33m.\u001b[0m\u001b[0mwait\u001b[0m\u001b[1;33m(\u001b[0m\u001b[0mtimeout\u001b[0m\u001b[1;33m)\u001b[0m\u001b[1;33m\u001b[0m\u001b[1;33m\u001b[0m\u001b[0m\n\u001b[0m\u001b[0;32m    431\u001b[0m \u001b[1;33m\u001b[0m\u001b[0m\n\u001b[0;32m    432\u001b[0m             \u001b[1;32mif\u001b[0m \u001b[0mself\u001b[0m\u001b[1;33m.\u001b[0m\u001b[0m_state\u001b[0m \u001b[1;32min\u001b[0m \u001b[1;33m[\u001b[0m\u001b[0mCANCELLED\u001b[0m\u001b[1;33m,\u001b[0m \u001b[0mCANCELLED_AND_NOTIFIED\u001b[0m\u001b[1;33m]\u001b[0m\u001b[1;33m:\u001b[0m\u001b[1;33m\u001b[0m\u001b[1;33m\u001b[0m\u001b[0m\n",
      "\u001b[1;32m~\\anaconda3\\lib\\threading.py\u001b[0m in \u001b[0;36mwait\u001b[1;34m(self, timeout)\u001b[0m\n\u001b[0;32m    294\u001b[0m         \u001b[1;32mtry\u001b[0m\u001b[1;33m:\u001b[0m    \u001b[1;31m# restore state no matter what (e.g., KeyboardInterrupt)\u001b[0m\u001b[1;33m\u001b[0m\u001b[1;33m\u001b[0m\u001b[0m\n\u001b[0;32m    295\u001b[0m             \u001b[1;32mif\u001b[0m \u001b[0mtimeout\u001b[0m \u001b[1;32mis\u001b[0m \u001b[1;32mNone\u001b[0m\u001b[1;33m:\u001b[0m\u001b[1;33m\u001b[0m\u001b[1;33m\u001b[0m\u001b[0m\n\u001b[1;32m--> 296\u001b[1;33m                 \u001b[0mwaiter\u001b[0m\u001b[1;33m.\u001b[0m\u001b[0macquire\u001b[0m\u001b[1;33m(\u001b[0m\u001b[1;33m)\u001b[0m\u001b[1;33m\u001b[0m\u001b[1;33m\u001b[0m\u001b[0m\n\u001b[0m\u001b[0;32m    297\u001b[0m                 \u001b[0mgotit\u001b[0m \u001b[1;33m=\u001b[0m \u001b[1;32mTrue\u001b[0m\u001b[1;33m\u001b[0m\u001b[1;33m\u001b[0m\u001b[0m\n\u001b[0;32m    298\u001b[0m             \u001b[1;32melse\u001b[0m\u001b[1;33m:\u001b[0m\u001b[1;33m\u001b[0m\u001b[1;33m\u001b[0m\u001b[0m\n",
      "\u001b[1;31mKeyboardInterrupt\u001b[0m: "
     ]
    }
   ],
   "source": [
    "#随机森林模型\n",
    "from sklearn.model_selection import GridSearchCV,cross_val_score\n",
    "from sklearn.ensemble import RandomForestRegressor,GradientBoostingRegressor\n",
    "\n",
    "rf = RandomForestRegressor()\n",
    "n_estimators=[300,500,800]         #树的数量\n",
    "max_depth=[3,6,8]\n",
    "param_grid = { \"max_depth\": max_depth, \"n_estimators\": n_estimators}\n",
    "\n",
    "gs = GridSearchCV(estimator=rf, param_grid=param_grid, cv=5, n_jobs=-1, verbose=1)\n",
    "gs = gs.fit(train_x, train_y)\n",
    "print('best_score_:',gs.best_score_)\n",
    "print('best_params_:',gs.best_params_)\n",
    "print(gs.grid_scores_)\n",
    "bp = gs.best_params_\n",
    "forest = RandomForestRegressor(max_depth=bp['max_depth'],n_estimators=bp['n_estimators'])\n",
    "\n",
    "\n",
    "#forest.fit(train_x, train_y)"
   ]
  },
  {
   "cell_type": "code",
   "execution_count": 281,
   "metadata": {},
   "outputs": [
    {
     "name": "stderr",
     "output_type": "stream",
     "text": [
      "[Parallel(n_jobs=1)]: Using backend SequentialBackend with 1 concurrent workers.\n",
      "C:\\Users\\Administrator.RPK-20180123GWR\\AppData\\Roaming\\Python\\Python37\\site-packages\\sklearn\\model_selection\\_validation.py:536: FitFailedWarning: Estimator fit failed. The score on this train-test partition for these parameters will be set to nan. Details: \n",
      "MemoryError: Unable to allocate 336. MiB for an array with shape (367, 119977) and data type float64\n",
      "\n",
      "  FitFailedWarning)\n",
      "C:\\Users\\Administrator.RPK-20180123GWR\\AppData\\Roaming\\Python\\Python37\\site-packages\\sklearn\\model_selection\\_validation.py:536: FitFailedWarning: Estimator fit failed. The score on this train-test partition for these parameters will be set to nan. Details: \n",
      "MemoryError: Unable to allocate 336. MiB for an array with shape (367, 119977) and data type float64\n",
      "\n",
      "  FitFailedWarning)\n",
      "C:\\Users\\Administrator.RPK-20180123GWR\\AppData\\Roaming\\Python\\Python37\\site-packages\\sklearn\\model_selection\\_validation.py:536: FitFailedWarning: Estimator fit failed. The score on this train-test partition for these parameters will be set to nan. Details: \n",
      "MemoryError: Unable to allocate 336. MiB for an array with shape (367, 119978) and data type float64\n",
      "\n",
      "  FitFailedWarning)\n",
      "C:\\Users\\Administrator.RPK-20180123GWR\\AppData\\Roaming\\Python\\Python37\\site-packages\\sklearn\\model_selection\\_validation.py:536: FitFailedWarning: Estimator fit failed. The score on this train-test partition for these parameters will be set to nan. Details: \n",
      "MemoryError: Unable to allocate 336. MiB for an array with shape (367, 119978) and data type float64\n",
      "\n",
      "  FitFailedWarning)\n"
     ]
    },
    {
     "name": "stdout",
     "output_type": "stream",
     "text": [
      "     Ridge\n",
      "cv1    NaN\n",
      "cv2    NaN\n",
      "cv3    NaN\n",
      "cv4    NaN\n",
      "cv5    NaN\n"
     ]
    },
    {
     "name": "stderr",
     "output_type": "stream",
     "text": [
      "C:\\Users\\Administrator.RPK-20180123GWR\\AppData\\Roaming\\Python\\Python37\\site-packages\\sklearn\\model_selection\\_validation.py:536: FitFailedWarning: Estimator fit failed. The score on this train-test partition for these parameters will be set to nan. Details: \n",
      "MemoryError: Unable to allocate 336. MiB for an array with shape (367, 119978) and data type float64\n",
      "\n",
      "  FitFailedWarning)\n",
      "[Parallel(n_jobs=1)]: Done   5 out of   5 | elapsed:    0.8s finished\n"
     ]
    },
    {
     "ename": "MemoryError",
     "evalue": "Unable to allocate 420. MiB for an array with shape (367, 149972) and data type float64",
     "output_type": "error",
     "traceback": [
      "\u001b[1;31m---------------------------------------------------------------------------\u001b[0m",
      "\u001b[1;31mMemoryError\u001b[0m                               Traceback (most recent call last)",
      "\u001b[1;32m<ipython-input-281-9ab17680d5ca>\u001b[0m in \u001b[0;36m<module>\u001b[1;34m\u001b[0m\n\u001b[0;32m      9\u001b[0m \u001b[0mresult\u001b[0m\u001b[1;33m.\u001b[0m\u001b[0mindex\u001b[0m \u001b[1;33m=\u001b[0m \u001b[1;33m[\u001b[0m\u001b[1;34m'cv'\u001b[0m \u001b[1;33m+\u001b[0m \u001b[0mstr\u001b[0m\u001b[1;33m(\u001b[0m\u001b[0mx\u001b[0m\u001b[1;33m)\u001b[0m \u001b[1;32mfor\u001b[0m \u001b[0mx\u001b[0m \u001b[1;32min\u001b[0m \u001b[0mrange\u001b[0m\u001b[1;33m(\u001b[0m\u001b[1;36m1\u001b[0m\u001b[1;33m,\u001b[0m \u001b[1;36m6\u001b[0m\u001b[1;33m)\u001b[0m\u001b[1;33m]\u001b[0m\u001b[1;33m\u001b[0m\u001b[1;33m\u001b[0m\u001b[0m\n\u001b[0;32m     10\u001b[0m \u001b[0mprint\u001b[0m\u001b[1;33m(\u001b[0m\u001b[0mresult\u001b[0m\u001b[1;33m)\u001b[0m\u001b[1;33m\u001b[0m\u001b[1;33m\u001b[0m\u001b[0m\n\u001b[1;32m---> 11\u001b[1;33m \u001b[0mmodel\u001b[0m \u001b[1;33m=\u001b[0m \u001b[0mRidge\u001b[0m\u001b[1;33m(\u001b[0m\u001b[1;33m)\u001b[0m\u001b[1;33m.\u001b[0m\u001b[0mfit\u001b[0m\u001b[1;33m(\u001b[0m\u001b[0mtrain_x\u001b[0m\u001b[1;33m,\u001b[0m \u001b[0mtrain_y\u001b[0m\u001b[1;33m)\u001b[0m\u001b[1;33m\u001b[0m\u001b[1;33m\u001b[0m\u001b[0m\n\u001b[0m\u001b[0;32m     12\u001b[0m \u001b[0msub_ridge\u001b[0m \u001b[1;33m=\u001b[0m \u001b[0mmodel\u001b[0m\u001b[1;33m.\u001b[0m\u001b[0mpredict\u001b[0m\u001b[1;33m(\u001b[0m\u001b[0mtest_x\u001b[0m\u001b[1;33m)\u001b[0m\u001b[1;33m\u001b[0m\u001b[1;33m\u001b[0m\u001b[0m\n\u001b[0;32m     13\u001b[0m \u001b[1;31m## 定义了一个统计函数，方便后续信息统计\u001b[0m\u001b[1;33m\u001b[0m\u001b[1;33m\u001b[0m\u001b[1;33m\u001b[0m\u001b[0m\n",
      "\u001b[1;32m~\\AppData\\Roaming\\Python\\Python37\\site-packages\\sklearn\\linear_model\\_ridge.py\u001b[0m in \u001b[0;36mfit\u001b[1;34m(self, X, y, sample_weight)\u001b[0m\n\u001b[0;32m    764\u001b[0m         \u001b[0mself\u001b[0m \u001b[1;33m:\u001b[0m \u001b[0mreturns\u001b[0m \u001b[0man\u001b[0m \u001b[0minstance\u001b[0m \u001b[0mof\u001b[0m \u001b[0mself\u001b[0m\u001b[1;33m.\u001b[0m\u001b[1;33m\u001b[0m\u001b[1;33m\u001b[0m\u001b[0m\n\u001b[0;32m    765\u001b[0m         \"\"\"\n\u001b[1;32m--> 766\u001b[1;33m         \u001b[1;32mreturn\u001b[0m \u001b[0msuper\u001b[0m\u001b[1;33m(\u001b[0m\u001b[1;33m)\u001b[0m\u001b[1;33m.\u001b[0m\u001b[0mfit\u001b[0m\u001b[1;33m(\u001b[0m\u001b[0mX\u001b[0m\u001b[1;33m,\u001b[0m \u001b[0my\u001b[0m\u001b[1;33m,\u001b[0m \u001b[0msample_weight\u001b[0m\u001b[1;33m=\u001b[0m\u001b[0msample_weight\u001b[0m\u001b[1;33m)\u001b[0m\u001b[1;33m\u001b[0m\u001b[1;33m\u001b[0m\u001b[0m\n\u001b[0m\u001b[0;32m    767\u001b[0m \u001b[1;33m\u001b[0m\u001b[0m\n\u001b[0;32m    768\u001b[0m \u001b[1;33m\u001b[0m\u001b[0m\n",
      "\u001b[1;32m~\\AppData\\Roaming\\Python\\Python37\\site-packages\\sklearn\\linear_model\\_ridge.py\u001b[0m in \u001b[0;36mfit\u001b[1;34m(self, X, y, sample_weight)\u001b[0m\n\u001b[0;32m    545\u001b[0m                          \u001b[0maccept_sparse\u001b[0m\u001b[1;33m=\u001b[0m\u001b[0m_accept_sparse\u001b[0m\u001b[1;33m,\u001b[0m\u001b[1;33m\u001b[0m\u001b[1;33m\u001b[0m\u001b[0m\n\u001b[0;32m    546\u001b[0m                          \u001b[0mdtype\u001b[0m\u001b[1;33m=\u001b[0m\u001b[0m_dtype\u001b[0m\u001b[1;33m,\u001b[0m\u001b[1;33m\u001b[0m\u001b[1;33m\u001b[0m\u001b[0m\n\u001b[1;32m--> 547\u001b[1;33m                          multi_output=True, y_numeric=True)\n\u001b[0m\u001b[0;32m    548\u001b[0m         \u001b[1;32mif\u001b[0m \u001b[0msparse\u001b[0m\u001b[1;33m.\u001b[0m\u001b[0missparse\u001b[0m\u001b[1;33m(\u001b[0m\u001b[0mX\u001b[0m\u001b[1;33m)\u001b[0m \u001b[1;32mand\u001b[0m \u001b[0mself\u001b[0m\u001b[1;33m.\u001b[0m\u001b[0mfit_intercept\u001b[0m\u001b[1;33m:\u001b[0m\u001b[1;33m\u001b[0m\u001b[1;33m\u001b[0m\u001b[0m\n\u001b[0;32m    549\u001b[0m             \u001b[1;32mif\u001b[0m \u001b[0mself\u001b[0m\u001b[1;33m.\u001b[0m\u001b[0msolver\u001b[0m \u001b[1;32mnot\u001b[0m \u001b[1;32min\u001b[0m \u001b[1;33m[\u001b[0m\u001b[1;34m'auto'\u001b[0m\u001b[1;33m,\u001b[0m \u001b[1;34m'sparse_cg'\u001b[0m\u001b[1;33m,\u001b[0m \u001b[1;34m'sag'\u001b[0m\u001b[1;33m]\u001b[0m\u001b[1;33m:\u001b[0m\u001b[1;33m\u001b[0m\u001b[1;33m\u001b[0m\u001b[0m\n",
      "\u001b[1;32m~\\AppData\\Roaming\\Python\\Python37\\site-packages\\sklearn\\utils\\validation.py\u001b[0m in \u001b[0;36mcheck_X_y\u001b[1;34m(X, y, accept_sparse, accept_large_sparse, dtype, order, copy, force_all_finite, ensure_2d, allow_nd, multi_output, ensure_min_samples, ensure_min_features, y_numeric, warn_on_dtype, estimator)\u001b[0m\n\u001b[0;32m    753\u001b[0m                     \u001b[0mensure_min_features\u001b[0m\u001b[1;33m=\u001b[0m\u001b[0mensure_min_features\u001b[0m\u001b[1;33m,\u001b[0m\u001b[1;33m\u001b[0m\u001b[1;33m\u001b[0m\u001b[0m\n\u001b[0;32m    754\u001b[0m                     \u001b[0mwarn_on_dtype\u001b[0m\u001b[1;33m=\u001b[0m\u001b[0mwarn_on_dtype\u001b[0m\u001b[1;33m,\u001b[0m\u001b[1;33m\u001b[0m\u001b[1;33m\u001b[0m\u001b[0m\n\u001b[1;32m--> 755\u001b[1;33m                     estimator=estimator)\n\u001b[0m\u001b[0;32m    756\u001b[0m     \u001b[1;32mif\u001b[0m \u001b[0mmulti_output\u001b[0m\u001b[1;33m:\u001b[0m\u001b[1;33m\u001b[0m\u001b[1;33m\u001b[0m\u001b[0m\n\u001b[0;32m    757\u001b[0m         y = check_array(y, 'csr', force_all_finite=True, ensure_2d=False,\n",
      "\u001b[1;32m~\\AppData\\Roaming\\Python\\Python37\\site-packages\\sklearn\\utils\\validation.py\u001b[0m in \u001b[0;36mcheck_array\u001b[1;34m(array, accept_sparse, accept_large_sparse, dtype, order, copy, force_all_finite, ensure_2d, allow_nd, ensure_min_samples, ensure_min_features, warn_on_dtype, estimator)\u001b[0m\n\u001b[0;32m    529\u001b[0m                     \u001b[0marray\u001b[0m \u001b[1;33m=\u001b[0m \u001b[0marray\u001b[0m\u001b[1;33m.\u001b[0m\u001b[0mastype\u001b[0m\u001b[1;33m(\u001b[0m\u001b[0mdtype\u001b[0m\u001b[1;33m,\u001b[0m \u001b[0mcasting\u001b[0m\u001b[1;33m=\u001b[0m\u001b[1;34m\"unsafe\"\u001b[0m\u001b[1;33m,\u001b[0m \u001b[0mcopy\u001b[0m\u001b[1;33m=\u001b[0m\u001b[1;32mFalse\u001b[0m\u001b[1;33m)\u001b[0m\u001b[1;33m\u001b[0m\u001b[1;33m\u001b[0m\u001b[0m\n\u001b[0;32m    530\u001b[0m                 \u001b[1;32melse\u001b[0m\u001b[1;33m:\u001b[0m\u001b[1;33m\u001b[0m\u001b[1;33m\u001b[0m\u001b[0m\n\u001b[1;32m--> 531\u001b[1;33m                     \u001b[0marray\u001b[0m \u001b[1;33m=\u001b[0m \u001b[0mnp\u001b[0m\u001b[1;33m.\u001b[0m\u001b[0masarray\u001b[0m\u001b[1;33m(\u001b[0m\u001b[0marray\u001b[0m\u001b[1;33m,\u001b[0m \u001b[0morder\u001b[0m\u001b[1;33m=\u001b[0m\u001b[0morder\u001b[0m\u001b[1;33m,\u001b[0m \u001b[0mdtype\u001b[0m\u001b[1;33m=\u001b[0m\u001b[0mdtype\u001b[0m\u001b[1;33m)\u001b[0m\u001b[1;33m\u001b[0m\u001b[1;33m\u001b[0m\u001b[0m\n\u001b[0m\u001b[0;32m    532\u001b[0m             \u001b[1;32mexcept\u001b[0m \u001b[0mComplexWarning\u001b[0m\u001b[1;33m:\u001b[0m\u001b[1;33m\u001b[0m\u001b[1;33m\u001b[0m\u001b[0m\n\u001b[0;32m    533\u001b[0m                 raise ValueError(\"Complex data not supported\\n\"\n",
      "\u001b[1;32m~\\anaconda3\\lib\\site-packages\\numpy\\core\\_asarray.py\u001b[0m in \u001b[0;36masarray\u001b[1;34m(a, dtype, order)\u001b[0m\n\u001b[0;32m     83\u001b[0m \u001b[1;33m\u001b[0m\u001b[0m\n\u001b[0;32m     84\u001b[0m     \"\"\"\n\u001b[1;32m---> 85\u001b[1;33m     \u001b[1;32mreturn\u001b[0m \u001b[0marray\u001b[0m\u001b[1;33m(\u001b[0m\u001b[0ma\u001b[0m\u001b[1;33m,\u001b[0m \u001b[0mdtype\u001b[0m\u001b[1;33m,\u001b[0m \u001b[0mcopy\u001b[0m\u001b[1;33m=\u001b[0m\u001b[1;32mFalse\u001b[0m\u001b[1;33m,\u001b[0m \u001b[0morder\u001b[0m\u001b[1;33m=\u001b[0m\u001b[0morder\u001b[0m\u001b[1;33m)\u001b[0m\u001b[1;33m\u001b[0m\u001b[1;33m\u001b[0m\u001b[0m\n\u001b[0m\u001b[0;32m     86\u001b[0m \u001b[1;33m\u001b[0m\u001b[0m\n\u001b[0;32m     87\u001b[0m \u001b[1;33m\u001b[0m\u001b[0m\n",
      "\u001b[1;32m~\\anaconda3\\lib\\site-packages\\pandas\\core\\generic.py\u001b[0m in \u001b[0;36m__array__\u001b[1;34m(self, dtype)\u001b[0m\n\u001b[0;32m   1993\u001b[0m \u001b[1;33m\u001b[0m\u001b[0m\n\u001b[0;32m   1994\u001b[0m     \u001b[1;32mdef\u001b[0m \u001b[0m__array__\u001b[0m\u001b[1;33m(\u001b[0m\u001b[0mself\u001b[0m\u001b[1;33m,\u001b[0m \u001b[0mdtype\u001b[0m\u001b[1;33m=\u001b[0m\u001b[1;32mNone\u001b[0m\u001b[1;33m)\u001b[0m\u001b[1;33m:\u001b[0m\u001b[1;33m\u001b[0m\u001b[1;33m\u001b[0m\u001b[0m\n\u001b[1;32m-> 1995\u001b[1;33m         \u001b[1;32mreturn\u001b[0m \u001b[0mcom\u001b[0m\u001b[1;33m.\u001b[0m\u001b[0mvalues_from_object\u001b[0m\u001b[1;33m(\u001b[0m\u001b[0mself\u001b[0m\u001b[1;33m)\u001b[0m\u001b[1;33m\u001b[0m\u001b[1;33m\u001b[0m\u001b[0m\n\u001b[0m\u001b[0;32m   1996\u001b[0m \u001b[1;33m\u001b[0m\u001b[0m\n\u001b[0;32m   1997\u001b[0m     \u001b[1;32mdef\u001b[0m \u001b[0m__array_wrap__\u001b[0m\u001b[1;33m(\u001b[0m\u001b[0mself\u001b[0m\u001b[1;33m,\u001b[0m \u001b[0mresult\u001b[0m\u001b[1;33m,\u001b[0m \u001b[0mcontext\u001b[0m\u001b[1;33m=\u001b[0m\u001b[1;32mNone\u001b[0m\u001b[1;33m)\u001b[0m\u001b[1;33m:\u001b[0m\u001b[1;33m\u001b[0m\u001b[1;33m\u001b[0m\u001b[0m\n",
      "\u001b[1;32mpandas/_libs/lib.pyx\u001b[0m in \u001b[0;36mpandas._libs.lib.values_from_object\u001b[1;34m()\u001b[0m\n",
      "\u001b[1;32m~\\anaconda3\\lib\\site-packages\\pandas\\core\\generic.py\u001b[0m in \u001b[0;36mvalues\u001b[1;34m(self)\u001b[0m\n\u001b[0;32m   5441\u001b[0m         \"\"\"\n\u001b[0;32m   5442\u001b[0m         \u001b[0mself\u001b[0m\u001b[1;33m.\u001b[0m\u001b[0m_consolidate_inplace\u001b[0m\u001b[1;33m(\u001b[0m\u001b[1;33m)\u001b[0m\u001b[1;33m\u001b[0m\u001b[1;33m\u001b[0m\u001b[0m\n\u001b[1;32m-> 5443\u001b[1;33m         \u001b[1;32mreturn\u001b[0m \u001b[0mself\u001b[0m\u001b[1;33m.\u001b[0m\u001b[0m_data\u001b[0m\u001b[1;33m.\u001b[0m\u001b[0mas_array\u001b[0m\u001b[1;33m(\u001b[0m\u001b[0mtranspose\u001b[0m\u001b[1;33m=\u001b[0m\u001b[0mself\u001b[0m\u001b[1;33m.\u001b[0m\u001b[0m_AXIS_REVERSED\u001b[0m\u001b[1;33m)\u001b[0m\u001b[1;33m\u001b[0m\u001b[1;33m\u001b[0m\u001b[0m\n\u001b[0m\u001b[0;32m   5444\u001b[0m \u001b[1;33m\u001b[0m\u001b[0m\n\u001b[0;32m   5445\u001b[0m     \u001b[1;33m@\u001b[0m\u001b[0mproperty\u001b[0m\u001b[1;33m\u001b[0m\u001b[1;33m\u001b[0m\u001b[0m\n",
      "\u001b[1;32m~\\anaconda3\\lib\\site-packages\\pandas\\core\\internals\\managers.py\u001b[0m in \u001b[0;36mas_array\u001b[1;34m(self, transpose, items)\u001b[0m\n\u001b[0;32m    820\u001b[0m             \u001b[0marr\u001b[0m \u001b[1;33m=\u001b[0m \u001b[0mnp\u001b[0m\u001b[1;33m.\u001b[0m\u001b[0masarray\u001b[0m\u001b[1;33m(\u001b[0m\u001b[0mmgr\u001b[0m\u001b[1;33m.\u001b[0m\u001b[0mblocks\u001b[0m\u001b[1;33m[\u001b[0m\u001b[1;36m0\u001b[0m\u001b[1;33m]\u001b[0m\u001b[1;33m.\u001b[0m\u001b[0mget_values\u001b[0m\u001b[1;33m(\u001b[0m\u001b[1;33m)\u001b[0m\u001b[1;33m)\u001b[0m\u001b[1;33m\u001b[0m\u001b[1;33m\u001b[0m\u001b[0m\n\u001b[0;32m    821\u001b[0m         \u001b[1;32melse\u001b[0m\u001b[1;33m:\u001b[0m\u001b[1;33m\u001b[0m\u001b[1;33m\u001b[0m\u001b[0m\n\u001b[1;32m--> 822\u001b[1;33m             \u001b[0marr\u001b[0m \u001b[1;33m=\u001b[0m \u001b[0mmgr\u001b[0m\u001b[1;33m.\u001b[0m\u001b[0m_interleave\u001b[0m\u001b[1;33m(\u001b[0m\u001b[1;33m)\u001b[0m\u001b[1;33m\u001b[0m\u001b[1;33m\u001b[0m\u001b[0m\n\u001b[0m\u001b[0;32m    823\u001b[0m \u001b[1;33m\u001b[0m\u001b[0m\n\u001b[0;32m    824\u001b[0m         \u001b[1;32mreturn\u001b[0m \u001b[0marr\u001b[0m\u001b[1;33m.\u001b[0m\u001b[0mtranspose\u001b[0m\u001b[1;33m(\u001b[0m\u001b[1;33m)\u001b[0m \u001b[1;32mif\u001b[0m \u001b[0mtranspose\u001b[0m \u001b[1;32melse\u001b[0m \u001b[0marr\u001b[0m\u001b[1;33m\u001b[0m\u001b[1;33m\u001b[0m\u001b[0m\n",
      "\u001b[1;32m~\\anaconda3\\lib\\site-packages\\pandas\\core\\internals\\managers.py\u001b[0m in \u001b[0;36m_interleave\u001b[1;34m(self)\u001b[0m\n\u001b[0;32m    838\u001b[0m             \u001b[0mdtype\u001b[0m \u001b[1;33m=\u001b[0m \u001b[1;34m\"object\"\u001b[0m\u001b[1;33m\u001b[0m\u001b[1;33m\u001b[0m\u001b[0m\n\u001b[0;32m    839\u001b[0m \u001b[1;33m\u001b[0m\u001b[0m\n\u001b[1;32m--> 840\u001b[1;33m         \u001b[0mresult\u001b[0m \u001b[1;33m=\u001b[0m \u001b[0mnp\u001b[0m\u001b[1;33m.\u001b[0m\u001b[0mempty\u001b[0m\u001b[1;33m(\u001b[0m\u001b[0mself\u001b[0m\u001b[1;33m.\u001b[0m\u001b[0mshape\u001b[0m\u001b[1;33m,\u001b[0m \u001b[0mdtype\u001b[0m\u001b[1;33m=\u001b[0m\u001b[0mdtype\u001b[0m\u001b[1;33m)\u001b[0m\u001b[1;33m\u001b[0m\u001b[1;33m\u001b[0m\u001b[0m\n\u001b[0m\u001b[0;32m    841\u001b[0m \u001b[1;33m\u001b[0m\u001b[0m\n\u001b[0;32m    842\u001b[0m         \u001b[0mitemmask\u001b[0m \u001b[1;33m=\u001b[0m \u001b[0mnp\u001b[0m\u001b[1;33m.\u001b[0m\u001b[0mzeros\u001b[0m\u001b[1;33m(\u001b[0m\u001b[0mself\u001b[0m\u001b[1;33m.\u001b[0m\u001b[0mshape\u001b[0m\u001b[1;33m[\u001b[0m\u001b[1;36m0\u001b[0m\u001b[1;33m]\u001b[0m\u001b[1;33m)\u001b[0m\u001b[1;33m\u001b[0m\u001b[1;33m\u001b[0m\u001b[0m\n",
      "\u001b[1;31mMemoryError\u001b[0m: Unable to allocate 420. MiB for an array with shape (367, 149972) and data type float64"
     ]
    }
   ],
   "source": [
    "#Ridge回归\n",
    "from sklearn.linear_model import Ridge\n",
    "from sklearn.metrics import mean_absolute_error,  make_scorer\n",
    "model = Ridge()\n",
    "scores = cross_val_score(model, X=train_x, y=train_y, verbose=1, cv = 5, scoring=make_scorer(mean_absolute_error))\n",
    "result = dict()\n",
    "result['Ridge'] = scores\n",
    "result = pd.DataFrame(result)\n",
    "result.index = ['cv' + str(x) for x in range(1, 6)]\n",
    "print(result)\n",
    "model = Ridge().fit(train_x, train_y)\n",
    "sub_ridge = model.predict(test_x)\n",
    "## 定义了一个统计函数，方便后续信息统计\n",
    "def Sta_inf(data):\n",
    "    print('_min',np.min(data))\n",
    "    print('_max:',np.max(data))\n",
    "    print('_mean',np.mean(data))\n",
    "    print('_ptp',np.ptp(data))#最大与最小值的差\n",
    "    print('_std',np.std(data))\n",
    "    print('_var',np.var(data))\n",
    "Sta_inf(sub_ridge)\n",
    "sub_ridge=sub_ridge.apply(lambda x:10 if x<10 else x)"
   ]
  },
  {
   "cell_type": "code",
   "execution_count": 284,
   "metadata": {},
   "outputs": [],
   "source": [
    "Train_data=Train_data.drop('SaleID',axis=1)\n",
    "continuous_feature_names = [x for x in Train_data.columns if x not in 'price']\n",
    "\n",
    "train_x = Train_data[continuous_feature_names]   #训练集x值\n",
    "\n",
    "\n",
    "#在这里我们对标签进行了 log(x+1) 变换，使标签贴近于正态分布\n",
    "#Train_data['price'].value_counts()\n",
    "train_y =Train_data['price']       #训练集y值\n",
    "train_y_ln = np.log(train_y + 1)"
   ]
  },
  {
   "cell_type": "code",
   "execution_count": 288,
   "metadata": {},
   "outputs": [],
   "source": [
    "T=Test_data.copy()\n",
    "#Test_data=Test_data.drop('SaleID',axis=1)\n",
    "\n",
    "continuous_feature_names = [x for x in Test_data.columns]\n",
    "\n",
    "test_x = Test_data[continuous_feature_names]   #测试集x值"
   ]
  },
  {
   "cell_type": "code",
   "execution_count": 290,
   "metadata": {},
   "outputs": [
    {
     "name": "stdout",
     "output_type": "stream",
     "text": [
      "|   iter    |  target   | learni... | max_depth | n_esti... | subsample |\n",
      "-------------------------------------------------------------------------\n"
     ]
    },
    {
     "name": "stderr",
     "output_type": "stream",
     "text": [
      "C:\\Users\\Administrator.RPK-20180123GWR\\AppData\\Roaming\\Python\\Python37\\site-packages\\sklearn\\model_selection\\_validation.py:536: FitFailedWarning: Estimator fit failed. The score on this train-test partition for these parameters will be set to nan. Details: \n",
      "MemoryError: Unable to allocate 336. MiB for an array with shape (367, 119999) and data type float64\n",
      "\n",
      "  FitFailedWarning)\n",
      "C:\\Users\\Administrator.RPK-20180123GWR\\AppData\\Roaming\\Python\\Python37\\site-packages\\sklearn\\model_selection\\_validation.py:536: FitFailedWarning: Estimator fit failed. The score on this train-test partition for these parameters will be set to nan. Details: \n",
      "MemoryError: Unable to allocate 336. MiB for an array with shape (367, 120000) and data type float64\n",
      "\n",
      "  FitFailedWarning)\n"
     ]
    },
    {
     "name": "stdout",
     "output_type": "stream",
     "text": [
      "| \u001b[0m 1       \u001b[0m | \u001b[0m nan     \u001b[0m | \u001b[0m 0.08173 \u001b[0m | \u001b[0m 7.305   \u001b[0m | \u001b[0m 158.3   \u001b[0m | \u001b[0m 0.2271  \u001b[0m |\n",
      "| \u001b[0m 2       \u001b[0m | \u001b[0m nan     \u001b[0m | \u001b[0m 0.1717  \u001b[0m | \u001b[0m 99.32   \u001b[0m | \u001b[0m 117.8   \u001b[0m | \u001b[0m 0.7751  \u001b[0m |\n",
      "| \u001b[0m 3       \u001b[0m | \u001b[0m nan     \u001b[0m | \u001b[0m 0.07419 \u001b[0m | \u001b[0m 80.37   \u001b[0m | \u001b[0m 157.1   \u001b[0m | \u001b[0m 0.4699  \u001b[0m |\n",
      "| \u001b[0m 4       \u001b[0m | \u001b[0m nan     \u001b[0m | \u001b[0m 0.05404 \u001b[0m | \u001b[0m 40.99   \u001b[0m | \u001b[0m 73.63   \u001b[0m | \u001b[0m 0.9356  \u001b[0m |\n",
      "| \u001b[0m 5       \u001b[0m | \u001b[0m nan     \u001b[0m | \u001b[0m 0.1036  \u001b[0m | \u001b[0m 68.22   \u001b[0m | \u001b[0m 188.9   \u001b[0m | \u001b[0m 0.6604  \u001b[0m |\n"
     ]
    },
    {
     "ename": "ValueError",
     "evalue": "Input contains NaN, infinity or a value too large for dtype('float64').",
     "output_type": "error",
     "traceback": [
      "\u001b[1;31m---------------------------------------------------------------------------\u001b[0m",
      "\u001b[1;31mStopIteration\u001b[0m                             Traceback (most recent call last)",
      "\u001b[1;32m~\\anaconda3\\lib\\site-packages\\bayes_opt\\bayesian_optimization.py\u001b[0m in \u001b[0;36mmaximize\u001b[1;34m(self, init_points, n_iter, acq, kappa, xi, **gp_params)\u001b[0m\n\u001b[0;32m    168\u001b[0m             \u001b[1;32mtry\u001b[0m\u001b[1;33m:\u001b[0m\u001b[1;33m\u001b[0m\u001b[1;33m\u001b[0m\u001b[0m\n\u001b[1;32m--> 169\u001b[1;33m                 \u001b[0mx_probe\u001b[0m \u001b[1;33m=\u001b[0m \u001b[0mnext\u001b[0m\u001b[1;33m(\u001b[0m\u001b[0mself\u001b[0m\u001b[1;33m.\u001b[0m\u001b[0m_queue\u001b[0m\u001b[1;33m)\u001b[0m\u001b[1;33m\u001b[0m\u001b[1;33m\u001b[0m\u001b[0m\n\u001b[0m\u001b[0;32m    170\u001b[0m             \u001b[1;32mexcept\u001b[0m \u001b[0mStopIteration\u001b[0m\u001b[1;33m:\u001b[0m\u001b[1;33m\u001b[0m\u001b[1;33m\u001b[0m\u001b[0m\n",
      "\u001b[1;32m~\\anaconda3\\lib\\site-packages\\bayes_opt\\bayesian_optimization.py\u001b[0m in \u001b[0;36m__next__\u001b[1;34m(self)\u001b[0m\n\u001b[0;32m     25\u001b[0m         \u001b[1;32mif\u001b[0m \u001b[0mself\u001b[0m\u001b[1;33m.\u001b[0m\u001b[0mempty\u001b[0m\u001b[1;33m:\u001b[0m\u001b[1;33m\u001b[0m\u001b[1;33m\u001b[0m\u001b[0m\n\u001b[1;32m---> 26\u001b[1;33m             \u001b[1;32mraise\u001b[0m \u001b[0mStopIteration\u001b[0m\u001b[1;33m(\u001b[0m\u001b[1;34m\"Queue is empty, no more objects to retrieve.\"\u001b[0m\u001b[1;33m)\u001b[0m\u001b[1;33m\u001b[0m\u001b[1;33m\u001b[0m\u001b[0m\n\u001b[0m\u001b[0;32m     27\u001b[0m         \u001b[0mobj\u001b[0m \u001b[1;33m=\u001b[0m \u001b[0mself\u001b[0m\u001b[1;33m.\u001b[0m\u001b[0m_queue\u001b[0m\u001b[1;33m[\u001b[0m\u001b[1;36m0\u001b[0m\u001b[1;33m]\u001b[0m\u001b[1;33m\u001b[0m\u001b[1;33m\u001b[0m\u001b[0m\n",
      "\u001b[1;31mStopIteration\u001b[0m: Queue is empty, no more objects to retrieve.",
      "\nDuring handling of the above exception, another exception occurred:\n",
      "\u001b[1;31mValueError\u001b[0m                                Traceback (most recent call last)",
      "\u001b[1;32m<ipython-input-290-5b02b384ce8a>\u001b[0m in \u001b[0;36m<module>\u001b[1;34m\u001b[0m\n\u001b[0;32m     30\u001b[0m     )\n\u001b[0;32m     31\u001b[0m \u001b[1;33m\u001b[0m\u001b[0m\n\u001b[1;32m---> 32\u001b[1;33m \u001b[0mrf_bo\u001b[0m\u001b[1;33m.\u001b[0m\u001b[0mmaximize\u001b[0m\u001b[1;33m(\u001b[0m\u001b[1;33m)\u001b[0m\u001b[1;33m\u001b[0m\u001b[1;33m\u001b[0m\u001b[0m\n\u001b[0m",
      "\u001b[1;32m~\\anaconda3\\lib\\site-packages\\bayes_opt\\bayesian_optimization.py\u001b[0m in \u001b[0;36mmaximize\u001b[1;34m(self, init_points, n_iter, acq, kappa, xi, **gp_params)\u001b[0m\n\u001b[0;32m    169\u001b[0m                 \u001b[0mx_probe\u001b[0m \u001b[1;33m=\u001b[0m \u001b[0mnext\u001b[0m\u001b[1;33m(\u001b[0m\u001b[0mself\u001b[0m\u001b[1;33m.\u001b[0m\u001b[0m_queue\u001b[0m\u001b[1;33m)\u001b[0m\u001b[1;33m\u001b[0m\u001b[1;33m\u001b[0m\u001b[0m\n\u001b[0;32m    170\u001b[0m             \u001b[1;32mexcept\u001b[0m \u001b[0mStopIteration\u001b[0m\u001b[1;33m:\u001b[0m\u001b[1;33m\u001b[0m\u001b[1;33m\u001b[0m\u001b[0m\n\u001b[1;32m--> 171\u001b[1;33m                 \u001b[0mx_probe\u001b[0m \u001b[1;33m=\u001b[0m \u001b[0mself\u001b[0m\u001b[1;33m.\u001b[0m\u001b[0msuggest\u001b[0m\u001b[1;33m(\u001b[0m\u001b[0mutil\u001b[0m\u001b[1;33m)\u001b[0m\u001b[1;33m\u001b[0m\u001b[1;33m\u001b[0m\u001b[0m\n\u001b[0m\u001b[0;32m    172\u001b[0m                 \u001b[0miteration\u001b[0m \u001b[1;33m+=\u001b[0m \u001b[1;36m1\u001b[0m\u001b[1;33m\u001b[0m\u001b[1;33m\u001b[0m\u001b[0m\n\u001b[0;32m    173\u001b[0m \u001b[1;33m\u001b[0m\u001b[0m\n",
      "\u001b[1;32m~\\anaconda3\\lib\\site-packages\\bayes_opt\\bayesian_optimization.py\u001b[0m in \u001b[0;36msuggest\u001b[1;34m(self, utility_function)\u001b[0m\n\u001b[0;32m    122\u001b[0m         \u001b[1;32mwith\u001b[0m \u001b[0mwarnings\u001b[0m\u001b[1;33m.\u001b[0m\u001b[0mcatch_warnings\u001b[0m\u001b[1;33m(\u001b[0m\u001b[1;33m)\u001b[0m\u001b[1;33m:\u001b[0m\u001b[1;33m\u001b[0m\u001b[1;33m\u001b[0m\u001b[0m\n\u001b[0;32m    123\u001b[0m             \u001b[0mwarnings\u001b[0m\u001b[1;33m.\u001b[0m\u001b[0msimplefilter\u001b[0m\u001b[1;33m(\u001b[0m\u001b[1;34m\"ignore\"\u001b[0m\u001b[1;33m)\u001b[0m\u001b[1;33m\u001b[0m\u001b[1;33m\u001b[0m\u001b[0m\n\u001b[1;32m--> 124\u001b[1;33m             \u001b[0mself\u001b[0m\u001b[1;33m.\u001b[0m\u001b[0m_gp\u001b[0m\u001b[1;33m.\u001b[0m\u001b[0mfit\u001b[0m\u001b[1;33m(\u001b[0m\u001b[0mself\u001b[0m\u001b[1;33m.\u001b[0m\u001b[0m_space\u001b[0m\u001b[1;33m.\u001b[0m\u001b[0mparams\u001b[0m\u001b[1;33m,\u001b[0m \u001b[0mself\u001b[0m\u001b[1;33m.\u001b[0m\u001b[0m_space\u001b[0m\u001b[1;33m.\u001b[0m\u001b[0mtarget\u001b[0m\u001b[1;33m)\u001b[0m\u001b[1;33m\u001b[0m\u001b[1;33m\u001b[0m\u001b[0m\n\u001b[0m\u001b[0;32m    125\u001b[0m \u001b[1;33m\u001b[0m\u001b[0m\n\u001b[0;32m    126\u001b[0m         \u001b[1;31m# Finding argmax of the acquisition function.\u001b[0m\u001b[1;33m\u001b[0m\u001b[1;33m\u001b[0m\u001b[1;33m\u001b[0m\u001b[0m\n",
      "\u001b[1;32m~\\AppData\\Roaming\\Python\\Python37\\site-packages\\sklearn\\gaussian_process\\_gpr.py\u001b[0m in \u001b[0;36mfit\u001b[1;34m(self, X, y)\u001b[0m\n\u001b[0;32m    189\u001b[0m         \u001b[1;32mif\u001b[0m \u001b[0mself\u001b[0m\u001b[1;33m.\u001b[0m\u001b[0mkernel_\u001b[0m\u001b[1;33m.\u001b[0m\u001b[0mrequires_vector_input\u001b[0m\u001b[1;33m:\u001b[0m\u001b[1;33m\u001b[0m\u001b[1;33m\u001b[0m\u001b[0m\n\u001b[0;32m    190\u001b[0m             X, y = check_X_y(X, y, multi_output=True, y_numeric=True,\n\u001b[1;32m--> 191\u001b[1;33m                              ensure_2d=True, dtype=\"numeric\")\n\u001b[0m\u001b[0;32m    192\u001b[0m         \u001b[1;32melse\u001b[0m\u001b[1;33m:\u001b[0m\u001b[1;33m\u001b[0m\u001b[1;33m\u001b[0m\u001b[0m\n\u001b[0;32m    193\u001b[0m             X, y = check_X_y(X, y, multi_output=True, y_numeric=True,\n",
      "\u001b[1;32m~\\AppData\\Roaming\\Python\\Python37\\site-packages\\sklearn\\utils\\validation.py\u001b[0m in \u001b[0;36mcheck_X_y\u001b[1;34m(X, y, accept_sparse, accept_large_sparse, dtype, order, copy, force_all_finite, ensure_2d, allow_nd, multi_output, ensure_min_samples, ensure_min_features, y_numeric, warn_on_dtype, estimator)\u001b[0m\n\u001b[0;32m    756\u001b[0m     \u001b[1;32mif\u001b[0m \u001b[0mmulti_output\u001b[0m\u001b[1;33m:\u001b[0m\u001b[1;33m\u001b[0m\u001b[1;33m\u001b[0m\u001b[0m\n\u001b[0;32m    757\u001b[0m         y = check_array(y, 'csr', force_all_finite=True, ensure_2d=False,\n\u001b[1;32m--> 758\u001b[1;33m                         dtype=None)\n\u001b[0m\u001b[0;32m    759\u001b[0m     \u001b[1;32melse\u001b[0m\u001b[1;33m:\u001b[0m\u001b[1;33m\u001b[0m\u001b[1;33m\u001b[0m\u001b[0m\n\u001b[0;32m    760\u001b[0m         \u001b[0my\u001b[0m \u001b[1;33m=\u001b[0m \u001b[0mcolumn_or_1d\u001b[0m\u001b[1;33m(\u001b[0m\u001b[0my\u001b[0m\u001b[1;33m,\u001b[0m \u001b[0mwarn\u001b[0m\u001b[1;33m=\u001b[0m\u001b[1;32mTrue\u001b[0m\u001b[1;33m)\u001b[0m\u001b[1;33m\u001b[0m\u001b[1;33m\u001b[0m\u001b[0m\n",
      "\u001b[1;32m~\\AppData\\Roaming\\Python\\Python37\\site-packages\\sklearn\\utils\\validation.py\u001b[0m in \u001b[0;36mcheck_array\u001b[1;34m(array, accept_sparse, accept_large_sparse, dtype, order, copy, force_all_finite, ensure_2d, allow_nd, ensure_min_samples, ensure_min_features, warn_on_dtype, estimator)\u001b[0m\n\u001b[0;32m    576\u001b[0m         \u001b[1;32mif\u001b[0m \u001b[0mforce_all_finite\u001b[0m\u001b[1;33m:\u001b[0m\u001b[1;33m\u001b[0m\u001b[1;33m\u001b[0m\u001b[0m\n\u001b[0;32m    577\u001b[0m             _assert_all_finite(array,\n\u001b[1;32m--> 578\u001b[1;33m                                allow_nan=force_all_finite == 'allow-nan')\n\u001b[0m\u001b[0;32m    579\u001b[0m \u001b[1;33m\u001b[0m\u001b[0m\n\u001b[0;32m    580\u001b[0m     \u001b[1;32mif\u001b[0m \u001b[0mensure_min_samples\u001b[0m \u001b[1;33m>\u001b[0m \u001b[1;36m0\u001b[0m\u001b[1;33m:\u001b[0m\u001b[1;33m\u001b[0m\u001b[1;33m\u001b[0m\u001b[0m\n",
      "\u001b[1;32m~\\AppData\\Roaming\\Python\\Python37\\site-packages\\sklearn\\utils\\validation.py\u001b[0m in \u001b[0;36m_assert_all_finite\u001b[1;34m(X, allow_nan, msg_dtype)\u001b[0m\n\u001b[0;32m     58\u001b[0m                     \u001b[0mmsg_err\u001b[0m\u001b[1;33m.\u001b[0m\u001b[0mformat\u001b[0m\u001b[1;33m\u001b[0m\u001b[1;33m\u001b[0m\u001b[0m\n\u001b[0;32m     59\u001b[0m                     (type_err,\n\u001b[1;32m---> 60\u001b[1;33m                      msg_dtype if msg_dtype is not None else X.dtype)\n\u001b[0m\u001b[0;32m     61\u001b[0m             )\n\u001b[0;32m     62\u001b[0m     \u001b[1;31m# for object dtype data, we only check for NaNs (GH-13254)\u001b[0m\u001b[1;33m\u001b[0m\u001b[1;33m\u001b[0m\u001b[1;33m\u001b[0m\u001b[0m\n",
      "\u001b[1;31mValueError\u001b[0m: Input contains NaN, infinity or a value too large for dtype('float64')."
     ]
    }
   ],
   "source": [
    "from bayes_opt import BayesianOptimization\n",
    "from sklearn.model_selection import cross_val_score\n",
    "from sklearn.metrics import mean_absolute_error,  make_scorer\n",
    "from xgboost.sklearn import XGBRegressor\n",
    "import xgboost as xgb\n",
    "\n",
    "#调参xgb模型函数\n",
    "'''\n",
    "model = xgb.XGBRegressor(n_estimators=150, learning_rate=0.1, gamma=0, subsample=0.8,\\\n",
    "        colsample_bytree=0.9, max_depth=7) #, objective ='reg:squarederror'\n",
    "'''\n",
    "xgr = xgb.XGBRegressor()\n",
    "def rf_cv(n_estimators, subsample, learning_rate, max_depth):\n",
    "    val = cross_val_score(\n",
    "        XGBRegressor(objective = 'regression_l1',\n",
    "            subsample = subsample,\n",
    "            max_depth=int(max_depth),\n",
    "            n_estimators=int(n_estimators),\n",
    "            learning_rate=learning_rate\n",
    "        ),\n",
    "        train_x, train_y_ln, scoring=make_scorer(mean_absolute_error), cv=5,verbose=0\n",
    "    ).mean()\n",
    "    return 1-val\n",
    "rf_bo = BayesianOptimization(\n",
    "        rf_cv,\n",
    "        {'n_estimators': (60, 250),\n",
    "        'subsample': (0.1, 1),\n",
    "        'learning_rate': (0.05, 0.2),\n",
    "        'max_depth': (2, 100)}\n",
    "    )\n",
    "\n",
    "rf_bo.maximize()"
   ]
  }
 ],
 "metadata": {
  "kernelspec": {
   "display_name": "Python 3",
   "language": "python",
   "name": "python3"
  },
  "language_info": {
   "codemirror_mode": {
    "name": "ipython",
    "version": 3
   },
   "file_extension": ".py",
   "mimetype": "text/x-python",
   "name": "python",
   "nbconvert_exporter": "python",
   "pygments_lexer": "ipython3",
   "version": "3.8.8"
  }
 },
 "nbformat": 4,
 "nbformat_minor": 4
}
