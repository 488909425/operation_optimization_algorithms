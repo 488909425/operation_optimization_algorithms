{
 "cells": [
  {
   "cell_type": "code",
   "execution_count": 55,
   "metadata": {},
   "outputs": [],
   "source": [
    "## 基础工具\n",
    "import numpy as np\n",
    "import pandas as pd\n",
    "import warnings\n",
    "import matplotlib\n",
    "import matplotlib.pyplot as plt\n",
    "import seaborn as sns\n",
    "from scipy.special import jn\n",
    "from IPython.display import display, clear_output\n",
    "import time\n",
    "\n",
    "warnings.filterwarnings('ignore')\n",
    "%matplotlib inline\n",
    "\n",
    "## 模型预测的\n",
    "from sklearn import linear_model\n",
    "from sklearn import preprocessing\n",
    "from sklearn.svm import SVR\n",
    "from sklearn.ensemble import RandomForestRegressor,GradientBoostingRegressor\n",
    "\n",
    "## 数据降维处理的\n",
    "from sklearn.decomposition import PCA,FastICA,FactorAnalysis,SparsePCA\n",
    "\n",
    "import xgboost as xgb\n",
    "\n",
    "## 参数搜索和评价的\n",
    "from sklearn.model_selection import GridSearchCV,cross_val_score,StratifiedKFold,train_test_split\n",
    "from sklearn.metrics import mean_squared_error, mean_absolute_error"
   ]
  },
  {
   "cell_type": "code",
   "execution_count": 56,
   "metadata": {},
   "outputs": [],
   "source": [
    "Train_data = pd.read_csv('E:\\Traindata_for_tree_own.csv')"
   ]
  },
  {
   "cell_type": "code",
   "execution_count": 57,
   "metadata": {},
   "outputs": [
    {
     "name": "stdout",
     "output_type": "stream",
     "text": [
      "Memory usage of dataframe is 43199490.00 MB\n",
      "Memory usage after optimization is: 11549912.00 MB\n",
      "Decreased by 73.3%\n"
     ]
    }
   ],
   "source": [
    "def reduce_mem_usage(df):\n",
    "    \"\"\" iterate through all the columns of a dataframe and modify the data type\n",
    "        to reduce memory usage.        \n",
    "    \"\"\"\n",
    "    start_mem = df.memory_usage().sum() \n",
    "    print('Memory usage of dataframe is {:.2f} MB'.format(start_mem))\n",
    "    \n",
    "    for col in df.columns:\n",
    "        col_type = df[col].dtype\n",
    "        \n",
    "        if col_type != object:\n",
    "            c_min = df[col].min()\n",
    "            c_max = df[col].max()\n",
    "            if str(col_type)[:3] == 'int':\n",
    "                if c_min > np.iinfo(np.int8).min and c_max < np.iinfo(np.int8).max:\n",
    "                    df[col] = df[col].astype(np.int8)\n",
    "                elif c_min > np.iinfo(np.int16).min and c_max < np.iinfo(np.int16).max:\n",
    "                    df[col] = df[col].astype(np.int16)\n",
    "                elif c_min > np.iinfo(np.int32).min and c_max < np.iinfo(np.int32).max:\n",
    "                    df[col] = df[col].astype(np.int32)\n",
    "                elif c_min > np.iinfo(np.int64).min and c_max < np.iinfo(np.int64).max:\n",
    "                    df[col] = df[col].astype(np.int64)  \n",
    "            else:\n",
    "                if c_min > np.finfo(np.float16).min and c_max < np.finfo(np.float16).max:\n",
    "                    df[col] = df[col].astype(np.float16)\n",
    "                elif c_min > np.finfo(np.float32).min and c_max < np.finfo(np.float32).max:\n",
    "                    df[col] = df[col].astype(np.float32)\n",
    "                else:\n",
    "                    df[col] = df[col].astype(np.float64)\n",
    "        else:\n",
    "            df[col] = df[col].astype('category')\n",
    "\n",
    "    end_mem = df.memory_usage().sum() \n",
    "    print('Memory usage after optimization is: {:.2f} MB'.format(end_mem))\n",
    "    print('Decreased by {:.1f}%'.format(100 * (start_mem - end_mem) / start_mem))\n",
    "    return df\n",
    "Train_data=reduce_mem_usage(Train_data)"
   ]
  },
  {
   "cell_type": "code",
   "execution_count": 58,
   "metadata": {},
   "outputs": [],
   "source": [
    "Train_data['city']=Train_data['city'].fillna(0).astype(float)\n"
   ]
  },
  {
   "cell_type": "code",
   "execution_count": 59,
   "metadata": {},
   "outputs": [
    {
     "name": "stdout",
     "output_type": "stream",
     "text": [
      "0         7.523481\n",
      "1         8.188967\n",
      "2         8.736007\n",
      "3         7.783641\n",
      "4         8.556606\n",
      "            ...   \n",
      "149993    8.682877\n",
      "149994    9.159152\n",
      "149995    8.922792\n",
      "149996    8.517193\n",
      "149997    8.455531\n",
      "Name: price, Length: 149998, dtype: float64\n"
     ]
    }
   ],
   "source": [
    "\n",
    "Train_data=Train_data.drop('SaleID',axis=1)\n",
    "continuous_feature_names = [x for x in Train_data.columns if x not in 'price']\n",
    "\n",
    "train_x = Train_data[continuous_feature_names]   #训练集x值\n",
    "\n",
    "#在这里我们对标签进行了 log(x+1) 变换，使标签贴近于正态分布\n",
    "\n",
    "train_y =np.log(Train_data['price']+1)       #训练集y值\n",
    "print(train_y_ln)"
   ]
  },
  {
   "cell_type": "code",
   "execution_count": 60,
   "metadata": {},
   "outputs": [
    {
     "name": "stdout",
     "output_type": "stream",
     "text": [
      "Memory usage of dataframe is 14000066.00 MB\n",
      "Memory usage after optimization is: 3650066.00 MB\n",
      "Decreased by 73.9%\n"
     ]
    }
   ],
   "source": [
    "Test_data = reduce_mem_usage(pd.read_csv('E:\\Testdata_for_tree_own.csv'))\n",
    "Test_data['city']=Test_data['city'].fillna(0).astype(float)\n",
    "\n",
    "T=Test_data.copy()#复制一份\n",
    "\n",
    "Test_data=Test_data.drop('SaleID',axis=1)\n",
    "continuous_feature_names = [x for x in Test_data.columns]\n",
    "\n",
    "test_x = Test_data[continuous_feature_names]   #测试集x值"
   ]
  },
  {
   "cell_type": "code",
   "execution_count": 61,
   "metadata": {},
   "outputs": [
    {
     "name": "stdout",
     "output_type": "stream",
     "text": [
      "<class 'pandas.core.frame.DataFrame'>\n",
      "RangeIndex: 149998 entries, 0 to 149997\n",
      "Data columns (total 35 columns):\n",
      "model                  149998 non-null float16\n",
      "brand                  149998 non-null int8\n",
      "bodyType               149998 non-null float16\n",
      "fuelType               149998 non-null float16\n",
      "gearbox                149998 non-null float16\n",
      "power                  149998 non-null int16\n",
      "kilometer              149998 non-null float16\n",
      "notRepairedDamage      149998 non-null float16\n",
      "price                  149998 non-null int32\n",
      "v_0                    149998 non-null float16\n",
      "v_1                    149998 non-null float16\n",
      "v_2                    149998 non-null float16\n",
      "v_3                    149998 non-null float16\n",
      "v_4                    149998 non-null float16\n",
      "v_5                    149998 non-null float16\n",
      "v_6                    149998 non-null float16\n",
      "v_7                    149998 non-null float16\n",
      "v_8                    149998 non-null float16\n",
      "v_9                    149998 non-null float16\n",
      "v_10                   149998 non-null float16\n",
      "v_11                   149998 non-null float16\n",
      "v_12                   149998 non-null float16\n",
      "v_13                   149998 non-null float16\n",
      "v_14                   149998 non-null float16\n",
      "usetime                149998 non-null int16\n",
      "city                   149998 non-null float64\n",
      "bought_time_bin        149998 non-null int8\n",
      "brand_amount           149998 non-null float16\n",
      "brand_price_max        149998 non-null float32\n",
      "brand_price_median     149998 non-null float16\n",
      "brand_price_min        149998 non-null float16\n",
      "brand_price_sum        149998 non-null float32\n",
      "brand_price_std        149998 non-null float16\n",
      "brand_price_average    149998 non-null float16\n",
      "power_bin              149998 non-null int8\n",
      "dtypes: float16(26), float32(2), float64(1), int16(2), int32(1), int8(3)\n",
      "memory usage: 11.3 MB\n",
      "<class 'pandas.core.frame.DataFrame'>\n",
      "RangeIndex: 50000 entries, 0 to 49999\n",
      "Data columns (total 34 columns):\n",
      "model                  50000 non-null float16\n",
      "brand                  50000 non-null int8\n",
      "bodyType               50000 non-null float16\n",
      "fuelType               50000 non-null float16\n",
      "gearbox                50000 non-null float16\n",
      "power                  50000 non-null int16\n",
      "kilometer              50000 non-null float16\n",
      "notRepairedDamage      50000 non-null float16\n",
      "v_0                    50000 non-null float16\n",
      "v_1                    50000 non-null float16\n",
      "v_2                    50000 non-null float16\n",
      "v_3                    50000 non-null float16\n",
      "v_4                    50000 non-null float16\n",
      "v_5                    50000 non-null float16\n",
      "v_6                    50000 non-null float16\n",
      "v_7                    50000 non-null float16\n",
      "v_8                    50000 non-null float16\n",
      "v_9                    50000 non-null float16\n",
      "v_10                   50000 non-null float16\n",
      "v_11                   50000 non-null float16\n",
      "v_12                   50000 non-null float16\n",
      "v_13                   50000 non-null float16\n",
      "v_14                   50000 non-null float16\n",
      "usetime                50000 non-null int16\n",
      "city                   50000 non-null float64\n",
      "bought_time_bin        50000 non-null int8\n",
      "brand_amount           50000 non-null float16\n",
      "brand_price_max        50000 non-null float32\n",
      "brand_price_median     50000 non-null float16\n",
      "brand_price_min        50000 non-null float16\n",
      "brand_price_sum        50000 non-null float32\n",
      "brand_price_std        50000 non-null float16\n",
      "brand_price_average    50000 non-null float16\n",
      "power_bin              50000 non-null int8\n",
      "dtypes: float16(26), float32(2), float64(1), int16(2), int8(3)\n",
      "memory usage: 3.6 MB\n"
     ]
    }
   ],
   "source": [
    "Train_data.info()\n",
    "Test_data.info()"
   ]
  },
  {
   "cell_type": "code",
   "execution_count": 48,
   "metadata": {},
   "outputs": [
    {
     "name": "stdout",
     "output_type": "stream",
     "text": [
      "Fitting 5 folds for each of 4 candidates, totalling 20 fits\n"
     ]
    },
    {
     "name": "stderr",
     "output_type": "stream",
     "text": [
      "[Parallel(n_jobs=-1)]: Using backend LokyBackend with 4 concurrent workers.\n",
      "[Parallel(n_jobs=-1)]: Done  20 out of  20 | elapsed: 82.8min finished\n"
     ]
    },
    {
     "name": "stdout",
     "output_type": "stream",
     "text": [
      "best_score_: 0.942596798615973\n",
      "best_params_: {'max_depth': 8, 'n_estimators': 300}\n"
     ]
    },
    {
     "ename": "AttributeError",
     "evalue": "'GridSearchCV' object has no attribute 'grid_scores_'",
     "output_type": "error",
     "traceback": [
      "\u001b[1;31m---------------------------------------------------------------------------\u001b[0m",
      "\u001b[1;31mAttributeError\u001b[0m                            Traceback (most recent call last)",
      "\u001b[1;32m<ipython-input-48-e8eeed2fcdce>\u001b[0m in \u001b[0;36m<module>\u001b[1;34m\u001b[0m\n\u001b[0;32m     10\u001b[0m \u001b[0mprint\u001b[0m\u001b[1;33m(\u001b[0m\u001b[1;34m'best_score_:'\u001b[0m\u001b[1;33m,\u001b[0m\u001b[0mgs\u001b[0m\u001b[1;33m.\u001b[0m\u001b[0mbest_score_\u001b[0m\u001b[1;33m)\u001b[0m\u001b[1;33m\u001b[0m\u001b[1;33m\u001b[0m\u001b[0m\n\u001b[0;32m     11\u001b[0m \u001b[0mprint\u001b[0m\u001b[1;33m(\u001b[0m\u001b[1;34m'best_params_:'\u001b[0m\u001b[1;33m,\u001b[0m\u001b[0mgs\u001b[0m\u001b[1;33m.\u001b[0m\u001b[0mbest_params_\u001b[0m\u001b[1;33m)\u001b[0m\u001b[1;33m\u001b[0m\u001b[1;33m\u001b[0m\u001b[0m\n\u001b[1;32m---> 12\u001b[1;33m \u001b[0mprint\u001b[0m\u001b[1;33m(\u001b[0m\u001b[0mgs\u001b[0m\u001b[1;33m.\u001b[0m\u001b[0mgrid_scores_\u001b[0m\u001b[1;33m)\u001b[0m\u001b[1;33m\u001b[0m\u001b[1;33m\u001b[0m\u001b[0m\n\u001b[0m\u001b[0;32m     13\u001b[0m \u001b[0mbp\u001b[0m \u001b[1;33m=\u001b[0m \u001b[0mgs\u001b[0m\u001b[1;33m.\u001b[0m\u001b[0mbest_params_\u001b[0m\u001b[1;33m\u001b[0m\u001b[1;33m\u001b[0m\u001b[0m\n\u001b[0;32m     14\u001b[0m \u001b[0mforest\u001b[0m \u001b[1;33m=\u001b[0m \u001b[0mRandomForestRegressor\u001b[0m\u001b[1;33m(\u001b[0m\u001b[0mmax_depth\u001b[0m\u001b[1;33m=\u001b[0m\u001b[0mbp\u001b[0m\u001b[1;33m[\u001b[0m\u001b[1;34m'max_depth'\u001b[0m\u001b[1;33m]\u001b[0m\u001b[1;33m,\u001b[0m\u001b[0mn_estimators\u001b[0m\u001b[1;33m=\u001b[0m\u001b[0mbp\u001b[0m\u001b[1;33m[\u001b[0m\u001b[1;34m'n_estimators'\u001b[0m\u001b[1;33m]\u001b[0m\u001b[1;33m)\u001b[0m\u001b[1;33m\u001b[0m\u001b[1;33m\u001b[0m\u001b[0m\n",
      "\u001b[1;31mAttributeError\u001b[0m: 'GridSearchCV' object has no attribute 'grid_scores_'"
     ]
    }
   ],
   "source": [
    "#随机森林模型\n",
    "\n",
    "rf = RandomForestRegressor()\n",
    "n_estimators=[300,500]         #树的数量\n",
    "max_depth=[6,8]\n",
    "param_grid = { \"max_depth\": max_depth, \"n_estimators\": n_estimators}\n",
    "\n",
    "gs = GridSearchCV(estimator=rf, param_grid=param_grid, cv=5, n_jobs=-1, verbose=1)\n",
    "gs = gs.fit(train_x, train_y)\n",
    "print('best_score_:',gs.best_score_)\n",
    "print('best_params_:',gs.best_params_)\n",
    "\n",
    "\n"
   ]
  },
  {
   "cell_type": "code",
   "execution_count": 50,
   "metadata": {},
   "outputs": [],
   "source": [
    "bp = gs.best_params_\n",
    "forest = RandomForestRegressor(max_depth=bp['max_depth'],n_estimators=bp['n_estimators'])\n"
   ]
  },
  {
   "cell_type": "code",
   "execution_count": 52,
   "metadata": {},
   "outputs": [
    {
     "data": {
      "text/html": [
       "<div>\n",
       "<style scoped>\n",
       "    .dataframe tbody tr th:only-of-type {\n",
       "        vertical-align: middle;\n",
       "    }\n",
       "\n",
       "    .dataframe tbody tr th {\n",
       "        vertical-align: top;\n",
       "    }\n",
       "\n",
       "    .dataframe thead th {\n",
       "        text-align: right;\n",
       "    }\n",
       "</style>\n",
       "<table border=\"1\" class=\"dataframe\">\n",
       "  <thead>\n",
       "    <tr style=\"text-align: right;\">\n",
       "      <th></th>\n",
       "      <th>SaleID</th>\n",
       "      <th>price</th>\n",
       "    </tr>\n",
       "  </thead>\n",
       "  <tbody>\n",
       "    <tr>\n",
       "      <th>0</th>\n",
       "      <td>150000</td>\n",
       "      <td>38021.357522</td>\n",
       "    </tr>\n",
       "    <tr>\n",
       "      <th>1</th>\n",
       "      <td>150001</td>\n",
       "      <td>382.735299</td>\n",
       "    </tr>\n",
       "    <tr>\n",
       "      <th>2</th>\n",
       "      <td>150002</td>\n",
       "      <td>6351.105343</td>\n",
       "    </tr>\n",
       "    <tr>\n",
       "      <th>3</th>\n",
       "      <td>150003</td>\n",
       "      <td>11788.077726</td>\n",
       "    </tr>\n",
       "    <tr>\n",
       "      <th>4</th>\n",
       "      <td>150004</td>\n",
       "      <td>598.583052</td>\n",
       "    </tr>\n",
       "  </tbody>\n",
       "</table>\n",
       "</div>"
      ],
      "text/plain": [
       "   SaleID         price\n",
       "0  150000  38021.357522\n",
       "1  150001    382.735299\n",
       "2  150002   6351.105343\n",
       "3  150003  11788.077726\n",
       "4  150004    598.583052"
      ]
     },
     "execution_count": 52,
     "metadata": {},
     "output_type": "execute_result"
    }
   ],
   "source": [
    "forest_1=forest.fit(train_x, train_y)\n",
    "y=forest_1.predict(test_x)\n",
    "test_y=np.exp(y)\n",
    "\n",
    "sub1 = pd.DataFrame()\n",
    "sub1['SaleID'] = Test_data.SaleID\n",
    "sub1['price'] = test_y\n",
    "\n",
    "sub1.head()"
   ]
  },
  {
   "cell_type": "code",
   "execution_count": 54,
   "metadata": {},
   "outputs": [],
   "source": [
    "\n",
    "sub1['price'].describe()\n",
    "sub1.to_csv('F:/sub_Weighted.csv',index=False)"
   ]
  },
  {
   "cell_type": "code",
   "execution_count": null,
   "metadata": {},
   "outputs": [],
   "source": []
  },
  {
   "cell_type": "code",
   "execution_count": 65,
   "metadata": {},
   "outputs": [
    {
     "name": "stdout",
     "output_type": "stream",
     "text": [
      "|   iter    |  target   | max_depth | max_fe... | min_sa... | min_sa... | n_esti... |\n",
      "-------------------------------------------------------------------------------------\n",
      "| \u001b[0m 1       \u001b[0m | \u001b[0m 0.841   \u001b[0m | \u001b[0m 16.08   \u001b[0m | \u001b[0m 5.033   \u001b[0m | \u001b[0m 39.2    \u001b[0m | \u001b[0m 51.45   \u001b[0m | \u001b[0m 151.0   \u001b[0m |\n",
      "| \u001b[0m 2       \u001b[0m | \u001b[0m 0.795   \u001b[0m | \u001b[0m 7.448   \u001b[0m | \u001b[0m 4.649   \u001b[0m | \u001b[0m 59.91   \u001b[0m | \u001b[0m 44.19   \u001b[0m | \u001b[0m 173.9   \u001b[0m |\n",
      "| \u001b[0m 3       \u001b[0m | \u001b[0m 0.8387  \u001b[0m | \u001b[0m 26.25   \u001b[0m | \u001b[0m 9.15    \u001b[0m | \u001b[0m 69.06   \u001b[0m | \u001b[0m 70.72   \u001b[0m | \u001b[0m 124.3   \u001b[0m |\n",
      "| \u001b[0m 4       \u001b[0m | \u001b[0m 0.8371  \u001b[0m | \u001b[0m 23.56   \u001b[0m | \u001b[0m 9.037   \u001b[0m | \u001b[0m 78.92   \u001b[0m | \u001b[0m 115.3   \u001b[0m | \u001b[0m 173.3   \u001b[0m |\n",
      "| \u001b[0m 5       \u001b[0m | \u001b[0m 0.8383  \u001b[0m | \u001b[0m 21.88   \u001b[0m | \u001b[0m 7.147   \u001b[0m | \u001b[0m 63.41   \u001b[0m | \u001b[0m 123.3   \u001b[0m | \u001b[0m 210.8   \u001b[0m |\n",
      "| \u001b[0m 6       \u001b[0m | \u001b[0m 0.8405  \u001b[0m | \u001b[0m 13.66   \u001b[0m | \u001b[0m 7.113   \u001b[0m | \u001b[0m 1.463   \u001b[0m | \u001b[0m 145.9   \u001b[0m | \u001b[0m 60.27   \u001b[0m |\n",
      "| \u001b[95m 7       \u001b[0m | \u001b[95m 0.8572  \u001b[0m | \u001b[95m 29.43   \u001b[0m | \u001b[95m 4.997   \u001b[0m | \u001b[95m 2.99    \u001b[0m | \u001b[95m 21.67   \u001b[0m | \u001b[95m 224.8   \u001b[0m |\n",
      "| \u001b[0m 8       \u001b[0m | \u001b[0m 0.8446  \u001b[0m | \u001b[0m 28.01   \u001b[0m | \u001b[0m 9.687   \u001b[0m | \u001b[0m 1.458   \u001b[0m | \u001b[0m 147.7   \u001b[0m | \u001b[0m 192.2   \u001b[0m |\n",
      "| \u001b[95m 9       \u001b[0m | \u001b[95m 0.8598  \u001b[0m | \u001b[95m 20.26   \u001b[0m | \u001b[95m 8.414   \u001b[0m | \u001b[95m 4.63    \u001b[0m | \u001b[95m 25.89   \u001b[0m | \u001b[95m 62.35   \u001b[0m |\n",
      "| \u001b[0m 10      \u001b[0m | \u001b[0m 0.8428  \u001b[0m | \u001b[0m 28.67   \u001b[0m | \u001b[0m 4.225   \u001b[0m | \u001b[0m 3.92    \u001b[0m | \u001b[0m 85.57   \u001b[0m | \u001b[0m 74.68   \u001b[0m |\n",
      "| \u001b[0m 11      \u001b[0m | \u001b[0m 0.773   \u001b[0m | \u001b[0m 5.299   \u001b[0m | \u001b[0m 6.005   \u001b[0m | \u001b[0m 73.72   \u001b[0m | \u001b[0m 149.2   \u001b[0m | \u001b[0m 63.1    \u001b[0m |\n",
      "| \u001b[0m 12      \u001b[0m | \u001b[0m 0.8588  \u001b[0m | \u001b[0m 28.91   \u001b[0m | \u001b[0m 6.487   \u001b[0m | \u001b[0m 4.923   \u001b[0m | \u001b[0m 24.94   \u001b[0m | \u001b[0m 125.8   \u001b[0m |\n",
      "| \u001b[0m 13      \u001b[0m | \u001b[0m 0.8285  \u001b[0m | \u001b[0m 9.938   \u001b[0m | \u001b[0m 8.965   \u001b[0m | \u001b[0m 18.82   \u001b[0m | \u001b[0m 26.63   \u001b[0m | \u001b[0m 78.52   \u001b[0m |\n",
      "| \u001b[0m 14      \u001b[0m | \u001b[0m 0.7987  \u001b[0m | \u001b[0m 6.14    \u001b[0m | \u001b[0m 9.952   \u001b[0m | \u001b[0m 2.065   \u001b[0m | \u001b[0m 94.61   \u001b[0m | \u001b[0m 237.1   \u001b[0m |\n",
      "| \u001b[0m 15      \u001b[0m | \u001b[0m 0.8488  \u001b[0m | \u001b[0m 29.55   \u001b[0m | \u001b[0m 9.614   \u001b[0m | \u001b[0m 28.28   \u001b[0m | \u001b[0m 71.77   \u001b[0m | \u001b[0m 190.8   \u001b[0m |\n",
      "| \u001b[95m 16      \u001b[0m | \u001b[95m 0.8608  \u001b[0m | \u001b[95m 25.09   \u001b[0m | \u001b[95m 8.075   \u001b[0m | \u001b[95m 2.665   \u001b[0m | \u001b[95m 27.13   \u001b[0m | \u001b[95m 124.2   \u001b[0m |\n",
      "| \u001b[0m 17      \u001b[0m | \u001b[0m 0.8374  \u001b[0m | \u001b[0m 28.8    \u001b[0m | \u001b[0m 9.056   \u001b[0m | \u001b[0m 75.86   \u001b[0m | \u001b[0m 147.8   \u001b[0m | \u001b[0m 235.0   \u001b[0m |\n",
      "| \u001b[0m 18      \u001b[0m | \u001b[0m 0.8392  \u001b[0m | \u001b[0m 29.98   \u001b[0m | \u001b[0m 6.199   \u001b[0m | \u001b[0m 27.33   \u001b[0m | \u001b[0m 147.5   \u001b[0m | \u001b[0m 122.9   \u001b[0m |\n",
      "| \u001b[0m 19      \u001b[0m | \u001b[0m 0.7835  \u001b[0m | \u001b[0m 5.222   \u001b[0m | \u001b[0m 9.325   \u001b[0m | \u001b[0m 4.043   \u001b[0m | \u001b[0m 148.5   \u001b[0m | \u001b[0m 151.6   \u001b[0m |\n",
      "| \u001b[0m 20      \u001b[0m | \u001b[0m 0.839   \u001b[0m | \u001b[0m 27.74   \u001b[0m | \u001b[0m 5.334   \u001b[0m | \u001b[0m 11.93   \u001b[0m | \u001b[0m 145.4   \u001b[0m | \u001b[0m 248.4   \u001b[0m |\n",
      "| \u001b[0m 21      \u001b[0m | \u001b[0m 0.8197  \u001b[0m | \u001b[0m 9.693   \u001b[0m | \u001b[0m 4.227   \u001b[0m | \u001b[0m 1.478   \u001b[0m | \u001b[0m 29.68   \u001b[0m | \u001b[0m 170.1   \u001b[0m |\n",
      "| \u001b[0m 22      \u001b[0m | \u001b[0m 0.8355  \u001b[0m | \u001b[0m 29.6    \u001b[0m | \u001b[0m 7.44    \u001b[0m | \u001b[0m 76.56   \u001b[0m | \u001b[0m 31.02   \u001b[0m | \u001b[0m 246.8   \u001b[0m |\n",
      "| \u001b[0m 23      \u001b[0m | \u001b[0m 0.8592  \u001b[0m | \u001b[0m 29.32   \u001b[0m | \u001b[0m 7.087   \u001b[0m | \u001b[0m 5.482   \u001b[0m | \u001b[0m 27.06   \u001b[0m | \u001b[0m 248.7   \u001b[0m |\n",
      "| \u001b[0m 24      \u001b[0m | \u001b[0m 0.8424  \u001b[0m | \u001b[0m 29.15   \u001b[0m | \u001b[0m 9.739   \u001b[0m | \u001b[0m 17.64   \u001b[0m | \u001b[0m 147.3   \u001b[0m | \u001b[0m 64.68   \u001b[0m |\n",
      "| \u001b[0m 25      \u001b[0m | \u001b[0m 0.8284  \u001b[0m | \u001b[0m 29.85   \u001b[0m | \u001b[0m 4.609   \u001b[0m | \u001b[0m 78.23   \u001b[0m | \u001b[0m 98.59   \u001b[0m | \u001b[0m 234.8   \u001b[0m |\n",
      "| \u001b[0m 26      \u001b[0m | \u001b[0m 0.8475  \u001b[0m | \u001b[0m 28.44   \u001b[0m | \u001b[0m 7.362   \u001b[0m | \u001b[0m 24.73   \u001b[0m | \u001b[0m 73.37   \u001b[0m | \u001b[0m 191.8   \u001b[0m |\n",
      "| \u001b[0m 27      \u001b[0m | \u001b[0m 0.8503  \u001b[0m | \u001b[0m 29.39   \u001b[0m | \u001b[0m 9.954   \u001b[0m | \u001b[0m 7.559   \u001b[0m | \u001b[0m 87.47   \u001b[0m | \u001b[0m 144.7   \u001b[0m |\n",
      "| \u001b[0m 28      \u001b[0m | \u001b[0m 0.831   \u001b[0m | \u001b[0m 29.08   \u001b[0m | \u001b[0m 4.015   \u001b[0m | \u001b[0m 57.76   \u001b[0m | \u001b[0m 147.0   \u001b[0m | \u001b[0m 160.7   \u001b[0m |\n",
      "| \u001b[0m 29      \u001b[0m | \u001b[0m 0.7854  \u001b[0m | \u001b[0m 6.192   \u001b[0m | \u001b[0m 5.641   \u001b[0m | \u001b[0m 1.349   \u001b[0m | \u001b[0m 29.82   \u001b[0m | \u001b[0m 63.78   \u001b[0m |\n",
      "| \u001b[0m 30      \u001b[0m | \u001b[0m 0.8344  \u001b[0m | \u001b[0m 27.5    \u001b[0m | \u001b[0m 7.209   \u001b[0m | \u001b[0m 78.28   \u001b[0m | \u001b[0m 34.38   \u001b[0m | \u001b[0m 60.54   \u001b[0m |\n",
      "=====================================================================================\n"
     ]
    }
   ],
   "source": [
    "from bayes_opt import BayesianOptimization\n",
    "from sklearn.model_selection import cross_val_score\n",
    "from sklearn.metrics import mean_absolute_error,  make_scorer\n",
    "#随机森林贝叶斯调参\n",
    "rf = RandomForestRegressor()\n",
    "def rf_cv(n_estimators, max_depth, min_samples_split,max_features, min_samples_leaf):\n",
    "    val = cross_val_score(\n",
    "        RandomForestRegressor(\n",
    "            min_samples_leaf=int(min_samples_leaf),\n",
    "            min_samples_split=int(min_samples_split),\n",
    "            n_estimators=int(n_estimators),\n",
    "            max_depth=int(max_depth),\n",
    "            max_features=int(max_features)\n",
    "        ),\n",
    "        train_x, train_y_ln, scoring=make_scorer(mean_absolute_error), cv=4,verbose=0\n",
    "    ).mean()\n",
    "    return 1-val\n",
    "rf_bo = BayesianOptimization(\n",
    "        rf_cv,\n",
    "        {'n_estimators': (60, 250),\n",
    "        'min_samples_leaf': (1, 80),\n",
    "        'min_samples_split': (20, 150),\n",
    "        'max_depth':(5, 30),\n",
    "        'max_features':(4,10)}\n",
    "    )\n",
    "\n",
    "rf_bo.maximize()"
   ]
  },
  {
   "cell_type": "code",
   "execution_count": 69,
   "metadata": {},
   "outputs": [
    {
     "data": {
      "text/html": [
       "<div>\n",
       "<style scoped>\n",
       "    .dataframe tbody tr th:only-of-type {\n",
       "        vertical-align: middle;\n",
       "    }\n",
       "\n",
       "    .dataframe tbody tr th {\n",
       "        vertical-align: top;\n",
       "    }\n",
       "\n",
       "    .dataframe thead th {\n",
       "        text-align: right;\n",
       "    }\n",
       "</style>\n",
       "<table border=\"1\" class=\"dataframe\">\n",
       "  <thead>\n",
       "    <tr style=\"text-align: right;\">\n",
       "      <th></th>\n",
       "      <th>SaleID</th>\n",
       "      <th>price</th>\n",
       "    </tr>\n",
       "  </thead>\n",
       "  <tbody>\n",
       "    <tr>\n",
       "      <th>0</th>\n",
       "      <td>150000</td>\n",
       "      <td>38021.357522</td>\n",
       "    </tr>\n",
       "    <tr>\n",
       "      <th>1</th>\n",
       "      <td>150001</td>\n",
       "      <td>382.735299</td>\n",
       "    </tr>\n",
       "    <tr>\n",
       "      <th>2</th>\n",
       "      <td>150002</td>\n",
       "      <td>6351.105343</td>\n",
       "    </tr>\n",
       "    <tr>\n",
       "      <th>3</th>\n",
       "      <td>150003</td>\n",
       "      <td>11788.077726</td>\n",
       "    </tr>\n",
       "    <tr>\n",
       "      <th>4</th>\n",
       "      <td>150004</td>\n",
       "      <td>598.583052</td>\n",
       "    </tr>\n",
       "  </tbody>\n",
       "</table>\n",
       "</div>"
      ],
      "text/plain": [
       "   SaleID         price\n",
       "0  150000  38021.357522\n",
       "1  150001    382.735299\n",
       "2  150002   6351.105343\n",
       "3  150003  11788.077726\n",
       "4  150004    598.583052"
      ]
     },
     "execution_count": 69,
     "metadata": {},
     "output_type": "execute_result"
    }
   ],
   "source": [
    "forest = RandomForestRegressor(max_depth=20,n_estimators=63,min_samples_split=26,min_samples_leaf=5,max_features=9)\n",
    "forest_2=forest.fit(train_x, train_y)\n",
    "y=forest_2.predict(test_x)\n",
    "test_y=np.exp(y)\n",
    "\n",
    "sub2 = pd.DataFrame()\n",
    "sub2['SaleID'] = T.SaleID\n",
    "sub2['price'] = test_y\n"
   ]
  },
  {
   "cell_type": "code",
   "execution_count": 77,
   "metadata": {},
   "outputs": [
    {
     "data": {
      "text/plain": [
       "count    50000.000000\n",
       "mean      5773.044349\n",
       "std       7083.866617\n",
       "min         21.595234\n",
       "25%       1329.100565\n",
       "50%       3188.479481\n",
       "75%       7561.485443\n",
       "max      84449.124560\n",
       "Name: price, dtype: float64"
      ]
     },
     "execution_count": 77,
     "metadata": {},
     "output_type": "execute_result"
    }
   ],
   "source": [
    "sub2['price'].describe()"
   ]
  },
  {
   "cell_type": "code",
   "execution_count": 78,
   "metadata": {},
   "outputs": [],
   "source": [
    "sub2.to_csv('F:/sub_Weighted.csv',index=False)"
   ]
  },
  {
   "cell_type": "code",
   "execution_count": null,
   "metadata": {},
   "outputs": [],
   "source": []
  },
  {
   "cell_type": "code",
   "execution_count": 219,
   "metadata": {},
   "outputs": [
    {
     "name": "stdout",
     "output_type": "stream",
     "text": [
      "<class 'pandas.core.frame.DataFrame'>\n",
      "Int64Index: 149998 entries, 0 to 149997\n",
      "Data columns (total 43 columns):\n",
      "model                    149998 non-null float16\n",
      "brand                    149998 non-null int8\n",
      "bodyType                 149998 non-null float16\n",
      "fuelType                 149998 non-null float16\n",
      "gearbox                  149998 non-null float16\n",
      "power                    149998 non-null int16\n",
      "kilometer                149998 non-null float16\n",
      "notRepairedDamage        149998 non-null float16\n",
      "price                    149998 non-null int32\n",
      "v_0                      149998 non-null float16\n",
      "v_1                      149998 non-null float16\n",
      "v_2                      149998 non-null float16\n",
      "v_3                      149998 non-null float16\n",
      "v_4                      149998 non-null float16\n",
      "v_5                      149998 non-null float16\n",
      "v_6                      149998 non-null float16\n",
      "v_7                      149998 non-null float16\n",
      "v_8                      149998 non-null float16\n",
      "v_9                      149998 non-null float16\n",
      "v_10                     149998 non-null float16\n",
      "v_11                     149998 non-null float16\n",
      "v_12                     149998 non-null float16\n",
      "v_13                     149998 non-null float16\n",
      "v_14                     149998 non-null float16\n",
      "usetime                  149998 non-null int16\n",
      "city                     149998 non-null float64\n",
      "bought_time_bin          149998 non-null int8\n",
      "brand_amount             149998 non-null float16\n",
      "brand_price_max          149998 non-null float32\n",
      "brand_price_median       149998 non-null float16\n",
      "brand_price_min          149998 non-null float16\n",
      "brand_price_sum          149998 non-null float32\n",
      "brand_price_std          149998 non-null float16\n",
      "brand_price_average      149998 non-null float16\n",
      "power_bin                149998 non-null int8\n",
      "usetime_bin              149998 non-null int64\n",
      "usetime_amount           149998 non-null float64\n",
      "usetime_price_max        149998 non-null float64\n",
      "usetime_price_median     149998 non-null float64\n",
      "usetime_price_min        149998 non-null float64\n",
      "usetime_price_sum        149998 non-null float64\n",
      "usetime_price_std        149998 non-null float64\n",
      "usetime_price_average    149998 non-null float64\n",
      "dtypes: float16(26), float32(2), float64(8), int16(2), int32(1), int64(1), int8(3)\n",
      "memory usage: 21.6 MB\n"
     ]
    }
   ],
   "source": [
    "continuous_feature_names = [x for x in Train_data.columns if x not in ['price','usetime_bin','usetime_amount','usetime_price_max',\\\n",
    "                                                                       'usetime_price_median','usetime_price_min','usetime_price_sum','brand_price_std','brand_price_average']\n",
    "\n",
    "train_x0 = Train_data[continuous_feature_names]   #训练集x值\n"
   ]
  },
  {
   "cell_type": "code",
   "execution_count": 81,
   "metadata": {},
   "outputs": [
    {
     "name": "stdout",
     "output_type": "stream",
     "text": [
      "|   iter    |  target   | learni... | max_depth | n_esti... | subsample |\n",
      "-------------------------------------------------------------------------\n",
      "| \u001b[0m 1       \u001b[0m | \u001b[0m-787.7   \u001b[0m | \u001b[0m 0.07772 \u001b[0m | \u001b[0m 5.373   \u001b[0m | \u001b[0m 83.61   \u001b[0m | \u001b[0m 0.1812  \u001b[0m |\n",
      "| \u001b[95m 2       \u001b[0m | \u001b[95m-579.9   \u001b[0m | \u001b[95m 0.09454 \u001b[0m | \u001b[95m 9.925   \u001b[0m | \u001b[95m 85.97   \u001b[0m | \u001b[95m 0.9876  \u001b[0m |\n",
      "| \u001b[0m 3       \u001b[0m | \u001b[0m-590.0   \u001b[0m | \u001b[0m 0.1246  \u001b[0m | \u001b[0m 11.53   \u001b[0m | \u001b[0m 102.3   \u001b[0m | \u001b[0m 0.4024  \u001b[0m |\n",
      "| \u001b[0m 4       \u001b[0m | \u001b[0m-775.5   \u001b[0m | \u001b[0m 0.09963 \u001b[0m | \u001b[0m 5.356   \u001b[0m | \u001b[0m 65.38   \u001b[0m | \u001b[0m 0.3907  \u001b[0m |\n",
      "| \u001b[95m 5       \u001b[0m | \u001b[95m-553.8   \u001b[0m | \u001b[95m 0.08802 \u001b[0m | \u001b[95m 11.97   \u001b[0m | \u001b[95m 124.7   \u001b[0m | \u001b[95m 0.7329  \u001b[0m |\n",
      "| \u001b[0m 6       \u001b[0m | \u001b[0m-579.2   \u001b[0m | \u001b[0m 0.1138  \u001b[0m | \u001b[0m 11.25   \u001b[0m | \u001b[0m 66.21   \u001b[0m | \u001b[0m 0.593   \u001b[0m |\n",
      "| \u001b[0m 7       \u001b[0m | \u001b[0m-587.7   \u001b[0m | \u001b[0m 0.1103  \u001b[0m | \u001b[0m 10.48   \u001b[0m | \u001b[0m 89.47   \u001b[0m | \u001b[0m 0.5133  \u001b[0m |\n",
      "| \u001b[95m 8       \u001b[0m | \u001b[95m-552.4   \u001b[0m | \u001b[95m 0.08802 \u001b[0m | \u001b[95m 11.99   \u001b[0m | \u001b[95m 124.8   \u001b[0m | \u001b[95m 0.736   \u001b[0m |\n",
      "| \u001b[0m 9       \u001b[0m | \u001b[0m-577.7   \u001b[0m | \u001b[0m 0.1115  \u001b[0m | \u001b[0m 9.807   \u001b[0m | \u001b[0m 86.0    \u001b[0m | \u001b[0m 0.9468  \u001b[0m |\n",
      "| \u001b[95m 10      \u001b[0m | \u001b[95m-550.6   \u001b[0m | \u001b[95m 0.08802 \u001b[0m | \u001b[95m 12.0    \u001b[0m | \u001b[95m 124.8   \u001b[0m | \u001b[95m 0.7365  \u001b[0m |\n",
      "| \u001b[0m 11      \u001b[0m | \u001b[0m-723.1   \u001b[0m | \u001b[0m 0.09181 \u001b[0m | \u001b[0m 6.501   \u001b[0m | \u001b[0m 132.9   \u001b[0m | \u001b[0m 0.1995  \u001b[0m |\n",
      "| \u001b[0m 12      \u001b[0m | \u001b[0m-588.4   \u001b[0m | \u001b[0m 0.1282  \u001b[0m | \u001b[0m 11.53   \u001b[0m | \u001b[0m 102.3   \u001b[0m | \u001b[0m 0.4013  \u001b[0m |\n",
      "| \u001b[0m 13      \u001b[0m | \u001b[0m-619.7   \u001b[0m | \u001b[0m 0.05307 \u001b[0m | \u001b[0m 11.39   \u001b[0m | \u001b[0m 66.27   \u001b[0m | \u001b[0m 0.5702  \u001b[0m |\n",
      "| \u001b[0m 14      \u001b[0m | \u001b[0m-577.8   \u001b[0m | \u001b[0m 0.1189  \u001b[0m | \u001b[0m 11.23   \u001b[0m | \u001b[0m 66.21   \u001b[0m | \u001b[0m 0.595   \u001b[0m |\n",
      "| \u001b[0m 15      \u001b[0m | \u001b[0m-559.9   \u001b[0m | \u001b[0m 0.06136 \u001b[0m | \u001b[0m 11.95   \u001b[0m | \u001b[0m 124.8   \u001b[0m | \u001b[0m 0.6709  \u001b[0m |\n",
      "| \u001b[0m 16      \u001b[0m | \u001b[0m-553.1   \u001b[0m | \u001b[0m 0.08249 \u001b[0m | \u001b[0m 11.86   \u001b[0m | \u001b[0m 124.8   \u001b[0m | \u001b[0m 0.7363  \u001b[0m |\n",
      "| \u001b[0m 17      \u001b[0m | \u001b[0m-557.5   \u001b[0m | \u001b[0m 0.1251  \u001b[0m | \u001b[0m 11.78   \u001b[0m | \u001b[0m 124.9   \u001b[0m | \u001b[0m 0.6819  \u001b[0m |\n",
      "| \u001b[0m 18      \u001b[0m | \u001b[0m-600.7   \u001b[0m | \u001b[0m 0.1057  \u001b[0m | \u001b[0m 10.09   \u001b[0m | \u001b[0m 92.81   \u001b[0m | \u001b[0m 0.3901  \u001b[0m |\n",
      "| \u001b[0m 19      \u001b[0m | \u001b[0m-668.4   \u001b[0m | \u001b[0m 0.08852 \u001b[0m | \u001b[0m 6.702   \u001b[0m | \u001b[0m 106.2   \u001b[0m | \u001b[0m 0.8851  \u001b[0m |\n",
      "| \u001b[0m 20      \u001b[0m | \u001b[0m-552.6   \u001b[0m | \u001b[0m 0.1012  \u001b[0m | \u001b[0m 11.98   \u001b[0m | \u001b[0m 124.7   \u001b[0m | \u001b[0m 0.7496  \u001b[0m |\n",
      "| \u001b[0m 21      \u001b[0m | \u001b[0m-559.7   \u001b[0m | \u001b[0m 0.05791 \u001b[0m | \u001b[0m 11.66   \u001b[0m | \u001b[0m 125.1   \u001b[0m | \u001b[0m 0.7058  \u001b[0m |\n",
      "| \u001b[0m 22      \u001b[0m | \u001b[0m-551.7   \u001b[0m | \u001b[0m 0.1271  \u001b[0m | \u001b[0m 11.84   \u001b[0m | \u001b[0m 125.0   \u001b[0m | \u001b[0m 0.8302  \u001b[0m |\n",
      "| \u001b[0m 23      \u001b[0m | \u001b[0m-550.8   \u001b[0m | \u001b[0m 0.08161 \u001b[0m | \u001b[0m 11.84   \u001b[0m | \u001b[0m 125.0   \u001b[0m | \u001b[0m 0.8531  \u001b[0m |\n",
      "| \u001b[0m 24      \u001b[0m | \u001b[0m-730.4   \u001b[0m | \u001b[0m 0.06914 \u001b[0m | \u001b[0m 6.046   \u001b[0m | \u001b[0m 61.48   \u001b[0m | \u001b[0m 0.8414  \u001b[0m |\n",
      "| \u001b[0m 25      \u001b[0m | \u001b[0m-554.0   \u001b[0m | \u001b[0m 0.07411 \u001b[0m | \u001b[0m 11.79   \u001b[0m | \u001b[0m 125.0   \u001b[0m | \u001b[0m 0.7211  \u001b[0m |\n",
      "| \u001b[0m 26      \u001b[0m | \u001b[0m-559.3   \u001b[0m | \u001b[0m 0.1086  \u001b[0m | \u001b[0m 11.74   \u001b[0m | \u001b[0m 88.86   \u001b[0m | \u001b[0m 0.8462  \u001b[0m |\n",
      "| \u001b[0m 27      \u001b[0m | \u001b[0m-594.2   \u001b[0m | \u001b[0m 0.06153 \u001b[0m | \u001b[0m 10.59   \u001b[0m | \u001b[0m 148.7   \u001b[0m | \u001b[0m 0.3461  \u001b[0m |\n",
      "| \u001b[0m 28      \u001b[0m | \u001b[0m-570.3   \u001b[0m | \u001b[0m 0.05693 \u001b[0m | \u001b[0m 11.71   \u001b[0m | \u001b[0m 88.92   \u001b[0m | \u001b[0m 0.8564  \u001b[0m |\n",
      "| \u001b[0m 29      \u001b[0m | \u001b[0m-640.6   \u001b[0m | \u001b[0m 0.1218  \u001b[0m | \u001b[0m 10.72   \u001b[0m | \u001b[0m 94.39   \u001b[0m | \u001b[0m 0.2106  \u001b[0m |\n",
      "| \u001b[0m 30      \u001b[0m | \u001b[0m-619.1   \u001b[0m | \u001b[0m 0.05422 \u001b[0m | \u001b[0m 11.67   \u001b[0m | \u001b[0m 146.6   \u001b[0m | \u001b[0m 0.1348  \u001b[0m |\n",
      "=========================================================================\n"
     ]
    }
   ],
   "source": [
    "train_y_notln=Train_data['price']\n",
    "#xgb模型调参\n",
    "from bayes_opt import BayesianOptimization\n",
    "from xgboost.sklearn import XGBRegressor\n",
    "from sklearn.model_selection import cross_val_score\n",
    "from sklearn.metrics import mean_absolute_error,  make_scorer\n",
    "\n",
    "#rf = xgb.XGBRegressor(n_estimators=120, learning_rate=0.1, gamma=0, subsample=0.8,colsample_bytree=0.9, max_depth=7)\n",
    "rf = xgb.XGBRegressor()\n",
    "def rf_cv(n_estimators, max_depth,subsample,learning_rate):\n",
    "    val = cross_val_score(\n",
    "        XGBRegressor(\n",
    "            subsample=subsample,\n",
    "            n_estimators=int(n_estimators),\n",
    "            max_depth=int(max_depth),\n",
    "            learning_rate=learning_rate\n",
    "        ),\n",
    "        train_x, train_y_notln, scoring=make_scorer(mean_absolute_error), cv=4,verbose=0\n",
    "    ).mean()\n",
    "    return 1-val\n",
    "rf_bo = BayesianOptimization(\n",
    "        rf_cv,\n",
    "        {'n_estimators': (60, 150),\n",
    "        'learning_rate': (0.05, 0.13),\n",
    "        'max_depth':(5, 12),\n",
    "        'subsample':(0.1,1)}\n",
    "    )\n",
    "\n",
    "rf_bo.maximize()"
   ]
  },
  {
   "cell_type": "code",
   "execution_count": 82,
   "metadata": {},
   "outputs": [
    {
     "ename": "ValueError",
     "evalue": "feature_names mismatch: ['model', 'brand', 'bodyType', 'fuelType', 'gearbox', 'power', 'kilometer', 'notRepairedDamage', 'v_0', 'v_1', 'v_2', 'v_3', 'v_4', 'v_5', 'v_6', 'v_7', 'v_8', 'v_9', 'v_10', 'v_11', 'v_12', 'v_13', 'v_14', 'usetime', 'city', 'bought_time_bin', 'brand_amount', 'brand_price_max', 'brand_price_median', 'brand_price_min', 'brand_price_sum', 'brand_price_std', 'brand_price_average', 'power_bin'] ['f0', 'f1', 'f2', 'f3', 'f4', 'f5', 'f6', 'f7', 'f8', 'f9', 'f10', 'f11', 'f12', 'f13', 'f14', 'f15', 'f16', 'f17', 'f18', 'f19', 'f20', 'f21', 'f22', 'f23', 'f24', 'f25', 'f26', 'f27', 'f28', 'f29', 'f30', 'f31', 'f32', 'f33']\nexpected v_11, model, v_14, kilometer, brand_price_max, v_12, power, brand_price_min, brand_price_std, v_13, bodyType, fuelType, notRepairedDamage, bought_time_bin, v_2, brand_price_median, brand_price_sum, v_1, city, brand, v_7, brand_price_average, v_9, v_8, v_0, v_5, v_10, v_4, v_6, brand_amount, gearbox, power_bin, v_3, usetime in input data\ntraining data did not have the following fields: f5, f33, f16, f20, f7, f10, f9, f28, f1, f11, f4, f26, f12, f23, f19, f32, f14, f17, f21, f18, f25, f30, f0, f2, f6, f31, f13, f15, f24, f22, f27, f3, f8, f29",
     "output_type": "error",
     "traceback": [
      "\u001b[1;31m---------------------------------------------------------------------------\u001b[0m",
      "\u001b[1;31mValueError\u001b[0m                                Traceback (most recent call last)",
      "\u001b[1;32m<ipython-input-82-c9d84413d173>\u001b[0m in \u001b[0;36m<module>\u001b[1;34m\u001b[0m\n\u001b[0;32m     18\u001b[0m \u001b[1;33m\u001b[0m\u001b[0m\n\u001b[0;32m     19\u001b[0m     \u001b[0mxgr_1\u001b[0m\u001b[1;33m.\u001b[0m\u001b[0mfit\u001b[0m\u001b[1;33m(\u001b[0m\u001b[0mtrain_x\u001b[0m\u001b[1;33m,\u001b[0m\u001b[0mtrain_y_notln\u001b[0m\u001b[1;33m)\u001b[0m\u001b[1;33m\u001b[0m\u001b[1;33m\u001b[0m\u001b[0m\n\u001b[1;32m---> 20\u001b[1;33m     \u001b[0mpred_train_xgb\u001b[0m\u001b[1;33m=\u001b[0m\u001b[0mxgr_1\u001b[0m\u001b[1;33m.\u001b[0m\u001b[0mpredict\u001b[0m\u001b[1;33m(\u001b[0m\u001b[0mtrain_x_train\u001b[0m\u001b[1;33m)\u001b[0m\u001b[1;33m\u001b[0m\u001b[1;33m\u001b[0m\u001b[0m\n\u001b[0m\u001b[0;32m     21\u001b[0m     \u001b[0mpred_xgb\u001b[0m\u001b[1;33m=\u001b[0m\u001b[0mxgr_1\u001b[0m\u001b[1;33m.\u001b[0m\u001b[0mpredict\u001b[0m\u001b[1;33m(\u001b[0m\u001b[0mval_x\u001b[0m\u001b[1;33m)\u001b[0m\u001b[1;33m\u001b[0m\u001b[1;33m\u001b[0m\u001b[0m\n\u001b[0;32m     22\u001b[0m \u001b[1;33m\u001b[0m\u001b[0m\n",
      "\u001b[1;32m~\\anaconda3\\lib\\site-packages\\xgboost\\sklearn.py\u001b[0m in \u001b[0;36mpredict\u001b[1;34m(self, data, output_margin, ntree_limit, validate_features, base_margin)\u001b[0m\n\u001b[0;32m    602\u001b[0m                                           \u001b[0moutput_margin\u001b[0m\u001b[1;33m=\u001b[0m\u001b[0moutput_margin\u001b[0m\u001b[1;33m,\u001b[0m\u001b[1;33m\u001b[0m\u001b[1;33m\u001b[0m\u001b[0m\n\u001b[0;32m    603\u001b[0m                                           \u001b[0mntree_limit\u001b[0m\u001b[1;33m=\u001b[0m\u001b[0mntree_limit\u001b[0m\u001b[1;33m,\u001b[0m\u001b[1;33m\u001b[0m\u001b[1;33m\u001b[0m\u001b[0m\n\u001b[1;32m--> 604\u001b[1;33m                                           validate_features=validate_features)\n\u001b[0m\u001b[0;32m    605\u001b[0m \u001b[1;33m\u001b[0m\u001b[0m\n\u001b[0;32m    606\u001b[0m     \u001b[1;32mdef\u001b[0m \u001b[0mapply\u001b[0m\u001b[1;33m(\u001b[0m\u001b[0mself\u001b[0m\u001b[1;33m,\u001b[0m \u001b[0mX\u001b[0m\u001b[1;33m,\u001b[0m \u001b[0mntree_limit\u001b[0m\u001b[1;33m=\u001b[0m\u001b[1;36m0\u001b[0m\u001b[1;33m)\u001b[0m\u001b[1;33m:\u001b[0m\u001b[1;33m\u001b[0m\u001b[1;33m\u001b[0m\u001b[0m\n",
      "\u001b[1;32m~\\anaconda3\\lib\\site-packages\\xgboost\\core.py\u001b[0m in \u001b[0;36mpredict\u001b[1;34m(self, data, output_margin, ntree_limit, pred_leaf, pred_contribs, approx_contribs, pred_interactions, validate_features, training)\u001b[0m\n\u001b[0;32m   1441\u001b[0m \u001b[1;33m\u001b[0m\u001b[0m\n\u001b[0;32m   1442\u001b[0m         \u001b[1;32mif\u001b[0m \u001b[0mvalidate_features\u001b[0m\u001b[1;33m:\u001b[0m\u001b[1;33m\u001b[0m\u001b[1;33m\u001b[0m\u001b[0m\n\u001b[1;32m-> 1443\u001b[1;33m             \u001b[0mself\u001b[0m\u001b[1;33m.\u001b[0m\u001b[0m_validate_features\u001b[0m\u001b[1;33m(\u001b[0m\u001b[0mdata\u001b[0m\u001b[1;33m)\u001b[0m\u001b[1;33m\u001b[0m\u001b[1;33m\u001b[0m\u001b[0m\n\u001b[0m\u001b[0;32m   1444\u001b[0m \u001b[1;33m\u001b[0m\u001b[0m\n\u001b[0;32m   1445\u001b[0m         \u001b[0mlength\u001b[0m \u001b[1;33m=\u001b[0m \u001b[0mc_bst_ulong\u001b[0m\u001b[1;33m(\u001b[0m\u001b[1;33m)\u001b[0m\u001b[1;33m\u001b[0m\u001b[1;33m\u001b[0m\u001b[0m\n",
      "\u001b[1;32m~\\anaconda3\\lib\\site-packages\\xgboost\\core.py\u001b[0m in \u001b[0;36m_validate_features\u001b[1;34m(self, data)\u001b[0m\n\u001b[0;32m   1860\u001b[0m \u001b[1;33m\u001b[0m\u001b[0m\n\u001b[0;32m   1861\u001b[0m                 raise ValueError(msg.format(self.feature_names,\n\u001b[1;32m-> 1862\u001b[1;33m                                             data.feature_names))\n\u001b[0m\u001b[0;32m   1863\u001b[0m \u001b[1;33m\u001b[0m\u001b[0m\n\u001b[0;32m   1864\u001b[0m     def get_split_value_histogram(self, feature, fmap='', bins=None,\n",
      "\u001b[1;31mValueError\u001b[0m: feature_names mismatch: ['model', 'brand', 'bodyType', 'fuelType', 'gearbox', 'power', 'kilometer', 'notRepairedDamage', 'v_0', 'v_1', 'v_2', 'v_3', 'v_4', 'v_5', 'v_6', 'v_7', 'v_8', 'v_9', 'v_10', 'v_11', 'v_12', 'v_13', 'v_14', 'usetime', 'city', 'bought_time_bin', 'brand_amount', 'brand_price_max', 'brand_price_median', 'brand_price_min', 'brand_price_sum', 'brand_price_std', 'brand_price_average', 'power_bin'] ['f0', 'f1', 'f2', 'f3', 'f4', 'f5', 'f6', 'f7', 'f8', 'f9', 'f10', 'f11', 'f12', 'f13', 'f14', 'f15', 'f16', 'f17', 'f18', 'f19', 'f20', 'f21', 'f22', 'f23', 'f24', 'f25', 'f26', 'f27', 'f28', 'f29', 'f30', 'f31', 'f32', 'f33']\nexpected v_11, model, v_14, kilometer, brand_price_max, v_12, power, brand_price_min, brand_price_std, v_13, bodyType, fuelType, notRepairedDamage, bought_time_bin, v_2, brand_price_median, brand_price_sum, v_1, city, brand, v_7, brand_price_average, v_9, v_8, v_0, v_5, v_10, v_4, v_6, brand_amount, gearbox, power_bin, v_3, usetime in input data\ntraining data did not have the following fields: f5, f33, f16, f20, f7, f10, f9, f28, f1, f11, f4, f26, f12, f23, f19, f32, f14, f17, f21, f18, f25, f30, f0, f2, f6, f31, f13, f15, f24, f22, f27, f3, f8, f29"
     ]
    }
   ],
   "source": [
    "'''#Step 4:模型训练与预测\n",
    "#（1) 利用xgb进行五折交叉验证查看模型的参数效果\n",
    "## xgb-Model\n",
    "xgr_1 = xgb.XGBRegressor(n_estimators=125, learning_rate=0.088, gamma=0, subsample=0.7365,\\\n",
    "        colsample_bytree=0.9, max_depth=12) #,objective ='reg:squarederror'\n",
    "\n",
    "scores_train = []\n",
    "scores = []\n",
    "\n",
    "## 5折交叉验证方式\n",
    "sk=StratifiedKFold(n_splits=5,shuffle=True,random_state=0)\n",
    "for train_ind,val_ind in sk.split(train_x,train_y_notln):\n",
    "    \n",
    "    train_x_train=train_x.iloc[train_ind].values\n",
    "    train_y_train=train_y_notln.iloc[train_ind]\n",
    "    val_x=train_x.iloc[val_ind].values\n",
    "    val_y=train_y.iloc[val_ind]\n",
    "    \n",
    "    xgr_1.fit(train_x,train_y_notln)\n",
    "    #pred_train_xgb=xgr_1.predict(train_x_train)\n",
    "    #pred_xgb=xgr_1.predict(val_x)\n",
    "    \n",
    "    #score_train = mean_absolute_error(train_y_train,pred_train_xgb)\n",
    "    #scores_train.append(score_train)\n",
    "    #score = mean_absolute_error(val_y,pred_xgb)\n",
    "    scores.append(score)\n",
    "\n",
    "print('Train mae:',np.mean(score_train))\n",
    "print('Val mae',np.mean(scores))'''"
   ]
  },
  {
   "cell_type": "code",
   "execution_count": 84,
   "metadata": {},
   "outputs": [
    {
     "name": "stdout",
     "output_type": "stream",
     "text": [
      "Train xgb...\n",
      "MAE of val with xgb: 283.5035593203386\n",
      "Predict xgb...\n",
      "Sta of Predict xgb:\n",
      "_min -115.43544\n",
      "_max: 95200.86\n",
      "_mean 5920.365\n",
      "_ptp 95316.3\n",
      "_std 7361.746\n",
      "_var 54195304.0\n"
     ]
    }
   ],
   "source": [
    "#定义xgb模型函数\n",
    "def build_model_xgb(x_train,y_train):\n",
    "    model = xgb.XGBRegressor(n_estimators=125, learning_rate=0.088, gamma=0, subsample=0.7365,\\\n",
    "        colsample_bytree=0.9, max_depth=12) #,objective ='reg:squarederror'\n",
    "    model.fit(train_x, train_y_notln)\n",
    "    return model\n",
    "## Split data with val\n",
    "x_train,x_val,y_train,y_val = train_test_split(train_x,train_y_notln,test_size=0.3)\n",
    "\n",
    "## 定义了一个统计函数，方便后续信息统计\n",
    "def Sta_inf(data):\n",
    "    print('_min',np.min(data))\n",
    "    print('_max:',np.max(data))\n",
    "    print('_mean',np.mean(data))\n",
    "    print('_ptp',np.ptp(data))#最大与最小值的差\n",
    "    print('_std',np.std(data))\n",
    "    print('_var',np.var(data))\n",
    "    \n",
    "print('Train xgb...')\n",
    "model_xgb = build_model_xgb(train_x,train_y_notln)\n",
    "val_xgb = model_xgb.predict(x_val)\n",
    "MAE_xgb = mean_absolute_error(y_val,val_xgb)\n",
    "print('MAE of val with xgb:',MAE_xgb)\n",
    "\n",
    "print('Predict xgb...')\n",
    "model_xgb_pre = build_model_xgb(train_x,train_y_notln)\n",
    "subA_xgb = model_xgb_pre.predict(test_x)\n",
    "print('Sta of Predict xgb:')\n",
    "Sta_inf(subA_xgb)\n",
    "\n"
   ]
  },
  {
   "cell_type": "code",
   "execution_count": null,
   "metadata": {},
   "outputs": [],
   "source": []
  },
  {
   "cell_type": "code",
   "execution_count": 88,
   "metadata": {},
   "outputs": [
    {
     "data": {
      "text/plain": [
       "count    50000.000000\n",
       "mean      5920.379699\n",
       "std       7361.808558\n",
       "min         12.000000\n",
       "25%       1368.204163\n",
       "50%       3265.559570\n",
       "75%       7714.408936\n",
       "max      95200.859375\n",
       "Name: price, dtype: float64"
      ]
     },
     "execution_count": 88,
     "metadata": {},
     "output_type": "execute_result"
    }
   ],
   "source": [
    "#输出结果\n",
    "sub3 = pd.DataFrame()\n",
    "sub3['SaleID'] = T.SaleID\n",
    "sub3['price'] = subA_xgb\n",
    "sub3['price'] =sub3['price'].apply(lambda x :12 if x<12 else x)\n",
    "sub3.to_csv('D:/sub_Weighted.csv',index=False)\n",
    "sub3['price'].describe()"
   ]
  },
  {
   "cell_type": "code",
   "execution_count": null,
   "metadata": {},
   "outputs": [],
   "source": []
  },
  {
   "cell_type": "code",
   "execution_count": 98,
   "metadata": {},
   "outputs": [
    {
     "name": "stdout",
     "output_type": "stream",
     "text": [
      "count    50000.000000\n",
      "mean      5773.044349\n",
      "std       7083.866617\n",
      "min         21.595234\n",
      "25%       1329.100565\n",
      "50%       3188.479481\n",
      "75%       7561.485443\n",
      "max      84449.124560\n",
      "Name: price, dtype: float64\n",
      "count    50000.000000\n",
      "mean      5920.379699\n",
      "std       7361.808558\n",
      "min         12.000000\n",
      "25%       1368.204163\n",
      "50%       3265.559570\n",
      "75%       7714.408936\n",
      "max      95200.859375\n",
      "Name: price, dtype: float64\n"
     ]
    },
    {
     "data": {
      "text/plain": [
       "count    5.000000e+04\n",
       "mean    -7.030061e+04\n",
       "std      8.631047e+04\n",
       "min     -1.027155e+06\n",
       "25%     -9.226878e+04\n",
       "50%     -3.876841e+04\n",
       "75%     -1.610650e+04\n",
       "max     -1.439405e+02\n",
       "Name: price, dtype: float64"
      ]
     },
     "execution_count": 98,
     "metadata": {},
     "output_type": "execute_result"
    }
   ],
   "source": [
    "## 简单的随机森林和xgb的线性staaking\n",
    "\n",
    "from sklearn import linear_model\n",
    "def Stacking_method(train_reg1,train_reg2,y_train_true,test_pre1,test_pre2,model_L2= linear_model.LinearRegression()):\n",
    "    model_L2.fit(pd.concat([pd.Series(train_reg1),pd.Series(train_reg2)],axis=1).values,y_train_true)\n",
    "    Stacking_result = model_L2.predict(pd.concat([pd.Series(test_pre1),pd.Series(test_pre2)],axis=1).values)\n",
    "    return Stacking_result\n",
    "\n",
    "## 生成一些简单的样本数据，test_prei 代表第i个模型的预测值\n",
    "train_reg1 = forest_2.predict(train_x)\n",
    "train_reg2 = model_xgb_pre.predict(train_x)\n",
    "#   train_reg3 = [3.1, 7.9, 9.2, 5.0]\n",
    "# y_test_true 代表第模型的真实值\n",
    "y_train_true = train_y_notln\n",
    "\n",
    "test_pre1 = sub2['price']\n",
    "test_pre2 = sub3['price']\n",
    "print(test_pre2.describe())\n",
    "#    test_pre3 = [1.1, 2.9, 2.2, 6.0]\n",
    "\n",
    "model_L2= linear_model.LinearRegression()\n",
    "Stacking_pre = Stacking_method(train_reg1,train_reg2,y_train_true,\n",
    "                               test_pre1,test_pre2,model_L2)\n",
    "#Stacking_pre为最后的预测值\n",
    "\n",
    "sub_sum = pd.DataFrame()\n",
    "sub_sum['SaleID'] = T.SaleID\n",
    "sub_sum['price'] = Stacking_pre\n",
    "#sub_sum['price']=sub_sum['price'].apply(lambda x:12 if x<12 else x)\n",
    "sub_sum.to_csv('G:/sub_Weighted.csv',index=False)\n",
    "sub_sum['price'].describe()"
   ]
  },
  {
   "cell_type": "code",
   "execution_count": null,
   "metadata": {},
   "outputs": [],
   "source": []
  },
  {
   "cell_type": "code",
   "execution_count": 99,
   "metadata": {},
   "outputs": [
    {
     "name": "stdout",
     "output_type": "stream",
     "text": [
      "|   iter    |  target   | learni... | max_depth | n_esti... | subsample |\n",
      "-------------------------------------------------------------------------\n",
      "| \u001b[0m 1       \u001b[0m | \u001b[0m-643.1   \u001b[0m | \u001b[0m 0.08863 \u001b[0m | \u001b[0m 10.43   \u001b[0m | \u001b[0m 65.11   \u001b[0m | \u001b[0m 0.1772  \u001b[0m |\n",
      "| \u001b[0m 2       \u001b[0m | \u001b[0m-694.1   \u001b[0m | \u001b[0m 0.09355 \u001b[0m | \u001b[0m 7.816   \u001b[0m | \u001b[0m 63.53   \u001b[0m | \u001b[0m 0.2983  \u001b[0m |\n",
      "| \u001b[95m 3       \u001b[0m | \u001b[95m-616.4   \u001b[0m | \u001b[95m 0.0761  \u001b[0m | \u001b[95m 8.064   \u001b[0m | \u001b[95m 79.3    \u001b[0m | \u001b[95m 0.9497  \u001b[0m |\n",
      "| \u001b[0m 4       \u001b[0m | \u001b[0m-618.5   \u001b[0m | \u001b[0m 0.07391 \u001b[0m | \u001b[0m 9.037   \u001b[0m | \u001b[0m 91.54   \u001b[0m | \u001b[0m 0.3684  \u001b[0m |\n",
      "| \u001b[95m 5       \u001b[0m | \u001b[95m-580.3   \u001b[0m | \u001b[95m 0.08746 \u001b[0m | \u001b[95m 9.437   \u001b[0m | \u001b[95m 116.6   \u001b[0m | \u001b[95m 0.6409  \u001b[0m |\n",
      "| \u001b[0m 6       \u001b[0m | \u001b[0m-582.7   \u001b[0m | \u001b[0m 0.08697 \u001b[0m | \u001b[0m 9.469   \u001b[0m | \u001b[0m 116.7   \u001b[0m | \u001b[0m 0.6223  \u001b[0m |\n",
      "| \u001b[0m 7       \u001b[0m | \u001b[0m-616.4   \u001b[0m | \u001b[0m 0.07942 \u001b[0m | \u001b[0m 9.561   \u001b[0m | \u001b[0m 116.5   \u001b[0m | \u001b[0m 0.3252  \u001b[0m |\n",
      "| \u001b[0m 8       \u001b[0m | \u001b[0m-588.8   \u001b[0m | \u001b[0m 0.05484 \u001b[0m | \u001b[0m 15.82   \u001b[0m | \u001b[0m 77.48   \u001b[0m | \u001b[0m 0.2436  \u001b[0m |\n",
      "| \u001b[0m 9       \u001b[0m | \u001b[0m-609.8   \u001b[0m | \u001b[0m 0.1192  \u001b[0m | \u001b[0m 8.761   \u001b[0m | \u001b[0m 119.6   \u001b[0m | \u001b[0m 0.486   \u001b[0m |\n",
      "| \u001b[95m 10      \u001b[0m | \u001b[95m-570.4   \u001b[0m | \u001b[95m 0.09583 \u001b[0m | \u001b[95m 9.395   \u001b[0m | \u001b[95m 116.6   \u001b[0m | \u001b[95m 0.8242  \u001b[0m |\n",
      "| \u001b[0m 11      \u001b[0m | \u001b[0m-603.1   \u001b[0m | \u001b[0m 0.08812 \u001b[0m | \u001b[0m 15.65   \u001b[0m | \u001b[0m 77.33   \u001b[0m | \u001b[0m 0.1797  \u001b[0m |\n",
      "| \u001b[0m 12      \u001b[0m | \u001b[0m-572.4   \u001b[0m | \u001b[0m 0.08628 \u001b[0m | \u001b[0m 9.401   \u001b[0m | \u001b[0m 116.7   \u001b[0m | \u001b[0m 0.796   \u001b[0m |\n",
      "| \u001b[0m 13      \u001b[0m | \u001b[0m-576.5   \u001b[0m | \u001b[0m 0.05738 \u001b[0m | \u001b[0m 15.77   \u001b[0m | \u001b[0m 77.53   \u001b[0m | \u001b[0m 0.344   \u001b[0m |\n",
      "| \u001b[0m 14      \u001b[0m | \u001b[0m-575.3   \u001b[0m | \u001b[0m 0.05653 \u001b[0m | \u001b[0m 15.77   \u001b[0m | \u001b[0m 77.54   \u001b[0m | \u001b[0m 0.3547  \u001b[0m |\n",
      "| \u001b[0m 15      \u001b[0m | \u001b[0m-599.6   \u001b[0m | \u001b[0m 0.06142 \u001b[0m | \u001b[0m 9.504   \u001b[0m | \u001b[0m 116.6   \u001b[0m | \u001b[0m 0.5095  \u001b[0m |\n",
      "| \u001b[0m 16      \u001b[0m | \u001b[0m-586.1   \u001b[0m | \u001b[0m 0.1046  \u001b[0m | \u001b[0m 15.64   \u001b[0m | \u001b[0m 77.43   \u001b[0m | \u001b[0m 0.328   \u001b[0m |\n",
      "| \u001b[95m 17      \u001b[0m | \u001b[95m-568.0   \u001b[0m | \u001b[95m 0.06086 \u001b[0m | \u001b[95m 15.76   \u001b[0m | \u001b[95m 77.55   \u001b[0m | \u001b[95m 0.3855  \u001b[0m |\n",
      "| \u001b[95m 18      \u001b[0m | \u001b[95m-563.2   \u001b[0m | \u001b[95m 0.09474 \u001b[0m | \u001b[95m 15.72   \u001b[0m | \u001b[95m 77.64   \u001b[0m | \u001b[95m 0.5446  \u001b[0m |\n",
      "| \u001b[95m 19      \u001b[0m | \u001b[95m-558.3   \u001b[0m | \u001b[95m 0.09503 \u001b[0m | \u001b[95m 15.65   \u001b[0m | \u001b[95m 77.59   \u001b[0m | \u001b[95m 0.6296  \u001b[0m |\n",
      "| \u001b[0m 20      \u001b[0m | \u001b[0m-569.7   \u001b[0m | \u001b[0m 0.09277 \u001b[0m | \u001b[0m 9.313   \u001b[0m | \u001b[0m 116.8   \u001b[0m | \u001b[0m 0.9116  \u001b[0m |\n",
      "| \u001b[0m 21      \u001b[0m | \u001b[0m-585.3   \u001b[0m | \u001b[0m 0.06356 \u001b[0m | \u001b[0m 14.25   \u001b[0m | \u001b[0m 63.85   \u001b[0m | \u001b[0m 0.4535  \u001b[0m |\n",
      "| \u001b[0m 22      \u001b[0m | \u001b[0m-623.3   \u001b[0m | \u001b[0m 0.05696 \u001b[0m | \u001b[0m 12.15   \u001b[0m | \u001b[0m 107.8   \u001b[0m | \u001b[0m 0.1139  \u001b[0m |\n",
      "| \u001b[0m 23      \u001b[0m | \u001b[0m-583.6   \u001b[0m | \u001b[0m 0.06398 \u001b[0m | \u001b[0m 9.444   \u001b[0m | \u001b[0m 116.6   \u001b[0m | \u001b[0m 0.7416  \u001b[0m |\n",
      "| \u001b[0m 24      \u001b[0m | \u001b[0m-588.0   \u001b[0m | \u001b[0m 0.06424 \u001b[0m | \u001b[0m 9.342   \u001b[0m | \u001b[0m 116.8   \u001b[0m | \u001b[0m 0.6672  \u001b[0m |\n",
      "| \u001b[0m 25      \u001b[0m | \u001b[0m-666.0   \u001b[0m | \u001b[0m 0.08677 \u001b[0m | \u001b[0m 7.045   \u001b[0m | \u001b[0m 63.25   \u001b[0m | \u001b[0m 0.7344  \u001b[0m |\n",
      "| \u001b[0m 26      \u001b[0m | \u001b[0m-580.7   \u001b[0m | \u001b[0m 0.05647 \u001b[0m | \u001b[0m 12.32   \u001b[0m | \u001b[0m 72.7    \u001b[0m | \u001b[0m 0.8666  \u001b[0m |\n",
      "| \u001b[0m 27      \u001b[0m | \u001b[0m-563.8   \u001b[0m | \u001b[0m 0.1217  \u001b[0m | \u001b[0m 15.69   \u001b[0m | \u001b[0m 77.38   \u001b[0m | \u001b[0m 0.6495  \u001b[0m |\n",
      "| \u001b[0m 28      \u001b[0m | \u001b[0m-559.0   \u001b[0m | \u001b[0m 0.1145  \u001b[0m | \u001b[0m 15.74   \u001b[0m | \u001b[0m 77.28   \u001b[0m | \u001b[0m 0.8039  \u001b[0m |\n",
      "| \u001b[0m 29      \u001b[0m | \u001b[0m-562.6   \u001b[0m | \u001b[0m 0.09892 \u001b[0m | \u001b[0m 15.62   \u001b[0m | \u001b[0m 77.67   \u001b[0m | \u001b[0m 0.5684  \u001b[0m |\n",
      "| \u001b[0m 30      \u001b[0m | \u001b[0m-564.5   \u001b[0m | \u001b[0m 0.1122  \u001b[0m | \u001b[0m 9.303   \u001b[0m | \u001b[0m 116.7   \u001b[0m | \u001b[0m 0.9391  \u001b[0m |\n",
      "=========================================================================\n"
     ]
    }
   ],
   "source": [
    "#xgb模型调参\n",
    "from bayes_opt import BayesianOptimization\n",
    "from xgboost.sklearn import XGBRegressor\n",
    "from sklearn.model_selection import cross_val_score\n",
    "from sklearn.metrics import mean_absolute_error,  make_scorer\n",
    "\n",
    "#rf = xgb.XGBRegressor(n_estimators=120, learning_rate=0.1, gamma=0, subsample=0.8,colsample_bytree=0.9, max_depth=7)\n",
    "rf = xgb.XGBRegressor()\n",
    "def rf_cv(n_estimators, max_depth,subsample,learning_rate):\n",
    "    val = cross_val_score(\n",
    "        XGBRegressor(\n",
    "            subsample=subsample,\n",
    "            n_estimators=int(n_estimators),\n",
    "            max_depth=int(max_depth),\n",
    "            learning_rate=learning_rate\n",
    "        ),\n",
    "        train_x, train_y_notln, scoring=make_scorer(mean_absolute_error), cv=4,verbose=0\n",
    "    ).mean()\n",
    "    return 1-val\n",
    "rf_bo = BayesianOptimization(\n",
    "        rf_cv,\n",
    "        {'n_estimators': (60, 150),\n",
    "        'learning_rate': (0.05, 0.13),\n",
    "        'max_depth':(5, 16),\n",
    "        'subsample':(0.1,1)}\n",
    "    )\n",
    "\n",
    "rf_bo.maximize()"
   ]
  },
  {
   "cell_type": "code",
   "execution_count": 100,
   "metadata": {},
   "outputs": [
    {
     "data": {
      "text/plain": [
       "<matplotlib.axes._subplots.AxesSubplot at 0x16105d0>"
      ]
     },
     "execution_count": 100,
     "metadata": {},
     "output_type": "execute_result"
    },
    {
     "data": {
      "image/png": "[encoded data removed]",
      "text/plain": [
       "<Figure size 432x288 with 1 Axes>"
      ]
     },
     "metadata": {
      "needs_background": "light"
     },
     "output_type": "display_data"
    }
   ],
   "source": [
    "sub3['price'].plot.hist()\n",
    "sub2['price'].plot.hist()"
   ]
  },
  {
   "cell_type": "code",
   "execution_count": 102,
   "metadata": {},
   "outputs": [
    {
     "data": {
      "text/plain": [
       "count    50000.000000\n",
       "mean      5831.978489\n",
       "std       7183.561430\n",
       "min         17.757141\n",
       "25%       1347.725720\n",
       "50%       3220.877874\n",
       "75%       7618.161081\n",
       "max      86201.812236\n",
       "Name: price, dtype: float64"
      ]
     },
     "execution_count": 102,
     "metadata": {},
     "output_type": "execute_result"
    }
   ],
   "source": [
    "sub_sum = pd.DataFrame()\n",
    "sub_sum['SaleID'] = T.SaleID\n",
    "sub_sum['price'] = 0.6*sub2['price']+0.4*sub3['price']\n",
    "#sub_sum['price']=sub_sum['price'].apply(lambda x:12 if x<12 else x)\n",
    "sub_sum.to_csv('G:/sub_Weighted.csv',index=False)\n",
    "sub_sum['price'].describe()"
   ]
  },
  {
   "cell_type": "code",
   "execution_count": 114,
   "metadata": {},
   "outputs": [
    {
     "name": "stdout",
     "output_type": "stream",
     "text": [
      "<class 'pandas.core.frame.DataFrame'>\n",
      "RangeIndex: 50000 entries, 0 to 49999\n",
      "Data columns (total 35 columns):\n",
      "SaleID                 50000 non-null int32\n",
      "model                  50000 non-null float16\n",
      "brand                  50000 non-null int8\n",
      "bodyType               50000 non-null float16\n",
      "fuelType               50000 non-null float16\n",
      "gearbox                50000 non-null float16\n",
      "power                  50000 non-null int16\n",
      "kilometer              50000 non-null float16\n",
      "notRepairedDamage      50000 non-null float16\n",
      "v_0                    50000 non-null float16\n",
      "v_1                    50000 non-null float16\n",
      "v_2                    50000 non-null float16\n",
      "v_3                    50000 non-null float16\n",
      "v_4                    50000 non-null float16\n",
      "v_5                    50000 non-null float16\n",
      "v_6                    50000 non-null float16\n",
      "v_7                    50000 non-null float16\n",
      "v_8                    50000 non-null float16\n",
      "v_9                    50000 non-null float16\n",
      "v_10                   50000 non-null float16\n",
      "v_11                   50000 non-null float16\n",
      "v_12                   50000 non-null float16\n",
      "v_13                   50000 non-null float16\n",
      "v_14                   50000 non-null float16\n",
      "usetime                50000 non-null int16\n",
      "city                   50000 non-null float64\n",
      "bought_time_bin        50000 non-null int8\n",
      "brand_amount           50000 non-null float16\n",
      "brand_price_max        50000 non-null float32\n",
      "brand_price_median     50000 non-null float16\n",
      "brand_price_min        50000 non-null float16\n",
      "brand_price_sum        50000 non-null float32\n",
      "brand_price_std        50000 non-null float16\n",
      "brand_price_average    50000 non-null float16\n",
      "power_bin              50000 non-null int8\n",
      "dtypes: float16(26), float32(2), float64(1), int16(2), int32(1), int8(3)\n",
      "memory usage: 3.8 MB\n"
     ]
    }
   ],
   "source": [
    "T.info()"
   ]
  },
  {
   "cell_type": "code",
   "execution_count": null,
   "metadata": {},
   "outputs": [],
   "source": []
  },
  {
   "cell_type": "code",
   "execution_count": 131,
   "metadata": {},
   "outputs": [],
   "source": [
    "#精准数据集的训练集1 2\n",
    "train_reg1=pd.DataFrame(Train_data[Train_data['price']>30000])\n",
    "train_reg2=pd.DataFrame(Train_data[Train_data['price']<=30000])\n",
    "\n",
    "#训练集1x\n",
    "continuous_feature_names1 = [x for x in train_reg1.columns if x not in 'price']\n",
    "train_reg1_trainx = train_reg1[continuous_feature_names]   #训练集x值\n",
    "\n",
    "#训练集2x\n",
    "continuous_feature_names2 = [x for x in train_reg2.columns if x not in 'price']\n",
    "train_reg2_trainx = train_reg2[continuous_feature_names]   #训练集x值"
   ]
  },
  {
   "cell_type": "code",
   "execution_count": 132,
   "metadata": {},
   "outputs": [],
   "source": [
    "#训练集1y\n",
    "train_reg1_trainy = train_reg1['price']   #训练集1y值\n",
    "\n",
    "#训练集2y\n",
    "train_reg2_trainy = train_reg2['price']   #训练集2y值"
   ]
  },
  {
   "cell_type": "code",
   "execution_count": 136,
   "metadata": {},
   "outputs": [],
   "source": [
    "#精准测试集\n",
    "T1=T.copy()                                #备份训练集\n",
    "T1['pricehat']=sub3['price']\n",
    "Test_reg1=pd.DataFrame(T1[T1['pricehat']>30000])\n",
    "Test_reg2=pd.DataFrame(T1[T1['pricehat']<=30000])\n",
    "t1=Test_reg1.copy()                        #备份测试集1\n",
    "t2=Test_reg2.copy()                        #备份测试集2"
   ]
  },
  {
   "cell_type": "code",
   "execution_count": 138,
   "metadata": {},
   "outputs": [],
   "source": [
    "#测试集1x\n",
    "continuous_feature_names11 = [x for x in Test_reg1.columns if x not in ['pricehat','SaleID']]\n",
    "test_reg1_testx = Test_reg1[continuous_feature_names11]   #训练集x值\n",
    "\n",
    "#测试集2x\n",
    "continuous_feature_names22 = [x for x in Test_reg2.columns if x not in ['pricehat','SaleID']]\n",
    "test_reg2_testx = Test_reg2[continuous_feature_names11]   #训练集x值"
   ]
  },
  {
   "cell_type": "code",
   "execution_count": 135,
   "metadata": {},
   "outputs": [
    {
     "name": "stdout",
     "output_type": "stream",
     "text": [
      "|   iter    |  target   | learni... | max_depth | n_esti... | subsample |\n",
      "-------------------------------------------------------------------------\n",
      "| \u001b[0m 1       \u001b[0m | \u001b[0m-3.211e+0\u001b[0m | \u001b[0m 0.1281  \u001b[0m | \u001b[0m 10.9    \u001b[0m | \u001b[0m 86.89   \u001b[0m | \u001b[0m 0.3851  \u001b[0m |\n",
      "| \u001b[95m 2       \u001b[0m | \u001b[95m-3.194e+0\u001b[0m | \u001b[95m 0.1132  \u001b[0m | \u001b[95m 9.442   \u001b[0m | \u001b[95m 86.22   \u001b[0m | \u001b[95m 0.4939  \u001b[0m |\n",
      "| \u001b[95m 3       \u001b[0m | \u001b[95m-3.194e+0\u001b[0m | \u001b[95m 0.07228 \u001b[0m | \u001b[95m 12.05   \u001b[0m | \u001b[95m 82.22   \u001b[0m | \u001b[95m 0.3114  \u001b[0m |\n",
      "| \u001b[0m 4       \u001b[0m | \u001b[0m-3.252e+0\u001b[0m | \u001b[0m 0.05636 \u001b[0m | \u001b[0m 5.828   \u001b[0m | \u001b[0m 136.2   \u001b[0m | \u001b[0m 0.3943  \u001b[0m |\n",
      "| \u001b[95m 5       \u001b[0m | \u001b[95m-3.113e+0\u001b[0m | \u001b[95m 0.1115  \u001b[0m | \u001b[95m 5.255   \u001b[0m | \u001b[95m 127.5   \u001b[0m | \u001b[95m 0.4334  \u001b[0m |\n",
      "| \u001b[0m 6       \u001b[0m | \u001b[0m-3.158e+0\u001b[0m | \u001b[0m 0.05638 \u001b[0m | \u001b[0m 12.73   \u001b[0m | \u001b[0m 107.4   \u001b[0m | \u001b[0m 0.2295  \u001b[0m |\n",
      "| \u001b[0m 7       \u001b[0m | \u001b[0m-3.156e+0\u001b[0m | \u001b[0m 0.1115  \u001b[0m | \u001b[0m 5.277   \u001b[0m | \u001b[0m 127.5   \u001b[0m | \u001b[0m 0.4153  \u001b[0m |\n",
      "| \u001b[95m 8       \u001b[0m | \u001b[95m-3.059e+0\u001b[0m | \u001b[95m 0.07126 \u001b[0m | \u001b[95m 11.9    \u001b[0m | \u001b[95m 106.3   \u001b[0m | \u001b[95m 0.7756  \u001b[0m |\n",
      "| \u001b[0m 9       \u001b[0m | \u001b[0m-3.178e+0\u001b[0m | \u001b[0m 0.1014  \u001b[0m | \u001b[0m 11.05   \u001b[0m | \u001b[0m 90.81   \u001b[0m | \u001b[0m 0.3456  \u001b[0m |\n",
      "| \u001b[0m 10      \u001b[0m | \u001b[0m-3.184e+0\u001b[0m | \u001b[0m 0.08744 \u001b[0m | \u001b[0m 11.7    \u001b[0m | \u001b[0m 82.61   \u001b[0m | \u001b[0m 0.291   \u001b[0m |\n",
      "| \u001b[0m 11      \u001b[0m | \u001b[0m-3.133e+0\u001b[0m | \u001b[0m 0.1137  \u001b[0m | \u001b[0m 9.227   \u001b[0m | \u001b[0m 121.0   \u001b[0m | \u001b[0m 0.9625  \u001b[0m |\n",
      "| \u001b[0m 12      \u001b[0m | \u001b[0m-3.181e+0\u001b[0m | \u001b[0m 0.08693 \u001b[0m | \u001b[0m 5.151   \u001b[0m | \u001b[0m 127.5   \u001b[0m | \u001b[0m 0.41    \u001b[0m |\n",
      "| \u001b[0m 13      \u001b[0m | \u001b[0m-3.337e+0\u001b[0m | \u001b[0m 0.05278 \u001b[0m | \u001b[0m 10.22   \u001b[0m | \u001b[0m 136.4   \u001b[0m | \u001b[0m 0.113   \u001b[0m |\n",
      "| \u001b[0m 14      \u001b[0m | \u001b[0m-3.161e+0\u001b[0m | \u001b[0m 0.1079  \u001b[0m | \u001b[0m 9.896   \u001b[0m | \u001b[0m 117.6   \u001b[0m | \u001b[0m 0.3267  \u001b[0m |\n",
      "| \u001b[0m 15      \u001b[0m | \u001b[0m-3.534e+0\u001b[0m | \u001b[0m 0.07761 \u001b[0m | \u001b[0m 11.01   \u001b[0m | \u001b[0m 61.75   \u001b[0m | \u001b[0m 0.1855  \u001b[0m |\n",
      "| \u001b[0m 16      \u001b[0m | \u001b[0m-3.114e+0\u001b[0m | \u001b[0m 0.1053  \u001b[0m | \u001b[0m 9.768   \u001b[0m | \u001b[0m 117.6   \u001b[0m | \u001b[0m 0.311   \u001b[0m |\n",
      "| \u001b[0m 17      \u001b[0m | \u001b[0m-3.085e+0\u001b[0m | \u001b[0m 0.1029  \u001b[0m | \u001b[0m 12.33   \u001b[0m | \u001b[0m 83.21   \u001b[0m | \u001b[0m 0.7811  \u001b[0m |\n",
      "| \u001b[0m 18      \u001b[0m | \u001b[0m-3.175e+0\u001b[0m | \u001b[0m 0.07901 \u001b[0m | \u001b[0m 5.308   \u001b[0m | \u001b[0m 127.6   \u001b[0m | \u001b[0m 0.4258  \u001b[0m |\n",
      "| \u001b[0m 19      \u001b[0m | \u001b[0m-3.191e+0\u001b[0m | \u001b[0m 0.1016  \u001b[0m | \u001b[0m 9.768   \u001b[0m | \u001b[0m 117.5   \u001b[0m | \u001b[0m 0.2642  \u001b[0m |\n",
      "| \u001b[0m 20      \u001b[0m | \u001b[0m-3.1e+03 \u001b[0m | \u001b[0m 0.05473 \u001b[0m | \u001b[0m 9.996   \u001b[0m | \u001b[0m 108.6   \u001b[0m | \u001b[0m 0.5699  \u001b[0m |\n",
      "| \u001b[0m 21      \u001b[0m | \u001b[0m-3.142e+0\u001b[0m | \u001b[0m 0.1288  \u001b[0m | \u001b[0m 7.171   \u001b[0m | \u001b[0m 90.12   \u001b[0m | \u001b[0m 0.4197  \u001b[0m |\n",
      "| \u001b[0m 22      \u001b[0m | \u001b[0m-3.101e+0\u001b[0m | \u001b[0m 0.1022  \u001b[0m | \u001b[0m 11.87   \u001b[0m | \u001b[0m 106.2   \u001b[0m | \u001b[0m 0.7325  \u001b[0m |\n",
      "| \u001b[0m 23      \u001b[0m | \u001b[0m-3.307e+0\u001b[0m | \u001b[0m 0.104   \u001b[0m | \u001b[0m 10.22   \u001b[0m | \u001b[0m 67.93   \u001b[0m | \u001b[0m 0.3827  \u001b[0m |\n",
      "| \u001b[0m 24      \u001b[0m | \u001b[0m-3.076e+0\u001b[0m | \u001b[0m 0.09983 \u001b[0m | \u001b[0m 7.526   \u001b[0m | \u001b[0m 114.4   \u001b[0m | \u001b[0m 0.9755  \u001b[0m |\n",
      "| \u001b[0m 25      \u001b[0m | \u001b[0m-3.39e+03\u001b[0m | \u001b[0m 0.1254  \u001b[0m | \u001b[0m 9.909   \u001b[0m | \u001b[0m 97.57   \u001b[0m | \u001b[0m 0.2193  \u001b[0m |\n",
      "| \u001b[0m 26      \u001b[0m | \u001b[0m-3.113e+0\u001b[0m | \u001b[0m 0.07086 \u001b[0m | \u001b[0m 11.27   \u001b[0m | \u001b[0m 103.2   \u001b[0m | \u001b[0m 0.3455  \u001b[0m |\n",
      "| \u001b[95m 27      \u001b[0m | \u001b[95m-3.032e+0\u001b[0m | \u001b[95m 0.08006 \u001b[0m | \u001b[95m 11.19   \u001b[0m | \u001b[95m 103.2   \u001b[0m | \u001b[95m 0.4062  \u001b[0m |\n",
      "| \u001b[0m 28      \u001b[0m | \u001b[0m-3.043e+0\u001b[0m | \u001b[0m 0.1022  \u001b[0m | \u001b[0m 11.13   \u001b[0m | \u001b[0m 103.3   \u001b[0m | \u001b[0m 0.4278  \u001b[0m |\n",
      "| \u001b[0m 29      \u001b[0m | \u001b[0m-3.176e+0\u001b[0m | \u001b[0m 0.1259  \u001b[0m | \u001b[0m 11.21   \u001b[0m | \u001b[0m 103.4   \u001b[0m | \u001b[0m 0.4688  \u001b[0m |\n",
      "| \u001b[0m 30      \u001b[0m | \u001b[0m-3.287e+0\u001b[0m | \u001b[0m 0.1177  \u001b[0m | \u001b[0m 12.46   \u001b[0m | \u001b[0m 149.5   \u001b[0m | \u001b[0m 0.2132  \u001b[0m |\n",
      "=========================================================================\n"
     ]
    }
   ],
   "source": [
    "#xgb模型model1调参（大于30000）\n",
    "from bayes_opt import BayesianOptimization\n",
    "from xgboost.sklearn import XGBRegressor\n",
    "from sklearn.model_selection import cross_val_score\n",
    "from sklearn.metrics import mean_absolute_error,  make_scorer\n",
    "\n",
    "#rf = xgb.XGBRegressor(n_estimators=120, learning_rate=0.1, gamma=0, subsample=0.8,colsample_bytree=0.9, max_depth=7)\n",
    "rf = xgb.XGBRegressor()\n",
    "def rf_cv(n_estimators, max_depth,subsample,learning_rate):\n",
    "    val = cross_val_score(\n",
    "        XGBRegressor(\n",
    "            subsample=subsample,\n",
    "            n_estimators=int(n_estimators),\n",
    "            max_depth=int(max_depth),\n",
    "            learning_rate=learning_rate\n",
    "        ),\n",
    "        train_reg1_trainx, train_reg1_trainy, scoring=make_scorer(mean_absolute_error), cv=4,verbose=0\n",
    "    ).mean()\n",
    "    return 1-val\n",
    "rf_bo = BayesianOptimization(\n",
    "        rf_cv,\n",
    "        {'n_estimators': (60, 150),\n",
    "        'learning_rate': (0.05, 0.13),\n",
    "        'max_depth':(5, 13),\n",
    "        'subsample':(0.1,1)}\n",
    "    )\n",
    "\n",
    "rf_bo.maximize()"
   ]
  },
  {
   "cell_type": "code",
   "execution_count": null,
   "metadata": {},
   "outputs": [],
   "source": []
  },
  {
   "cell_type": "code",
   "execution_count": 142,
   "metadata": {},
   "outputs": [
    {
     "name": "stdout",
     "output_type": "stream",
     "text": [
      "Train xgb...\n",
      "MAE of val with xgb: 1074.7009056712964\n",
      "Predict xgb...\n",
      "Sta of Predict xgb:\n",
      "_min 30692.752\n",
      "_max: 92764.69\n",
      "_mean 43261.395\n",
      "_ptp 62071.938\n",
      "_std 11989.703\n",
      "_var 143753000.0\n"
     ]
    }
   ],
   "source": [
    "#定义xgb模型model1函数，预测出大于30000的数据predict1\n",
    "def build_model_xgb(x_train,y_train):\n",
    "    model = xgb.XGBRegressor(n_estimators=103, learning_rate=0.08006, gamma=0, subsample=0.4062,\\\n",
    "        colsample_bytree=0.9, max_depth=11) #,objective ='reg:squarederror'\n",
    "    model.fit(x_train, y_train)\n",
    "    return model\n",
    "## Split data with val\n",
    "x_train,x_val,y_train,y_val = train_test_split(train_reg1_trainx,train_reg1_trainy,test_size=0.3)\n",
    "\n",
    "## 定义了一个统计函数，方便后续信息统计\n",
    "def Sta_inf(data):\n",
    "    print('_min',np.min(data))\n",
    "    print('_max:',np.max(data))\n",
    "    print('_mean',np.mean(data))\n",
    "    print('_ptp',np.ptp(data))#最大与最小值的差\n",
    "    print('_std',np.std(data))\n",
    "    print('_var',np.var(data))\n",
    "    \n",
    "print('Train xgb...')\n",
    "model_xgb = build_model_xgb(train_reg1_trainx,train_reg1_trainy)\n",
    "val_xgb = model_xgb.predict(x_val)\n",
    "MAE_xgb = mean_absolute_error(y_val,val_xgb)\n",
    "print('MAE of val with xgb:',MAE_xgb)\n",
    "\n",
    "print('Predict xgb...')\n",
    "model_xgb_pre = build_model_xgb(train_reg1_trainx,train_reg1_trainy)\n",
    "predict1 = model_xgb_pre.predict(test_reg1_testx)\n",
    "print('Sta of Predict xgb:')\n",
    "Sta_inf(predict1)"
   ]
  },
  {
   "cell_type": "code",
   "execution_count": null,
   "metadata": {},
   "outputs": [],
   "source": []
  },
  {
   "cell_type": "code",
   "execution_count": 140,
   "metadata": {},
   "outputs": [
    {
     "name": "stdout",
     "output_type": "stream",
     "text": [
      "|   iter    |  target   | learni... | max_depth | n_esti... | subsample |\n",
      "-------------------------------------------------------------------------\n",
      "| \u001b[0m 1       \u001b[0m | \u001b[0m-573.5   \u001b[0m | \u001b[0m 0.06968 \u001b[0m | \u001b[0m 7.722   \u001b[0m | \u001b[0m 132.7   \u001b[0m | \u001b[0m 0.3788  \u001b[0m |\n",
      "| \u001b[95m 2       \u001b[0m | \u001b[95m-519.4   \u001b[0m | \u001b[95m 0.1081  \u001b[0m | \u001b[95m 8.328   \u001b[0m | \u001b[95m 144.5   \u001b[0m | \u001b[95m 0.7796  \u001b[0m |\n",
      "| \u001b[0m 3       \u001b[0m | \u001b[0m-530.7   \u001b[0m | \u001b[0m 0.09476 \u001b[0m | \u001b[0m 9.997   \u001b[0m | \u001b[0m 88.8    \u001b[0m | \u001b[0m 0.5361  \u001b[0m |\n",
      "| \u001b[0m 4       \u001b[0m | \u001b[0m-549.5   \u001b[0m | \u001b[0m 0.07961 \u001b[0m | \u001b[0m 7.586   \u001b[0m | \u001b[0m 147.1   \u001b[0m | \u001b[0m 0.8133  \u001b[0m |\n",
      "| \u001b[0m 5       \u001b[0m | \u001b[0m-535.9   \u001b[0m | \u001b[0m 0.08619 \u001b[0m | \u001b[0m 10.83   \u001b[0m | \u001b[0m 105.0   \u001b[0m | \u001b[0m 0.2776  \u001b[0m |\n",
      "| \u001b[0m 6       \u001b[0m | \u001b[0m-538.1   \u001b[0m | \u001b[0m 0.1111  \u001b[0m | \u001b[0m 11.66   \u001b[0m | \u001b[0m 64.96   \u001b[0m | \u001b[0m 0.349   \u001b[0m |\n",
      "| \u001b[95m 7       \u001b[0m | \u001b[95m-496.5   \u001b[0m | \u001b[95m 0.09506 \u001b[0m | \u001b[95m 11.04   \u001b[0m | \u001b[95m 137.2   \u001b[0m | \u001b[95m 0.8837  \u001b[0m |\n",
      "| \u001b[0m 8       \u001b[0m | \u001b[0m-551.5   \u001b[0m | \u001b[0m 0.05083 \u001b[0m | \u001b[0m 12.78   \u001b[0m | \u001b[0m 74.09   \u001b[0m | \u001b[0m 0.2915  \u001b[0m |\n",
      "| \u001b[0m 9       \u001b[0m | \u001b[0m-601.6   \u001b[0m | \u001b[0m 0.07729 \u001b[0m | \u001b[0m 6.242   \u001b[0m | \u001b[0m 107.1   \u001b[0m | \u001b[0m 0.7933  \u001b[0m |\n",
      "| \u001b[0m 10      \u001b[0m | \u001b[0m-610.8   \u001b[0m | \u001b[0m 0.06299 \u001b[0m | \u001b[0m 6.202   \u001b[0m | \u001b[0m 108.9   \u001b[0m | \u001b[0m 0.8083  \u001b[0m |\n",
      "| \u001b[95m 11      \u001b[0m | \u001b[95m-496.0   \u001b[0m | \u001b[95m 0.09554 \u001b[0m | \u001b[95m 11.09   \u001b[0m | \u001b[95m 137.3   \u001b[0m | \u001b[95m 0.8919  \u001b[0m |\n",
      "| \u001b[0m 12      \u001b[0m | \u001b[0m-496.5   \u001b[0m | \u001b[0m 0.1001  \u001b[0m | \u001b[0m 11.23   \u001b[0m | \u001b[0m 137.5   \u001b[0m | \u001b[0m 0.9188  \u001b[0m |\n",
      "| \u001b[0m 13      \u001b[0m | \u001b[0m-501.4   \u001b[0m | \u001b[0m 0.09183 \u001b[0m | \u001b[0m 10.63   \u001b[0m | \u001b[0m 137.6   \u001b[0m | \u001b[0m 0.7395  \u001b[0m |\n",
      "| \u001b[0m 14      \u001b[0m | \u001b[0m-498.2   \u001b[0m | \u001b[0m 0.05448 \u001b[0m | \u001b[0m 11.09   \u001b[0m | \u001b[0m 137.4   \u001b[0m | \u001b[0m 0.9776  \u001b[0m |\n",
      "| \u001b[0m 15      \u001b[0m | \u001b[0m-514.7   \u001b[0m | \u001b[0m 0.13    \u001b[0m | \u001b[0m 11.23   \u001b[0m | \u001b[0m 137.3   \u001b[0m | \u001b[0m 0.4756  \u001b[0m |\n",
      "| \u001b[0m 16      \u001b[0m | \u001b[0m-500.8   \u001b[0m | \u001b[0m 0.13    \u001b[0m | \u001b[0m 11.02   \u001b[0m | \u001b[0m 137.3   \u001b[0m | \u001b[0m 0.8527  \u001b[0m |\n",
      "| \u001b[0m 17      \u001b[0m | \u001b[0m-502.3   \u001b[0m | \u001b[0m 0.05186 \u001b[0m | \u001b[0m 11.16   \u001b[0m | \u001b[0m 137.2   \u001b[0m | \u001b[0m 0.6572  \u001b[0m |\n",
      "| \u001b[95m 18      \u001b[0m | \u001b[95m-495.3   \u001b[0m | \u001b[95m 0.08236 \u001b[0m | \u001b[95m 11.32   \u001b[0m | \u001b[95m 137.5   \u001b[0m | \u001b[95m 0.9176  \u001b[0m |\n",
      "| \u001b[0m 19      \u001b[0m | \u001b[0m-585.4   \u001b[0m | \u001b[0m 0.1089  \u001b[0m | \u001b[0m 9.696   \u001b[0m | \u001b[0m 78.2    \u001b[0m | \u001b[0m 0.1446  \u001b[0m |\n",
      "| \u001b[0m 20      \u001b[0m | \u001b[0m-542.3   \u001b[0m | \u001b[0m 0.08859 \u001b[0m | \u001b[0m 10.53   \u001b[0m | \u001b[0m 124.3   \u001b[0m | \u001b[0m 0.2287  \u001b[0m |\n",
      "| \u001b[0m 21      \u001b[0m | \u001b[0m-499.3   \u001b[0m | \u001b[0m 0.1274  \u001b[0m | \u001b[0m 11.17   \u001b[0m | \u001b[0m 137.2   \u001b[0m | \u001b[0m 0.8401  \u001b[0m |\n",
      "| \u001b[0m 22      \u001b[0m | \u001b[0m-694.6   \u001b[0m | \u001b[0m 0.06446 \u001b[0m | \u001b[0m 5.203   \u001b[0m | \u001b[0m 67.46   \u001b[0m | \u001b[0m 0.5202  \u001b[0m |\n",
      "| \u001b[0m 23      \u001b[0m | \u001b[0m-499.0   \u001b[0m | \u001b[0m 0.05    \u001b[0m | \u001b[0m 11.13   \u001b[0m | \u001b[0m 137.3   \u001b[0m | \u001b[0m 0.871   \u001b[0m |\n",
      "| \u001b[0m 24      \u001b[0m | \u001b[0m-496.3   \u001b[0m | \u001b[0m 0.07114 \u001b[0m | \u001b[0m 11.35   \u001b[0m | \u001b[0m 137.6   \u001b[0m | \u001b[0m 0.8066  \u001b[0m |\n",
      "| \u001b[0m 25      \u001b[0m | \u001b[0m-498.5   \u001b[0m | \u001b[0m 0.1241  \u001b[0m | \u001b[0m 11.01   \u001b[0m | \u001b[0m 137.2   \u001b[0m | \u001b[0m 0.9256  \u001b[0m |\n",
      "| \u001b[0m 26      \u001b[0m | \u001b[0m-535.6   \u001b[0m | \u001b[0m 0.05205 \u001b[0m | \u001b[0m 11.43   \u001b[0m | \u001b[0m 115.1   \u001b[0m | \u001b[0m 0.2112  \u001b[0m |\n",
      "| \u001b[0m 27      \u001b[0m | \u001b[0m-536.0   \u001b[0m | \u001b[0m 0.09029 \u001b[0m | \u001b[0m 9.369   \u001b[0m | \u001b[0m 142.2   \u001b[0m | \u001b[0m 0.323   \u001b[0m |\n",
      "| \u001b[0m 28      \u001b[0m | \u001b[0m-498.7   \u001b[0m | \u001b[0m 0.0926  \u001b[0m | \u001b[0m 11.1    \u001b[0m | \u001b[0m 137.1   \u001b[0m | \u001b[0m 0.7255  \u001b[0m |\n",
      "| \u001b[0m 29      \u001b[0m | \u001b[0m-505.2   \u001b[0m | \u001b[0m 0.06459 \u001b[0m | \u001b[0m 11.44   \u001b[0m | \u001b[0m 95.24   \u001b[0m | \u001b[0m 0.9176  \u001b[0m |\n",
      "| \u001b[0m 30      \u001b[0m | \u001b[0m-501.4   \u001b[0m | \u001b[0m 0.08833 \u001b[0m | \u001b[0m 10.69   \u001b[0m | \u001b[0m 137.5   \u001b[0m | \u001b[0m 0.7462  \u001b[0m |\n",
      "=========================================================================\n"
     ]
    }
   ],
   "source": [
    "#xgb模型model2调参（小于或等于30000）\n",
    "from bayes_opt import BayesianOptimization\n",
    "from xgboost.sklearn import XGBRegressor\n",
    "from sklearn.model_selection import cross_val_score\n",
    "from sklearn.metrics import mean_absolute_error,  make_scorer\n",
    "\n",
    "#rf = xgb.XGBRegressor(n_estimators=120, learning_rate=0.1, gamma=0, subsample=0.8,colsample_bytree=0.9, max_depth=7)\n",
    "rf = xgb.XGBRegressor()\n",
    "def rf_cv(n_estimators, max_depth,subsample,learning_rate):\n",
    "    val = cross_val_score(\n",
    "        XGBRegressor(\n",
    "            subsample=subsample,\n",
    "            n_estimators=int(n_estimators),\n",
    "            max_depth=int(max_depth),\n",
    "            learning_rate=learning_rate\n",
    "        ),\n",
    "        train_reg2_trainx, train_reg2_trainy, scoring=make_scorer(mean_absolute_error), cv=4,verbose=0\n",
    "    ).mean()\n",
    "    return 1-val\n",
    "rf_bo = BayesianOptimization(\n",
    "        rf_cv,\n",
    "        {'n_estimators': (60, 150),\n",
    "        'learning_rate': (0.05, 0.13),\n",
    "        'max_depth':(5, 13),\n",
    "        'subsample':(0.1,1)}\n",
    "    )\n",
    "\n",
    "rf_bo.maximize()"
   ]
  },
  {
   "cell_type": "code",
   "execution_count": 149,
   "metadata": {},
   "outputs": [
    {
     "name": "stdout",
     "output_type": "stream",
     "text": [
      "Train xgb...\n",
      "MAE of val with xgb: 250.31458373155152\n",
      "Predict xgb...\n",
      "Sta of Predict xgb:\n",
      "_min -118.29372\n",
      "_max: 29766.498\n",
      "_mean 5348.886\n",
      "_ptp 29884.791\n",
      "_std 5624.557\n",
      "_var 31635642.0\n"
     ]
    }
   ],
   "source": [
    "#定义xgb模型model2函数，预测出小于或等于30000的数据predict2\n",
    "def build_model_xgb(x_train,y_train):\n",
    "    model = xgb.XGBRegressor(n_estimators=137, learning_rate=0.09, gamma=0, subsample=0.9,\\\n",
    "        colsample_bytree=0.9, max_depth=11) #,objective ='reg:squarederror'\n",
    "    model.fit(x_train, y_train)\n",
    "    return model\n",
    "## Split data with val\n",
    "x_train,x_val,y_train,y_val = train_test_split(train_reg2_trainx,train_reg2_trainy,test_size=0.3)\n",
    "\n",
    "## 定义了一个统计函数，方便后续信息统计\n",
    "def Sta_inf(data):\n",
    "    print('_min',np.min(data))\n",
    "    print('_max:',np.max(data))\n",
    "    print('_mean',np.mean(data))\n",
    "    print('_ptp',np.ptp(data))#最大与最小值的差\n",
    "    print('_std',np.std(data))\n",
    "    print('_var',np.var(data))\n",
    "    \n",
    "print('Train xgb...')\n",
    "model_xgb = build_model_xgb(train_reg2_trainx,train_reg2_trainy)\n",
    "val_xgb = model_xgb.predict(x_val)\n",
    "MAE_xgb = mean_absolute_error(y_val,val_xgb)\n",
    "print('MAE of val with xgb:',MAE_xgb)\n",
    "\n",
    "print('Predict xgb...')\n",
    "model_xgb_pre1 = build_model_xgb(train_reg2_trainx,train_reg2_trainy)\n",
    "predict2 = model_xgb_pre1.predict(test_reg2_testx)\n",
    "print('Sta of Predict xgb:')\n",
    "Sta_inf(predict2)"
   ]
  },
  {
   "cell_type": "code",
   "execution_count": 150,
   "metadata": {},
   "outputs": [],
   "source": [
    "df1=pd.DataFrame()\n",
    "df1['SaleID']=t1.SaleID\n",
    "df1['price']=predict1\n",
    "\n",
    "df2=pd.DataFrame()\n",
    "df2['SaleID']=t2.SaleID\n",
    "df2['price']=predict2\n",
    "\n",
    "df_sum1=pd.concat([df1,df2],axis=0)\n",
    "df_sum1=df_sum1.sort_values(by='SaleID')"
   ]
  },
  {
   "cell_type": "code",
   "execution_count": 151,
   "metadata": {},
   "outputs": [],
   "source": [
    "df_sum1['price']=df_sum1['price'].apply(lambda x:10 if x<10 else x)\n",
    "df_sum1.to_csv('D:/sub_Weighted.csv',index=False)"
   ]
  },
  {
   "cell_type": "code",
   "execution_count": 156,
   "metadata": {},
   "outputs": [
    {
     "data": {
      "text/plain": [
       "<matplotlib.axes._subplots.AxesSubplot at 0x15561050>"
      ]
     },
     "execution_count": 156,
     "metadata": {},
     "output_type": "execute_result"
    },
    {
     "data": {
      "image/png": "[encoded data removed]",
      "text/plain": [
       "<Figure size 432x288 with 1 Axes>"
      ]
     },
     "metadata": {
      "needs_background": "light"
     },
     "output_type": "display_data"
    }
   ],
   "source": [
    "Train_data[Train_data['price']>30000]['price'].plot.hist()\n",
    "df_sum1[df_sum1['price']>30000]['price'].plot.hist()"
   ]
  },
  {
   "cell_type": "code",
   "execution_count": null,
   "metadata": {},
   "outputs": [],
   "source": []
  },
  {
   "cell_type": "code",
   "execution_count": null,
   "metadata": {},
   "outputs": [],
   "source": []
  },
  {
   "cell_type": "code",
   "execution_count": 153,
   "metadata": {},
   "outputs": [],
   "source": [
    "#随机森林\n",
    "#精准数据集的训练集3 4\n",
    "train_reg3=pd.DataFrame(Train_data[Train_data['price']>30000])\n",
    "train_reg4=pd.DataFrame(Train_data[Train_data['price']<=30000])\n",
    "\n",
    "#训练集3x\n",
    "continuous_feature_names3 = [x for x in train_reg3.columns if x not in 'price']\n",
    "train_reg3_trainx = train_reg3[continuous_feature_names3]   #训练集3x值\n",
    "\n",
    "#训练集4x\n",
    "continuous_feature_names4 = [x for x in train_reg4.columns if x not in 'price']\n",
    "train_reg4_trainx = train_reg4[continuous_feature_names]   #训练集4x值"
   ]
  },
  {
   "cell_type": "code",
   "execution_count": 154,
   "metadata": {},
   "outputs": [],
   "source": [
    "#训练集3y\n",
    "train_reg3_trainy = train_reg3['price']   #训练集3y值\n",
    "\n",
    "#训练集4y\n",
    "train_reg4_trainy = train_reg4['price']   #训练集4y值\n",
    "\n",
    "#精准测试集\n",
    "T1=T.copy()                                #备份训练集\n",
    "T1['pricehat']=sub3['price']\n",
    "Test_reg3=pd.DataFrame(T1[T1['pricehat']>30000])\n",
    "Test_reg4=pd.DataFrame(T1[T1['pricehat']<=30000])\n",
    "t3=Test_reg3.copy()                        #备份测试集3\n",
    "t4=Test_reg4.copy()                        #备份测试集4\n",
    "\n",
    "#测试集3x\n",
    "continuous_feature_names33 = [x for x in Test_reg3.columns if x not in ['pricehat','SaleID']]\n",
    "test_reg3_testx = Test_reg3[continuous_feature_names33]   #训练集x值\n",
    "\n",
    "#测试集2x\n",
    "continuous_feature_names44 = [x for x in Test_reg4.columns if x not in ['pricehat','SaleID']]\n",
    "test_reg4_testx = Test_reg4[continuous_feature_names44]   #训练集x值"
   ]
  },
  {
   "cell_type": "code",
   "execution_count": 155,
   "metadata": {},
   "outputs": [
    {
     "name": "stdout",
     "output_type": "stream",
     "text": [
      "|   iter    |  target   | max_depth | max_fe... | min_sa... | min_sa... | n_esti... |\n",
      "-------------------------------------------------------------------------------------\n",
      "| \u001b[0m 1       \u001b[0m | \u001b[0m-5.806e+0\u001b[0m | \u001b[0m 9.396   \u001b[0m | \u001b[0m 6.856   \u001b[0m | \u001b[0m 29.18   \u001b[0m | \u001b[0m 87.77   \u001b[0m | \u001b[0m 229.0   \u001b[0m |\n",
      "| \u001b[0m 2       \u001b[0m | \u001b[0m-6.4e+03 \u001b[0m | \u001b[0m 21.04   \u001b[0m | \u001b[0m 4.097   \u001b[0m | \u001b[0m 53.5    \u001b[0m | \u001b[0m 41.6    \u001b[0m | \u001b[0m 125.3   \u001b[0m |\n",
      "| \u001b[95m 3       \u001b[0m | \u001b[95m-5.759e+0\u001b[0m | \u001b[95m 12.99   \u001b[0m | \u001b[95m 9.131   \u001b[0m | \u001b[95m 43.41   \u001b[0m | \u001b[95m 54.09   \u001b[0m | \u001b[95m 233.9   \u001b[0m |\n",
      "| \u001b[95m 4       \u001b[0m | \u001b[95m-4.638e+0\u001b[0m | \u001b[95m 19.12   \u001b[0m | \u001b[95m 8.807   \u001b[0m | \u001b[95m 2.695   \u001b[0m | \u001b[95m 39.3    \u001b[0m | \u001b[95m 105.0   \u001b[0m |\n",
      "| \u001b[0m 5       \u001b[0m | \u001b[0m-5.135e+0\u001b[0m | \u001b[0m 21.73   \u001b[0m | \u001b[0m 6.27    \u001b[0m | \u001b[0m 18.5    \u001b[0m | \u001b[0m 47.16   \u001b[0m | \u001b[0m 157.4   \u001b[0m |\n",
      "| \u001b[0m 6       \u001b[0m | \u001b[0m-5.078e+0\u001b[0m | \u001b[0m 19.36   \u001b[0m | \u001b[0m 7.87    \u001b[0m | \u001b[0m 19.44   \u001b[0m | \u001b[0m 44.38   \u001b[0m | \u001b[0m 154.4   \u001b[0m |\n",
      "| \u001b[0m 7       \u001b[0m | \u001b[0m-4.645e+0\u001b[0m | \u001b[0m 19.11   \u001b[0m | \u001b[0m 8.81    \u001b[0m | \u001b[0m 2.668   \u001b[0m | \u001b[0m 39.3    \u001b[0m | \u001b[0m 105.0   \u001b[0m |\n",
      "| \u001b[0m 8       \u001b[0m | \u001b[0m-6.061e+0\u001b[0m | \u001b[0m 21.27   \u001b[0m | \u001b[0m 9.546   \u001b[0m | \u001b[0m 39.51   \u001b[0m | \u001b[0m 134.8   \u001b[0m | \u001b[0m 212.1   \u001b[0m |\n",
      "| \u001b[0m 9       \u001b[0m | \u001b[0m-5.91e+03\u001b[0m | \u001b[0m 16.39   \u001b[0m | \u001b[0m 5.797   \u001b[0m | \u001b[0m 14.52   \u001b[0m | \u001b[0m 105.9   \u001b[0m | \u001b[0m 217.6   \u001b[0m |\n",
      "| \u001b[0m 10      \u001b[0m | \u001b[0m-5.937e+0\u001b[0m | \u001b[0m 18.45   \u001b[0m | \u001b[0m 9.657   \u001b[0m | \u001b[0m 50.42   \u001b[0m | \u001b[0m 21.07   \u001b[0m | \u001b[0m 163.5   \u001b[0m |\n",
      "| \u001b[0m 11      \u001b[0m | \u001b[0m-5.044e+0\u001b[0m | \u001b[0m 16.72   \u001b[0m | \u001b[0m 7.972   \u001b[0m | \u001b[0m 18.01   \u001b[0m | \u001b[0m 43.52   \u001b[0m | \u001b[0m 155.4   \u001b[0m |\n",
      "| \u001b[0m 12      \u001b[0m | \u001b[0m-5.204e+0\u001b[0m | \u001b[0m 21.53   \u001b[0m | \u001b[0m 5.178   \u001b[0m | \u001b[0m 17.41   \u001b[0m | \u001b[0m 44.78   \u001b[0m | \u001b[0m 161.3   \u001b[0m |\n",
      "| \u001b[0m 13      \u001b[0m | \u001b[0m-5.22e+03\u001b[0m | \u001b[0m 23.79   \u001b[0m | \u001b[0m 5.534   \u001b[0m | \u001b[0m 19.87   \u001b[0m | \u001b[0m 44.02   \u001b[0m | \u001b[0m 158.1   \u001b[0m |\n",
      "| \u001b[0m 14      \u001b[0m | \u001b[0m-5.008e+0\u001b[0m | \u001b[0m 20.72   \u001b[0m | \u001b[0m 8.386   \u001b[0m | \u001b[0m 19.27   \u001b[0m | \u001b[0m 44.25   \u001b[0m | \u001b[0m 161.0   \u001b[0m |\n",
      "| \u001b[0m 15      \u001b[0m | \u001b[0m-4.994e+0\u001b[0m | \u001b[0m 16.84   \u001b[0m | \u001b[0m 9.469   \u001b[0m | \u001b[0m 20.67   \u001b[0m | \u001b[0m 43.41   \u001b[0m | \u001b[0m 156.0   \u001b[0m |\n",
      "| \u001b[95m 16      \u001b[0m | \u001b[95m-4.636e+0\u001b[0m | \u001b[95m 23.19   \u001b[0m | \u001b[95m 8.961   \u001b[0m | \u001b[95m 4.92    \u001b[0m | \u001b[95m 38.59   \u001b[0m | \u001b[95m 104.9   \u001b[0m |\n",
      "| \u001b[0m 17      \u001b[0m | \u001b[0m-4.671e+0\u001b[0m | \u001b[0m 19.67   \u001b[0m | \u001b[0m 8.223   \u001b[0m | \u001b[0m 2.281   \u001b[0m | \u001b[0m 40.45   \u001b[0m | \u001b[0m 104.9   \u001b[0m |\n",
      "| \u001b[0m 18      \u001b[0m | \u001b[0m-5.115e+0\u001b[0m | \u001b[0m 19.21   \u001b[0m | \u001b[0m 7.46    \u001b[0m | \u001b[0m 20.47   \u001b[0m | \u001b[0m 45.14   \u001b[0m | \u001b[0m 156.0   \u001b[0m |\n",
      "| \u001b[0m 19      \u001b[0m | \u001b[0m-5.017e+0\u001b[0m | \u001b[0m 20.54   \u001b[0m | \u001b[0m 8.435   \u001b[0m | \u001b[0m 19.28   \u001b[0m | \u001b[0m 44.29   \u001b[0m | \u001b[0m 160.6   \u001b[0m |\n",
      "| \u001b[0m 20      \u001b[0m | \u001b[0m-5.237e+0\u001b[0m | \u001b[0m 16.55   \u001b[0m | \u001b[0m 6.806   \u001b[0m | \u001b[0m 23.09   \u001b[0m | \u001b[0m 43.83   \u001b[0m | \u001b[0m 155.2   \u001b[0m |\n",
      "| \u001b[0m 21      \u001b[0m | \u001b[0m-4.689e+0\u001b[0m | \u001b[0m 19.35   \u001b[0m | \u001b[0m 8.729   \u001b[0m | \u001b[0m 5.072   \u001b[0m | \u001b[0m 40.98   \u001b[0m | \u001b[0m 108.1   \u001b[0m |\n",
      "| \u001b[0m 22      \u001b[0m | \u001b[0m-4.664e+0\u001b[0m | \u001b[0m 14.64   \u001b[0m | \u001b[0m 8.998   \u001b[0m | \u001b[0m 1.765   \u001b[0m | \u001b[0m 40.29   \u001b[0m | \u001b[0m 104.3   \u001b[0m |\n",
      "| \u001b[0m 23      \u001b[0m | \u001b[0m-4.822e+0\u001b[0m | \u001b[0m 20.81   \u001b[0m | \u001b[0m 5.604   \u001b[0m | \u001b[0m 4.554   \u001b[0m | \u001b[0m 37.19   \u001b[0m | \u001b[0m 106.7   \u001b[0m |\n",
      "| \u001b[0m 24      \u001b[0m | \u001b[0m-4.986e+0\u001b[0m | \u001b[0m 22.96   \u001b[0m | \u001b[0m 4.565   \u001b[0m | \u001b[0m 2.442   \u001b[0m | \u001b[0m 42.35   \u001b[0m | \u001b[0m 105.1   \u001b[0m |\n",
      "| \u001b[0m 25      \u001b[0m | \u001b[0m-4.772e+0\u001b[0m | \u001b[0m 24.78   \u001b[0m | \u001b[0m 6.677   \u001b[0m | \u001b[0m 6.843   \u001b[0m | \u001b[0m 38.15   \u001b[0m | \u001b[0m 107.3   \u001b[0m |\n",
      "| \u001b[0m 26      \u001b[0m | \u001b[0m-4.676e+0\u001b[0m | \u001b[0m 19.61   \u001b[0m | \u001b[0m 8.467   \u001b[0m | \u001b[0m 4.258   \u001b[0m | \u001b[0m 39.61   \u001b[0m | \u001b[0m 104.9   \u001b[0m |\n",
      "| \u001b[0m 27      \u001b[0m | \u001b[0m-4.709e+0\u001b[0m | \u001b[0m 18.27   \u001b[0m | \u001b[0m 7.889   \u001b[0m | \u001b[0m 2.842   \u001b[0m | \u001b[0m 39.46   \u001b[0m | \u001b[0m 102.8   \u001b[0m |\n",
      "| \u001b[0m 28      \u001b[0m | \u001b[0m-4.745e+0\u001b[0m | \u001b[0m 15.13   \u001b[0m | \u001b[0m 7.559   \u001b[0m | \u001b[0m 3.884   \u001b[0m | \u001b[0m 41.16   \u001b[0m | \u001b[0m 105.4   \u001b[0m |\n",
      "| \u001b[0m 29      \u001b[0m | \u001b[0m-4.776e+0\u001b[0m | \u001b[0m 20.2    \u001b[0m | \u001b[0m 7.886   \u001b[0m | \u001b[0m 8.491   \u001b[0m | \u001b[0m 38.2    \u001b[0m | \u001b[0m 108.4   \u001b[0m |\n",
      "| \u001b[0m 30      \u001b[0m | \u001b[0m-4.655e+0\u001b[0m | \u001b[0m 19.1    \u001b[0m | \u001b[0m 8.548   \u001b[0m | \u001b[0m 3.248   \u001b[0m | \u001b[0m 39.47   \u001b[0m | \u001b[0m 104.6   \u001b[0m |\n",
      "=====================================================================================\n"
     ]
    }
   ],
   "source": [
    "#随机森林贝叶斯调参\n",
    "from bayes_opt import BayesianOptimization\n",
    "from sklearn.model_selection import cross_val_score\n",
    "from sklearn.metrics import mean_absolute_error,  make_scorer\n",
    "\n",
    "rf = RandomForestRegressor()\n",
    "def rf_cv(n_estimators, max_depth, min_samples_split,max_features, min_samples_leaf):\n",
    "    val = cross_val_score(\n",
    "        RandomForestRegressor(\n",
    "            min_samples_leaf=int(min_samples_leaf),\n",
    "            min_samples_split=int(min_samples_split),\n",
    "            n_estimators=int(n_estimators),\n",
    "            max_depth=int(max_depth),\n",
    "            max_features=int(max_features)\n",
    "        ),\n",
    "        train_reg3_trainx, train_reg3_trainy, scoring=make_scorer(mean_absolute_error), cv=4,verbose=0\n",
    "    ).mean()\n",
    "    return 1-val\n",
    "rf_bo = BayesianOptimization(\n",
    "        rf_cv,\n",
    "        {'n_estimators': (60, 250),\n",
    "        'min_samples_leaf': (1, 80),\n",
    "        'min_samples_split': (20, 150),\n",
    "        'max_depth':(5, 30),\n",
    "        'max_features':(4,10)}\n",
    "    )\n",
    "\n",
    "rf_bo.maximize()"
   ]
  },
  {
   "cell_type": "code",
   "execution_count": 166,
   "metadata": {},
   "outputs": [],
   "source": [
    "forest = RandomForestRegressor(max_depth=23,n_estimators=105,min_samples_split=39,min_samples_leaf=4,max_features=8)\n",
    "model_for_pre=forest.fit(train_reg3_trainx, train_reg3_trainy)\n",
    "predict3=model_for_pre.predict(test_reg3_testx)"
   ]
  },
  {
   "cell_type": "code",
   "execution_count": 167,
   "metadata": {},
   "outputs": [
    {
     "data": {
      "text/plain": [
       "count      758.000000\n",
       "mean     43409.803129\n",
       "std       9884.868944\n",
       "min      32184.150489\n",
       "25%      36038.218050\n",
       "50%      40457.715690\n",
       "75%      47261.316632\n",
       "max      82118.284537\n",
       "dtype: float64"
      ]
     },
     "execution_count": 167,
     "metadata": {},
     "output_type": "execute_result"
    }
   ],
   "source": [
    "pd.Series(predict3).describe()"
   ]
  },
  {
   "cell_type": "code",
   "execution_count": 160,
   "metadata": {},
   "outputs": [
    {
     "name": "stdout",
     "output_type": "stream",
     "text": [
      "|   iter    |  target   | max_depth | max_fe... | min_sa... | min_sa... | n_esti... |\n",
      "-------------------------------------------------------------------------------------\n",
      "| \u001b[0m 1       \u001b[0m | \u001b[0m-685.6   \u001b[0m | \u001b[0m 18.1    \u001b[0m | \u001b[0m 6.067   \u001b[0m | \u001b[0m 36.29   \u001b[0m | \u001b[0m 107.6   \u001b[0m | \u001b[0m 106.5   \u001b[0m |\n",
      "| \u001b[0m 2       \u001b[0m | \u001b[0m-691.2   \u001b[0m | \u001b[0m 27.17   \u001b[0m | \u001b[0m 6.506   \u001b[0m | \u001b[0m 50.37   \u001b[0m | \u001b[0m 73.66   \u001b[0m | \u001b[0m 126.7   \u001b[0m |\n",
      "| \u001b[0m 3       \u001b[0m | \u001b[0m-712.2   \u001b[0m | \u001b[0m 10.82   \u001b[0m | \u001b[0m 8.656   \u001b[0m | \u001b[0m 54.51   \u001b[0m | \u001b[0m 47.42   \u001b[0m | \u001b[0m 234.2   \u001b[0m |\n",
      "| \u001b[0m 4       \u001b[0m | \u001b[0m-686.6   \u001b[0m | \u001b[0m 25.41   \u001b[0m | \u001b[0m 5.318   \u001b[0m | \u001b[0m 38.36   \u001b[0m | \u001b[0m 57.99   \u001b[0m | \u001b[0m 79.37   \u001b[0m |\n",
      "| \u001b[0m 5       \u001b[0m | \u001b[0m-688.4   \u001b[0m | \u001b[0m 13.55   \u001b[0m | \u001b[0m 4.224   \u001b[0m | \u001b[0m 7.596   \u001b[0m | \u001b[0m 75.14   \u001b[0m | \u001b[0m 65.03   \u001b[0m |\n",
      "| \u001b[95m 6       \u001b[0m | \u001b[95m-674.2   \u001b[0m | \u001b[95m 16.01   \u001b[0m | \u001b[95m 8.152   \u001b[0m | \u001b[95m 38.73   \u001b[0m | \u001b[95m 107.1   \u001b[0m | \u001b[95m 102.1   \u001b[0m |\n",
      "| \u001b[0m 7       \u001b[0m | \u001b[0m-682.4   \u001b[0m | \u001b[0m 13.63   \u001b[0m | \u001b[0m 7.944   \u001b[0m | \u001b[0m 35.91   \u001b[0m | \u001b[0m 106.3   \u001b[0m | \u001b[0m 95.87   \u001b[0m |\n",
      "| \u001b[0m 8       \u001b[0m | \u001b[0m-680.4   \u001b[0m | \u001b[0m 14.08   \u001b[0m | \u001b[0m 7.421   \u001b[0m | \u001b[0m 40.08   \u001b[0m | \u001b[0m 102.3   \u001b[0m | \u001b[0m 99.99   \u001b[0m |\n",
      "| \u001b[95m 9       \u001b[0m | \u001b[95m-673.8   \u001b[0m | \u001b[95m 15.56   \u001b[0m | \u001b[95m 8.296   \u001b[0m | \u001b[95m 38.96   \u001b[0m | \u001b[95m 106.7   \u001b[0m | \u001b[95m 101.3   \u001b[0m |\n",
      "| \u001b[0m 10      \u001b[0m | \u001b[0m-701.2   \u001b[0m | \u001b[0m 16.42   \u001b[0m | \u001b[0m 5.611   \u001b[0m | \u001b[0m 40.08   \u001b[0m | \u001b[0m 112.0   \u001b[0m | \u001b[0m 103.2   \u001b[0m |\n",
      "| \u001b[95m 11      \u001b[0m | \u001b[95m-672.1   \u001b[0m | \u001b[95m 19.48   \u001b[0m | \u001b[95m 9.815   \u001b[0m | \u001b[95m 40.46   \u001b[0m | \u001b[95m 107.5   \u001b[0m | \u001b[95m 101.3   \u001b[0m |\n",
      "| \u001b[0m 12      \u001b[0m | \u001b[0m-686.4   \u001b[0m | \u001b[0m 13.4    \u001b[0m | \u001b[0m 7.026   \u001b[0m | \u001b[0m 42.7    \u001b[0m | \u001b[0m 106.6   \u001b[0m | \u001b[0m 98.39   \u001b[0m |\n",
      "| \u001b[0m 13      \u001b[0m | \u001b[0m-681.1   \u001b[0m | \u001b[0m 19.95   \u001b[0m | \u001b[0m 7.473   \u001b[0m | \u001b[0m 40.28   \u001b[0m | \u001b[0m 108.2   \u001b[0m | \u001b[0m 102.7   \u001b[0m |\n",
      "| \u001b[95m 14      \u001b[0m | \u001b[95m-668.4   \u001b[0m | \u001b[95m 16.41   \u001b[0m | \u001b[95m 9.962   \u001b[0m | \u001b[95m 38.73   \u001b[0m | \u001b[95m 104.5   \u001b[0m | \u001b[95m 102.4   \u001b[0m |\n",
      "| \u001b[95m 15      \u001b[0m | \u001b[95m-666.8   \u001b[0m | \u001b[95m 20.15   \u001b[0m | \u001b[95m 9.973   \u001b[0m | \u001b[95m 35.91   \u001b[0m | \u001b[95m 104.2   \u001b[0m | \u001b[95m 99.82   \u001b[0m |\n",
      "| \u001b[95m 16      \u001b[0m | \u001b[95m-664.3   \u001b[0m | \u001b[95m 18.86   \u001b[0m | \u001b[95m 10.0    \u001b[0m | \u001b[95m 37.43   \u001b[0m | \u001b[95m 104.8   \u001b[0m | \u001b[95m 100.8   \u001b[0m |\n",
      "| \u001b[0m 17      \u001b[0m | \u001b[0m-668.9   \u001b[0m | \u001b[0m 17.71   \u001b[0m | \u001b[0m 9.519   \u001b[0m | \u001b[0m 39.47   \u001b[0m | \u001b[0m 105.9   \u001b[0m | \u001b[0m 95.75   \u001b[0m |\n",
      "| \u001b[0m 18      \u001b[0m | \u001b[0m-668.9   \u001b[0m | \u001b[0m 22.21   \u001b[0m | \u001b[0m 8.212   \u001b[0m | \u001b[0m 32.97   \u001b[0m | \u001b[0m 104.4   \u001b[0m | \u001b[0m 98.7    \u001b[0m |\n",
      "| \u001b[0m 19      \u001b[0m | \u001b[0m-669.8   \u001b[0m | \u001b[0m 21.18   \u001b[0m | \u001b[0m 8.165   \u001b[0m | \u001b[0m 30.72   \u001b[0m | \u001b[0m 107.7   \u001b[0m | \u001b[0m 100.8   \u001b[0m |\n",
      "| \u001b[0m 20      \u001b[0m | \u001b[0m-670.7   \u001b[0m | \u001b[0m 19.42   \u001b[0m | \u001b[0m 7.938   \u001b[0m | \u001b[0m 28.15   \u001b[0m | \u001b[0m 101.0   \u001b[0m | \u001b[0m 98.95   \u001b[0m |\n",
      "| \u001b[0m 21      \u001b[0m | \u001b[0m-705.3   \u001b[0m | \u001b[0m 20.88   \u001b[0m | \u001b[0m 4.787   \u001b[0m | \u001b[0m 27.36   \u001b[0m | \u001b[0m 104.3   \u001b[0m | \u001b[0m 101.8   \u001b[0m |\n",
      "| \u001b[0m 22      \u001b[0m | \u001b[0m-673.5   \u001b[0m | \u001b[0m 23.12   \u001b[0m | \u001b[0m 8.369   \u001b[0m | \u001b[0m 38.2    \u001b[0m | \u001b[0m 103.8   \u001b[0m | \u001b[0m 98.54   \u001b[0m |\n",
      "| \u001b[0m 23      \u001b[0m | \u001b[0m-670.9   \u001b[0m | \u001b[0m 19.15   \u001b[0m | \u001b[0m 7.512   \u001b[0m | \u001b[0m 29.54   \u001b[0m | \u001b[0m 100.6   \u001b[0m | \u001b[0m 101.4   \u001b[0m |\n",
      "| \u001b[0m 24      \u001b[0m | \u001b[0m-681.6   \u001b[0m | \u001b[0m 21.16   \u001b[0m | \u001b[0m 6.259   \u001b[0m | \u001b[0m 34.49   \u001b[0m | \u001b[0m 100.3   \u001b[0m | \u001b[0m 98.22   \u001b[0m |\n",
      "| \u001b[0m 25      \u001b[0m | \u001b[0m-667.3   \u001b[0m | \u001b[0m 18.94   \u001b[0m | \u001b[0m 9.392   \u001b[0m | \u001b[0m 34.17   \u001b[0m | \u001b[0m 108.6   \u001b[0m | \u001b[0m 99.24   \u001b[0m |\n",
      "| \u001b[0m 26      \u001b[0m | \u001b[0m-673.0   \u001b[0m | \u001b[0m 18.79   \u001b[0m | \u001b[0m 8.987   \u001b[0m | \u001b[0m 40.88   \u001b[0m | \u001b[0m 104.6   \u001b[0m | \u001b[0m 97.64   \u001b[0m |\n",
      "| \u001b[0m 27      \u001b[0m | \u001b[0m-678.5   \u001b[0m | \u001b[0m 21.04   \u001b[0m | \u001b[0m 6.469   \u001b[0m | \u001b[0m 30.97   \u001b[0m | \u001b[0m 101.0   \u001b[0m | \u001b[0m 100.6   \u001b[0m |\n",
      "| \u001b[0m 28      \u001b[0m | \u001b[0m-668.5   \u001b[0m | \u001b[0m 18.87   \u001b[0m | \u001b[0m 9.868   \u001b[0m | \u001b[0m 37.11   \u001b[0m | \u001b[0m 105.5   \u001b[0m | \u001b[0m 100.1   \u001b[0m |\n",
      "| \u001b[0m 29      \u001b[0m | \u001b[0m-667.0   \u001b[0m | \u001b[0m 20.62   \u001b[0m | \u001b[0m 9.64    \u001b[0m | \u001b[0m 31.15   \u001b[0m | \u001b[0m 111.0   \u001b[0m | \u001b[0m 101.2   \u001b[0m |\n",
      "| \u001b[95m 30      \u001b[0m | \u001b[95m-660.5   \u001b[0m | \u001b[95m 21.4    \u001b[0m | \u001b[95m 9.028   \u001b[0m | \u001b[95m 27.48   \u001b[0m | \u001b[95m 98.97   \u001b[0m | \u001b[95m 102.9   \u001b[0m |\n",
      "=====================================================================================\n"
     ]
    }
   ],
   "source": [
    "#随机森林贝叶斯调参\n",
    "from bayes_opt import BayesianOptimization\n",
    "from sklearn.model_selection import cross_val_score\n",
    "from sklearn.metrics import mean_absolute_error,  make_scorer\n",
    "\n",
    "rf = RandomForestRegressor()\n",
    "def rf_cv(n_estimators, max_depth, min_samples_split,max_features, min_samples_leaf):\n",
    "    val = cross_val_score(\n",
    "        RandomForestRegressor(\n",
    "            min_samples_leaf=int(min_samples_leaf),\n",
    "            min_samples_split=int(min_samples_split),\n",
    "            n_estimators=int(n_estimators),\n",
    "            max_depth=int(max_depth),\n",
    "            max_features=int(max_features)\n",
    "        ),\n",
    "        train_reg4_trainx, train_reg4_trainy, scoring=make_scorer(mean_absolute_error), cv=4,verbose=0\n",
    "    ).mean()\n",
    "    return 1-val\n",
    "rf_bo = BayesianOptimization(\n",
    "        rf_cv,\n",
    "        {'n_estimators': (60, 250),\n",
    "        'min_samples_leaf': (1, 80),\n",
    "        'min_samples_split': (20, 150),\n",
    "        'max_depth':(5, 30),\n",
    "        'max_features':(4,10)}\n",
    "    )\n",
    "\n",
    "rf_bo.maximize()"
   ]
  },
  {
   "cell_type": "code",
   "execution_count": 168,
   "metadata": {},
   "outputs": [],
   "source": [
    "forest = RandomForestRegressor(max_depth=21,n_estimators=102,min_samples_split=99,min_samples_leaf=27,max_features=9)\n",
    "model_for_pre1=forest.fit(train_reg4_trainx, train_reg4_trainy)\n",
    "predict4=model_for_pre1.predict(test_reg4_testx)"
   ]
  },
  {
   "cell_type": "code",
   "execution_count": 169,
   "metadata": {},
   "outputs": [],
   "source": [
    "df3=pd.DataFrame()\n",
    "df3['SaleID']=t3.SaleID\n",
    "df3['price']=predict3\n",
    "\n",
    "df4=pd.DataFrame()\n",
    "df4['SaleID']=t4.SaleID\n",
    "df4['price']=predict4\n",
    "\n",
    "df_sum2=pd.concat([df3,df4],axis=0)\n",
    "df_sum2=df_sum2.sort_values(by='SaleID')"
   ]
  },
  {
   "cell_type": "code",
   "execution_count": 170,
   "metadata": {},
   "outputs": [
    {
     "data": {
      "text/plain": [
       "count    50000.000000\n",
       "mean      5928.509809\n",
       "std       7263.241944\n",
       "min         56.472039\n",
       "25%       1417.168419\n",
       "50%       3322.778773\n",
       "75%       7791.026531\n",
       "max      82118.284537\n",
       "Name: price, dtype: float64"
      ]
     },
     "execution_count": 170,
     "metadata": {},
     "output_type": "execute_result"
    }
   ],
   "source": [
    "df_sum2['price']=df_sum2['price'].apply(lambda x:10 if x<10 else x)\n",
    "df_sum2['price'].describe()"
   ]
  },
  {
   "cell_type": "code",
   "execution_count": 180,
   "metadata": {},
   "outputs": [
    {
     "data": {
      "text/plain": [
       "<matplotlib.axes._subplots.AxesSubplot at 0x2363e410>"
      ]
     },
     "execution_count": 180,
     "metadata": {},
     "output_type": "execute_result"
    },
    {
     "data": {
      "image/png": "[encoded data removed]",
      "text/plain": [
       "<Figure size 432x288 with 1 Axes>"
      ]
     },
     "metadata": {
      "needs_background": "light"
     },
     "output_type": "display_data"
    }
   ],
   "source": [
    "df_sum1[df_sum1['price']<30000]['price'].plot.hist()\n",
    "df_sum2[df_sum2['price']<30000]['price'].plot.hist()"
   ]
  },
  {
   "cell_type": "code",
   "execution_count": null,
   "metadata": {},
   "outputs": [],
   "source": []
  },
  {
   "cell_type": "code",
   "execution_count": 182,
   "metadata": {},
   "outputs": [],
   "source": [
    "from sklearn import metrics "
   ]
  },
  {
   "cell_type": "code",
   "execution_count": 183,
   "metadata": {},
   "outputs": [],
   "source": [
    "## 简单的随机森林和xgb的线性staaking\n",
    "\n",
    "#定义stacking简单线性融合的函数\n",
    "from sklearn import linear_model\n",
    "def Stacking_method(train_pre1,train_pre2,y_train_true,test_pre1,test_pre2,model_L2= linear_model.LinearRegression()):\n",
    "    model_L2.fit(pd.concat([pd.Series(train_pre1),pd.Series(train_pre2)],axis=1).values,y_train_true)\n",
    "    Stacking_result = model_L2.predict(pd.concat([pd.Series(test_pre1),pd.Series(test_pre2)],axis=1).values)\n",
    "    return Stacking_result\n",
    "\n",
    "TrainX1=model_xgb_pre.predict(train_reg1_trainx) #大于30000的训练集x的预测值，用于xgb模型\n",
    "TrainX2=model_xgb_pre1.predict(train_reg2_trainx) #小于等于30000的训练集x的预测值，用于xgb模型\n",
    "TrainX3=model_for_pre.predict(train_reg3_trainx) #大于30000的训练集x的预测值，用于随机森林模型\n",
    "TrainX4=model_for_pre1.predict(train_reg4_trainx) #小于等于30000的训练集x的预测值，用于随机森林模型\n",
    "\n",
    "TrainY13=train_reg1_trainy                        #train_reg1_trainy=train_reg3_trainy，都是真实的训练集大于30000的数据\n",
    "TrainY24=train_reg2_trainy                        #train_reg2_trainy=train_reg4_trainy，都是真实的训练集小于等于30000的数据\n",
    "\n",
    "#predict1 2 3 4为先前两个模型测试集的预测值\n",
    "model_L2= linear_model.LinearRegression()\n",
    "Test_Y_big = Stacking_method(TrainX1,TrainX3,TrainY13,predict1,predict3,model_L2)    #最后大于30000的数据模型融合的结果\n",
    "Test_Y_small = Stacking_method(TrainX2,TrainX4,TrainY24,predict2,predict4,model_L2)  #最后小于等于30000的数据模型融合的结果\n"
   ]
  },
  {
   "cell_type": "code",
   "execution_count": 184,
   "metadata": {},
   "outputs": [],
   "source": [
    "t5=t3.copy()\n",
    "df5=pd.DataFrame()\n",
    "df5['SaleID']=t5.SaleID\n",
    "df5['price']=Test_Y_big\n",
    "\n",
    "t6=t4.copy()\n",
    "df6=pd.DataFrame()\n",
    "df6['SaleID']=t6.SaleID\n",
    "df6['price']=Test_Y_small\n",
    "\n",
    "df_sum_12=pd.concat([df5,df6],axis=0)\n",
    "df_sum_12=df_sum_12.sort_values(by='SaleID')"
   ]
  },
  {
   "cell_type": "code",
   "execution_count": 197,
   "metadata": {},
   "outputs": [
    {
     "data": {
      "text/plain": [
       "<matplotlib.axes._subplots.AxesSubplot at 0x40dbbc50>"
      ]
     },
     "execution_count": 197,
     "metadata": {},
     "output_type": "execute_result"
    },
    {
     "data": {
      "image/png": "[encoded data removed]",
      "text/plain": [
       "<Figure size 432x288 with 1 Axes>"
      ]
     },
     "metadata": {
      "needs_background": "light"
     },
     "output_type": "display_data"
    }
   ],
   "source": [
    "df_sum_12['price']=df_sum_12['price'].apply(lambda x:12 if x< 12 else x)\n",
    "\n",
    "Train_data[Train_data['price']<30000]['price'].plot.hist()\n",
    "df_sum_12[df_sum_12['price']<30000]['price'].plot.hist()"
   ]
  },
  {
   "cell_type": "code",
   "execution_count": 196,
   "metadata": {},
   "outputs": [
    {
     "data": {
      "text/plain": [
       "count     50000.000000\n",
       "mean       5967.064644\n",
       "std        7686.363312\n",
       "min          12.000000\n",
       "25%        1366.138502\n",
       "50%        3267.470471\n",
       "75%        7684.872427\n",
       "max      100450.793273\n",
       "Name: price, dtype: float64"
      ]
     },
     "execution_count": 196,
     "metadata": {},
     "output_type": "execute_result"
    }
   ],
   "source": [
    "df_sum_12['price'].describe()"
   ]
  },
  {
   "cell_type": "code",
   "execution_count": 198,
   "metadata": {},
   "outputs": [],
   "source": [
    "df_sum_12.to_csv('G:/sub_Weighted.csv',index=False)"
   ]
  },
  {
   "cell_type": "code",
   "execution_count": null,
   "metadata": {},
   "outputs": [],
   "source": []
  },
  {
   "cell_type": "code",
   "execution_count": null,
   "metadata": {},
   "outputs": [],
   "source": [
    "traindatacopy=Train_data.copy()\n",
    "testdatacopy=Test_data.copy()"
   ]
  },
  {
   "cell_type": "code",
   "execution_count": 203,
   "metadata": {},
   "outputs": [
    {
     "data": {
      "text/plain": [
       "count    149998.000000\n",
       "mean       4541.098381\n",
       "std        1968.089574\n",
       "min          92.000000\n",
       "25%        3053.000000\n",
       "50%        4566.000000\n",
       "75%        6024.000000\n",
       "max        9247.000000\n",
       "Name: usetime, dtype: float64"
      ]
     },
     "execution_count": 203,
     "metadata": {},
     "output_type": "execute_result"
    }
   ],
   "source": [
    "Train_data['usetime'].describe()"
   ]
  },
  {
   "cell_type": "code",
   "execution_count": 204,
   "metadata": {},
   "outputs": [
    {
     "data": {
      "text/html": [
       "<div>\n",
       "<style scoped>\n",
       "    .dataframe tbody tr th:only-of-type {\n",
       "        vertical-align: middle;\n",
       "    }\n",
       "\n",
       "    .dataframe tbody tr th {\n",
       "        vertical-align: top;\n",
       "    }\n",
       "\n",
       "    .dataframe thead th {\n",
       "        text-align: right;\n",
       "    }\n",
       "</style>\n",
       "<table border=\"1\" class=\"dataframe\">\n",
       "  <thead>\n",
       "    <tr style=\"text-align: right;\">\n",
       "      <th></th>\n",
       "      <th>usetime_bin</th>\n",
       "      <th>usetime</th>\n",
       "    </tr>\n",
       "  </thead>\n",
       "  <tbody>\n",
       "    <tr>\n",
       "      <th>0</th>\n",
       "      <td>4</td>\n",
       "      <td>1572</td>\n",
       "    </tr>\n",
       "    <tr>\n",
       "      <th>1</th>\n",
       "      <td>17</td>\n",
       "      <td>6258</td>\n",
       "    </tr>\n",
       "    <tr>\n",
       "      <th>2</th>\n",
       "      <td>7</td>\n",
       "      <td>2559</td>\n",
       "    </tr>\n",
       "    <tr>\n",
       "      <th>3</th>\n",
       "      <td>5</td>\n",
       "      <td>2180</td>\n",
       "    </tr>\n",
       "    <tr>\n",
       "      <th>4</th>\n",
       "      <td>18</td>\n",
       "      <td>6821</td>\n",
       "    </tr>\n",
       "  </tbody>\n",
       "</table>\n",
       "</div>"
      ],
      "text/plain": [
       "  usetime_bin  usetime\n",
       "0           4     1572\n",
       "1          17     6258\n",
       "2           7     2559\n",
       "3           5     2180\n",
       "4          18     6821"
      ]
     },
     "execution_count": 204,
     "metadata": {},
     "output_type": "execute_result"
    }
   ],
   "source": [
    "bin = [i*365 for i in range(27)]\n",
    "\n",
    "#数据分桶\n",
    "Train_data['usetime_bin'] = pd.cut(Train_data['usetime'], bin, labels=[i for i in range(26)]) #用数字代表两者之间的区间\n",
    "\n",
    "Test_data['usetime_bin'] = pd.cut(Test_data['usetime'], bin, labels=[i for i in range(26)]) #用数字代表两者之间的区间\n",
    "Test_data[['usetime_bin', 'usetime']].head()"
   ]
  },
  {
   "cell_type": "code",
   "execution_count": 205,
   "metadata": {},
   "outputs": [
    {
     "data": {
      "text/html": [
       "<div>\n",
       "<style scoped>\n",
       "    .dataframe tbody tr th:only-of-type {\n",
       "        vertical-align: middle;\n",
       "    }\n",
       "\n",
       "    .dataframe tbody tr th {\n",
       "        vertical-align: top;\n",
       "    }\n",
       "\n",
       "    .dataframe thead th {\n",
       "        text-align: right;\n",
       "    }\n",
       "</style>\n",
       "<table border=\"1\" class=\"dataframe\">\n",
       "  <thead>\n",
       "    <tr style=\"text-align: right;\">\n",
       "      <th></th>\n",
       "      <th>model</th>\n",
       "      <th>brand</th>\n",
       "      <th>bodyType</th>\n",
       "      <th>fuelType</th>\n",
       "      <th>gearbox</th>\n",
       "      <th>power</th>\n",
       "      <th>kilometer</th>\n",
       "      <th>notRepairedDamage</th>\n",
       "      <th>v_0</th>\n",
       "      <th>v_1</th>\n",
       "      <th>...</th>\n",
       "      <th>brand_price_average</th>\n",
       "      <th>power_bin</th>\n",
       "      <th>usetime_bin</th>\n",
       "      <th>usetime_amount</th>\n",
       "      <th>usetime_price_max</th>\n",
       "      <th>usetime_price_median</th>\n",
       "      <th>usetime_price_min</th>\n",
       "      <th>usetime_price_sum</th>\n",
       "      <th>usetime_price_std</th>\n",
       "      <th>usetime_price_average</th>\n",
       "    </tr>\n",
       "  </thead>\n",
       "  <tbody>\n",
       "    <tr>\n",
       "      <th>0</th>\n",
       "      <td>222.0</td>\n",
       "      <td>4</td>\n",
       "      <td>5.0</td>\n",
       "      <td>1.0</td>\n",
       "      <td>1.0</td>\n",
       "      <td>313</td>\n",
       "      <td>15.0</td>\n",
       "      <td>0.0</td>\n",
       "      <td>49.59375</td>\n",
       "      <td>5.246094</td>\n",
       "      <td>...</td>\n",
       "      <td>8536.0</td>\n",
       "      <td>13</td>\n",
       "      <td>4</td>\n",
       "      <td>5353.0</td>\n",
       "      <td>88997.0</td>\n",
       "      <td>13000.0</td>\n",
       "      <td>40.0</td>\n",
       "      <td>80285447.0</td>\n",
       "      <td>9004.341773</td>\n",
       "      <td>14995.41</td>\n",
       "    </tr>\n",
       "    <tr>\n",
       "      <th>1</th>\n",
       "      <td>19.0</td>\n",
       "      <td>21</td>\n",
       "      <td>0.0</td>\n",
       "      <td>0.0</td>\n",
       "      <td>0.0</td>\n",
       "      <td>75</td>\n",
       "      <td>12.5</td>\n",
       "      <td>1.0</td>\n",
       "      <td>42.40625</td>\n",
       "      <td>-3.253906</td>\n",
       "      <td>...</td>\n",
       "      <td>5720.0</td>\n",
       "      <td>4</td>\n",
       "      <td>17</td>\n",
       "      <td>8567.0</td>\n",
       "      <td>34996.0</td>\n",
       "      <td>1150.0</td>\n",
       "      <td>40.0</td>\n",
       "      <td>14039162.0</td>\n",
       "      <td>2044.831470</td>\n",
       "      <td>1638.56</td>\n",
       "    </tr>\n",
       "    <tr>\n",
       "      <th>2</th>\n",
       "      <td>82.0</td>\n",
       "      <td>21</td>\n",
       "      <td>0.0</td>\n",
       "      <td>0.0</td>\n",
       "      <td>0.0</td>\n",
       "      <td>109</td>\n",
       "      <td>7.0</td>\n",
       "      <td>0.0</td>\n",
       "      <td>45.84375</td>\n",
       "      <td>4.703125</td>\n",
       "      <td>...</td>\n",
       "      <td>5720.0</td>\n",
       "      <td>6</td>\n",
       "      <td>7</td>\n",
       "      <td>7361.0</td>\n",
       "      <td>92900.0</td>\n",
       "      <td>7995.0</td>\n",
       "      <td>14.0</td>\n",
       "      <td>70258450.0</td>\n",
       "      <td>6634.305369</td>\n",
       "      <td>9543.39</td>\n",
       "    </tr>\n",
       "    <tr>\n",
       "      <th>3</th>\n",
       "      <td>0.0</td>\n",
       "      <td>0</td>\n",
       "      <td>0.0</td>\n",
       "      <td>0.0</td>\n",
       "      <td>1.0</td>\n",
       "      <td>160</td>\n",
       "      <td>7.0</td>\n",
       "      <td>0.0</td>\n",
       "      <td>46.43750</td>\n",
       "      <td>4.320312</td>\n",
       "      <td>...</td>\n",
       "      <td>5536.0</td>\n",
       "      <td>9</td>\n",
       "      <td>5</td>\n",
       "      <td>5780.0</td>\n",
       "      <td>98000.0</td>\n",
       "      <td>11400.0</td>\n",
       "      <td>30.0</td>\n",
       "      <td>75729513.0</td>\n",
       "      <td>8380.252343</td>\n",
       "      <td>13099.73</td>\n",
       "    </tr>\n",
       "    <tr>\n",
       "      <th>4</th>\n",
       "      <td>26.0</td>\n",
       "      <td>14</td>\n",
       "      <td>2.0</td>\n",
       "      <td>0.0</td>\n",
       "      <td>0.0</td>\n",
       "      <td>75</td>\n",
       "      <td>15.0</td>\n",
       "      <td>0.0</td>\n",
       "      <td>42.18750</td>\n",
       "      <td>-3.166016</td>\n",
       "      <td>...</td>\n",
       "      <td>3052.0</td>\n",
       "      <td>4</td>\n",
       "      <td>18</td>\n",
       "      <td>6913.0</td>\n",
       "      <td>72900.0</td>\n",
       "      <td>980.0</td>\n",
       "      <td>13.0</td>\n",
       "      <td>10284895.0</td>\n",
       "      <td>2534.760028</td>\n",
       "      <td>1487.55</td>\n",
       "    </tr>\n",
       "  </tbody>\n",
       "</table>\n",
       "<p>5 rows × 42 columns</p>\n",
       "</div>"
      ],
      "text/plain": [
       "   model  brand  bodyType  fuelType  gearbox  power  kilometer  \\\n",
       "0  222.0      4       5.0       1.0      1.0    313       15.0   \n",
       "1   19.0     21       0.0       0.0      0.0     75       12.5   \n",
       "2   82.0     21       0.0       0.0      0.0    109        7.0   \n",
       "3    0.0      0       0.0       0.0      1.0    160        7.0   \n",
       "4   26.0     14       2.0       0.0      0.0     75       15.0   \n",
       "\n",
       "   notRepairedDamage       v_0       v_1  ...  brand_price_average  power_bin  \\\n",
       "0                0.0  49.59375  5.246094  ...               8536.0         13   \n",
       "1                1.0  42.40625 -3.253906  ...               5720.0          4   \n",
       "2                0.0  45.84375  4.703125  ...               5720.0          6   \n",
       "3                0.0  46.43750  4.320312  ...               5536.0          9   \n",
       "4                0.0  42.18750 -3.166016  ...               3052.0          4   \n",
       "\n",
       "   usetime_bin  usetime_amount  usetime_price_max  usetime_price_median  \\\n",
       "0            4          5353.0            88997.0               13000.0   \n",
       "1           17          8567.0            34996.0                1150.0   \n",
       "2            7          7361.0            92900.0                7995.0   \n",
       "3            5          5780.0            98000.0               11400.0   \n",
       "4           18          6913.0            72900.0                 980.0   \n",
       "\n",
       "   usetime_price_min  usetime_price_sum  usetime_price_std  \\\n",
       "0               40.0         80285447.0        9004.341773   \n",
       "1               40.0         14039162.0        2044.831470   \n",
       "2               14.0         70258450.0        6634.305369   \n",
       "3               30.0         75729513.0        8380.252343   \n",
       "4               13.0         10284895.0        2534.760028   \n",
       "\n",
       "   usetime_price_average  \n",
       "0               14995.41  \n",
       "1                1638.56  \n",
       "2                9543.39  \n",
       "3               13099.73  \n",
       "4                1487.55  \n",
       "\n",
       "[5 rows x 42 columns]"
      ]
     },
     "execution_count": 205,
     "metadata": {},
     "output_type": "execute_result"
    }
   ],
   "source": [
    "# 这里要以 train 的数据计算统计量\n",
    "Train_gb = Train_data.groupby(\"usetime_bin\")\n",
    "all_info = {}\n",
    "for kind, kind_data in Train_gb:\n",
    "    info = {}\n",
    "    kind_data = kind_data[kind_data['price'] > 0]\n",
    "    info['usetime_amount'] = len(kind_data)\n",
    "    info['usetime_price_max'] = kind_data.price.max()\n",
    "    info['usetime_price_median'] = kind_data.price.median()\n",
    "    info['usetime_price_min'] = kind_data.price.min()\n",
    "    info['usetime_price_sum'] = kind_data.price.sum()\n",
    "    info['usetime_price_std'] = kind_data.price.std()\n",
    "    info['usetime_price_average'] = round(kind_data.price.sum() / (len(kind_data) + 1), 2)\n",
    "    all_info[kind] = info\n",
    "#print(all_info)\n",
    "#brand_fe = pd.DataFrame(all_info).T.reset_index().rename(columns={\"index\": \"brand\"})    #逐步分解看怎么操作的\n",
    "#print(brand_fe)\n",
    "usetime_fe = pd.DataFrame(all_info).T.reset_index().rename(columns={\"index\": \"usetime_bin\"})\n",
    "Train_data = Train_data.merge(usetime_fe, how='left', on='usetime_bin')\n",
    "Test_data = Test_data.merge(usetime_fe, how='left', on='usetime_bin')\n",
    "Test_data.head()"
   ]
  },
  {
   "cell_type": "code",
   "execution_count": 208,
   "metadata": {},
   "outputs": [],
   "source": [
    "continuous_feature_names = [x for x in Train_data.columns if x not in 'price']\n",
    "train_x = Train_data[continuous_feature_names]   #训练集x值\n",
    "\n",
    "train_y =Train_data['price']       #训练集y值\n",
    "\n",
    "continuous_feature_names = [x for x in Test_data.columns]\n",
    "\n",
    "test_x = Test_data[continuous_feature_names]   #测试集x值"
   ]
  },
  {
   "cell_type": "code",
   "execution_count": 209,
   "metadata": {},
   "outputs": [
    {
     "name": "stdout",
     "output_type": "stream",
     "text": [
      "|   iter    |  target   | learni... | max_depth | n_esti... | subsample |\n",
      "-------------------------------------------------------------------------\n",
      "| \u001b[0m 1       \u001b[0m | \u001b[0m-562.0   \u001b[0m | \u001b[0m 0.1033  \u001b[0m | \u001b[0m 10.54   \u001b[0m | \u001b[0m 168.2   \u001b[0m | \u001b[0m 0.4954  \u001b[0m |\n",
      "| \u001b[0m 2       \u001b[0m | \u001b[0m-668.6   \u001b[0m | \u001b[0m 0.1139  \u001b[0m | \u001b[0m 7.884   \u001b[0m | \u001b[0m 190.7   \u001b[0m | \u001b[0m 0.2217  \u001b[0m |\n",
      "| \u001b[95m 3       \u001b[0m | \u001b[95m-559.1   \u001b[0m | \u001b[95m 0.07325 \u001b[0m | \u001b[95m 10.97   \u001b[0m | \u001b[95m 157.8   \u001b[0m | \u001b[95m 0.6346  \u001b[0m |\n",
      "| \u001b[95m 4       \u001b[0m | \u001b[95m-540.0   \u001b[0m | \u001b[95m 0.0653  \u001b[0m | \u001b[95m 13.15   \u001b[0m | \u001b[95m 195.9   \u001b[0m | \u001b[95m 0.6384  \u001b[0m |\n",
      "| \u001b[0m 5       \u001b[0m | \u001b[0m-562.6   \u001b[0m | \u001b[0m 0.1184  \u001b[0m | \u001b[0m 16.45   \u001b[0m | \u001b[0m 182.5   \u001b[0m | \u001b[0m 0.4799  \u001b[0m |\n",
      "| \u001b[0m 6       \u001b[0m | \u001b[0m-545.5   \u001b[0m | \u001b[0m 0.09155 \u001b[0m | \u001b[0m 15.77   \u001b[0m | \u001b[0m 194.9   \u001b[0m | \u001b[0m 0.6842  \u001b[0m |\n",
      "| \u001b[0m 7       \u001b[0m | \u001b[0m-555.2   \u001b[0m | \u001b[0m 0.1257  \u001b[0m | \u001b[0m 14.23   \u001b[0m | \u001b[0m 195.7   \u001b[0m | \u001b[0m 0.7136  \u001b[0m |\n",
      "| \u001b[0m 8       \u001b[0m | \u001b[0m-540.4   \u001b[0m | \u001b[0m 0.05    \u001b[0m | \u001b[0m 13.09   \u001b[0m | \u001b[0m 195.9   \u001b[0m | \u001b[0m 0.6184  \u001b[0m |\n",
      "| \u001b[95m 9       \u001b[0m | \u001b[95m-538.7   \u001b[0m | \u001b[95m 0.05    \u001b[0m | \u001b[95m 13.17   \u001b[0m | \u001b[95m 196.0   \u001b[0m | \u001b[95m 0.6899  \u001b[0m |\n",
      "| \u001b[0m 10      \u001b[0m | \u001b[0m-539.4   \u001b[0m | \u001b[0m 0.05    \u001b[0m | \u001b[0m 13.09   \u001b[0m | \u001b[0m 196.0   \u001b[0m | \u001b[0m 0.7808  \u001b[0m |\n",
      "| \u001b[0m 11      \u001b[0m | \u001b[0m-549.7   \u001b[0m | \u001b[0m 0.1124  \u001b[0m | \u001b[0m 13.07   \u001b[0m | \u001b[0m 196.1   \u001b[0m | \u001b[0m 0.6717  \u001b[0m |\n",
      "| \u001b[0m 12      \u001b[0m | \u001b[0m-542.5   \u001b[0m | \u001b[0m 0.0902  \u001b[0m | \u001b[0m 13.2    \u001b[0m | \u001b[0m 195.9   \u001b[0m | \u001b[0m 0.8101  \u001b[0m |\n",
      "| \u001b[95m 13      \u001b[0m | \u001b[95m-538.0   \u001b[0m | \u001b[95m 0.05777 \u001b[0m | \u001b[95m 13.02   \u001b[0m | \u001b[95m 195.9   \u001b[0m | \u001b[95m 0.7441  \u001b[0m |\n",
      "| \u001b[0m 14      \u001b[0m | \u001b[0m-600.1   \u001b[0m | \u001b[0m 0.09498 \u001b[0m | \u001b[0m 8.461   \u001b[0m | \u001b[0m 129.6   \u001b[0m | \u001b[0m 0.5739  \u001b[0m |\n",
      "| \u001b[0m 15      \u001b[0m | \u001b[0m-544.5   \u001b[0m | \u001b[0m 0.05131 \u001b[0m | \u001b[0m 13.1    \u001b[0m | \u001b[0m 195.8   \u001b[0m | \u001b[0m 0.522   \u001b[0m |\n",
      "| \u001b[0m 16      \u001b[0m | \u001b[0m-547.4   \u001b[0m | \u001b[0m 0.1072  \u001b[0m | \u001b[0m 14.88   \u001b[0m | \u001b[0m 180.5   \u001b[0m | \u001b[0m 0.8137  \u001b[0m |\n",
      "| \u001b[0m 17      \u001b[0m | \u001b[0m-571.3   \u001b[0m | \u001b[0m 0.05278 \u001b[0m | \u001b[0m 11.26   \u001b[0m | \u001b[0m 155.8   \u001b[0m | \u001b[0m 0.427   \u001b[0m |\n",
      "| \u001b[0m 18      \u001b[0m | \u001b[0m-538.3   \u001b[0m | \u001b[0m 0.07114 \u001b[0m | \u001b[0m 12.85   \u001b[0m | \u001b[0m 195.8   \u001b[0m | \u001b[0m 0.8311  \u001b[0m |\n",
      "| \u001b[0m 19      \u001b[0m | \u001b[0m-541.8   \u001b[0m | \u001b[0m 0.05    \u001b[0m | \u001b[0m 12.93   \u001b[0m | \u001b[0m 195.8   \u001b[0m | \u001b[0m 0.8138  \u001b[0m |\n",
      "| \u001b[0m 20      \u001b[0m | \u001b[0m-565.1   \u001b[0m | \u001b[0m 0.0857  \u001b[0m | \u001b[0m 11.41   \u001b[0m | \u001b[0m 101.9   \u001b[0m | \u001b[0m 0.6177  \u001b[0m |\n",
      "| \u001b[0m 21      \u001b[0m | \u001b[0m-546.7   \u001b[0m | \u001b[0m 0.07862 \u001b[0m | \u001b[0m 14.65   \u001b[0m | \u001b[0m 192.5   \u001b[0m | \u001b[0m 0.4659  \u001b[0m |\n",
      "| \u001b[0m 22      \u001b[0m | \u001b[0m-544.6   \u001b[0m | \u001b[0m 0.1135  \u001b[0m | \u001b[0m 12.68   \u001b[0m | \u001b[0m 195.9   \u001b[0m | \u001b[0m 0.8102  \u001b[0m |\n",
      "| \u001b[0m 23      \u001b[0m | \u001b[0m-543.3   \u001b[0m | \u001b[0m 0.09841 \u001b[0m | \u001b[0m 13.08   \u001b[0m | \u001b[0m 195.9   \u001b[0m | \u001b[0m 0.8577  \u001b[0m |\n",
      "| \u001b[0m 24      \u001b[0m | \u001b[0m-540.0   \u001b[0m | \u001b[0m 0.06771 \u001b[0m | \u001b[0m 14.93   \u001b[0m | \u001b[0m 180.5   \u001b[0m | \u001b[0m 0.8289  \u001b[0m |\n",
      "| \u001b[0m 25      \u001b[0m | \u001b[0m-546.6   \u001b[0m | \u001b[0m 0.1256  \u001b[0m | \u001b[0m 12.95   \u001b[0m | \u001b[0m 195.7   \u001b[0m | \u001b[0m 0.9081  \u001b[0m |\n",
      "| \u001b[0m 26      \u001b[0m | \u001b[0m-626.2   \u001b[0m | \u001b[0m 0.07172 \u001b[0m | \u001b[0m 8.567   \u001b[0m | \u001b[0m 127.5   \u001b[0m | \u001b[0m 0.4048  \u001b[0m |\n",
      "| \u001b[0m 27      \u001b[0m | \u001b[0m-551.2   \u001b[0m | \u001b[0m 0.1355  \u001b[0m | \u001b[0m 12.91   \u001b[0m | \u001b[0m 177.3   \u001b[0m | \u001b[0m 0.9931  \u001b[0m |\n",
      "| \u001b[0m 28      \u001b[0m | \u001b[0m-555.4   \u001b[0m | \u001b[0m 0.1389  \u001b[0m | \u001b[0m 13.28   \u001b[0m | \u001b[0m 195.9   \u001b[0m | \u001b[0m 0.7407  \u001b[0m |\n",
      "| \u001b[0m 29      \u001b[0m | \u001b[0m-552.3   \u001b[0m | \u001b[0m 0.1324  \u001b[0m | \u001b[0m 10.65   \u001b[0m | \u001b[0m 142.1   \u001b[0m | \u001b[0m 0.9712  \u001b[0m |\n",
      "| \u001b[0m 30      \u001b[0m | \u001b[0m-558.1   \u001b[0m | \u001b[0m 0.09078 \u001b[0m | \u001b[0m 14.68   \u001b[0m | \u001b[0m 192.4   \u001b[0m | \u001b[0m 0.4013  \u001b[0m |\n",
      "=========================================================================\n"
     ]
    }
   ],
   "source": [
    "#xgb模型调参\n",
    "from bayes_opt import BayesianOptimization\n",
    "from xgboost.sklearn import XGBRegressor\n",
    "from sklearn.model_selection import cross_val_score\n",
    "from sklearn.metrics import mean_absolute_error,  make_scorer\n",
    "\n",
    "#rf = xgb.XGBRegressor(n_estimators=120, learning_rate=0.1, gamma=0, subsample=0.8,colsample_bytree=0.9, max_depth=7)\n",
    "rf = xgb.XGBRegressor()\n",
    "def rf_cv(n_estimators, max_depth,subsample,learning_rate):\n",
    "    val = cross_val_score(\n",
    "        XGBRegressor(\n",
    "            subsample=subsample,\n",
    "            n_estimators=int(n_estimators),\n",
    "            max_depth=int(max_depth),\n",
    "            learning_rate=learning_rate\n",
    "        ),\n",
    "        train_x, train_y, scoring=make_scorer(mean_absolute_error), cv=4,verbose=0\n",
    "    ).mean()\n",
    "    return 1-val\n",
    "rf_bo = BayesianOptimization(\n",
    "        rf_cv,\n",
    "        {'n_estimators': (100, 200),\n",
    "        'learning_rate': (0.05, 0.14),\n",
    "        'max_depth':(7, 17),\n",
    "        'subsample':(0.1,1)}\n",
    "    )\n",
    "\n",
    "rf_bo.maximize()"
   ]
  },
  {
   "cell_type": "code",
   "execution_count": 210,
   "metadata": {},
   "outputs": [
    {
     "name": "stdout",
     "output_type": "stream",
     "text": [
      "Train xgb...\n",
      "MAE of val with xgb: 219.36751312715742\n",
      "Predict xgb...\n",
      "Sta of Predict xgb:\n",
      "_min -76.65445\n",
      "_max: 91048.62\n",
      "_mean 5917.9814\n",
      "_ptp 91125.27\n",
      "_std 7358.2583\n",
      "_var 54143970.0\n"
     ]
    }
   ],
   "source": [
    "#定义xgb模型函数\n",
    "def build_model_xgb(x_train,y_train):\n",
    "    model = xgb.XGBRegressor(n_estimators=196, learning_rate=0.0577, gamma=0, subsample=0.7411,\\\n",
    "        colsample_bytree=0.9, max_depth=13) #,objective ='reg:squarederror'\n",
    "    model.fit(x_train, y_train)\n",
    "    return model\n",
    "## Split data with val\n",
    "x_train,x_val,y_train,y_val = train_test_split(train_x,train_y,test_size=0.3)\n",
    "\n",
    "## 定义了一个统计函数，方便后续信息统计\n",
    "def Sta_inf(data):\n",
    "    print('_min',np.min(data))\n",
    "    print('_max:',np.max(data))\n",
    "    print('_mean',np.mean(data))\n",
    "    print('_ptp',np.ptp(data))#最大与最小值的差\n",
    "    print('_std',np.std(data))\n",
    "    print('_var',np.var(data))\n",
    "    \n",
    "print('Train xgb...')\n",
    "model_xgb = build_model_xgb(train_x,train_y)\n",
    "val_xgb = model_xgb.predict(x_val)\n",
    "MAE_xgb = mean_absolute_error(y_val,val_xgb)\n",
    "print('MAE of val with xgb:',MAE_xgb)\n",
    "\n",
    "print('Predict xgb...')\n",
    "model1 = build_model_xgb(train_x,train_y)\n",
    "test_y = model1.predict(test_x)\n",
    "print('Sta of Predict xgb:')\n",
    "Sta_inf(test_y)"
   ]
  },
  {
   "cell_type": "code",
   "execution_count": 213,
   "metadata": {},
   "outputs": [],
   "source": [
    "df7=pd.DataFrame()\n",
    "df7['SaleID']=T.SaleID\n",
    "df7['price']=test_y\n",
    "df7['price']=df7['price'].apply(lambda x:10 if x<10 else x)\n",
    "df7.to_csv('D:/sub_Weighted.csv',index=False)"
   ]
  },
  {
   "cell_type": "code",
   "execution_count": 218,
   "metadata": {},
   "outputs": [
    {
     "name": "stdout",
     "output_type": "stream",
     "text": [
      "count    50000.000000\n",
      "mean        -5.658359\n",
      "std        607.239016\n",
      "min     -25952.419922\n",
      "25%        -78.589691\n",
      "50%         -0.174866\n",
      "75%         77.340698\n",
      "max      18352.872070\n",
      "Name: diff1, dtype: float64\n",
      "count    50000.000000\n",
      "mean        -2.388639\n",
      "std        414.933135\n",
      "min     -12491.818359\n",
      "25%        -74.012939\n",
      "50%         -0.356430\n",
      "75%         71.960968\n",
      "max       8453.332031\n",
      "Name: diff, dtype: float64\n",
      "count    50000.000000\n",
      "mean      5917.991060\n",
      "std       7358.324233\n",
      "min         10.000000\n",
      "25%       1368.010712\n",
      "50%       3272.478516\n",
      "75%       7705.778198\n",
      "max      91048.617188\n",
      "Name: price, dtype: float64\n"
     ]
    }
   ],
   "source": [
    "df7['diff']=df7['price']-sub3['price']\n",
    "df7['diff1']=df7['price']-df_sum1['price']\n",
    "print(df7['diff1'].describe())\n",
    "print(df7['diff'].describe())\n",
    "print(df7['price'].describe())"
   ]
  },
  {
   "cell_type": "code",
   "execution_count": 222,
   "metadata": {},
   "outputs": [
    {
     "data": {
      "text/plain": [
       "29017   -12491\n",
       "40259    -8129\n",
       "42330    -7852\n",
       "3846     -7511\n",
       "31609    -7356\n",
       "         ...  \n",
       "17844     5358\n",
       "39750     5405\n",
       "40469     5613\n",
       "3541      6117\n",
       "28538     8453\n",
       "Name: diff, Length: 50000, dtype: int32"
      ]
     },
     "execution_count": 222,
     "metadata": {},
     "output_type": "execute_result"
    }
   ],
   "source": [
    "df7['diff'].astype(int).sort_values()"
   ]
  },
  {
   "cell_type": "code",
   "execution_count": null,
   "metadata": {},
   "outputs": [],
   "source": []
  },
  {
   "cell_type": "code",
   "execution_count": 225,
   "metadata": {},
   "outputs": [],
   "source": [
    "TRAINDATA=Train_data.copy()\n",
    "TESTDATA=Test_data.copy()"
   ]
  },
  {
   "cell_type": "code",
   "execution_count": 228,
   "metadata": {},
   "outputs": [
    {
     "name": "stdout",
     "output_type": "stream",
     "text": [
      "<class 'pandas.core.frame.DataFrame'>\n",
      "Int64Index: 149998 entries, 0 to 149997\n",
      "Data columns (total 43 columns):\n",
      "model                    149998 non-null float16\n",
      "brand                    149998 non-null int8\n",
      "bodyType                 149998 non-null float16\n",
      "fuelType                 149998 non-null float16\n",
      "gearbox                  149998 non-null float16\n",
      "power                    149998 non-null int16\n",
      "kilometer                149998 non-null float16\n",
      "notRepairedDamage        149998 non-null float16\n",
      "price                    149998 non-null int32\n",
      "v_0                      149998 non-null float16\n",
      "v_1                      149998 non-null float16\n",
      "v_2                      149998 non-null float16\n",
      "v_3                      149998 non-null float16\n",
      "v_4                      149998 non-null float16\n",
      "v_5                      149998 non-null float16\n",
      "v_6                      149998 non-null float16\n",
      "v_7                      149998 non-null float16\n",
      "v_8                      149998 non-null float16\n",
      "v_9                      149998 non-null float16\n",
      "v_10                     149998 non-null float16\n",
      "v_11                     149998 non-null float16\n",
      "v_12                     149998 non-null float16\n",
      "v_13                     149998 non-null float16\n",
      "v_14                     149998 non-null float16\n",
      "usetime                  149998 non-null int16\n",
      "city                     149998 non-null float64\n",
      "bought_time_bin          149998 non-null int8\n",
      "brand_amount             149998 non-null float16\n",
      "brand_price_max          149998 non-null float32\n",
      "brand_price_median       149998 non-null float16\n",
      "brand_price_min          149998 non-null float16\n",
      "brand_price_sum          149998 non-null float32\n",
      "brand_price_std          149998 non-null float16\n",
      "brand_price_average      149998 non-null float16\n",
      "power_bin                149998 non-null int8\n",
      "usetime_bin              149998 non-null int64\n",
      "usetime_amount           149998 non-null float64\n",
      "usetime_price_max        149998 non-null float64\n",
      "usetime_price_median     149998 non-null float64\n",
      "usetime_price_min        149998 non-null float64\n",
      "usetime_price_sum        149998 non-null float64\n",
      "usetime_price_std        149998 non-null float64\n",
      "usetime_price_average    149998 non-null float64\n",
      "dtypes: float16(26), float32(2), float64(8), int16(2), int32(1), int64(1), int8(3)\n",
      "memory usage: 21.6 MB\n"
     ]
    }
   ],
   "source": [
    "Train_data.info()"
   ]
  },
  {
   "cell_type": "code",
   "execution_count": 229,
   "metadata": {},
   "outputs": [
    {
     "data": {
      "text/plain": [
       "10    130492\n",
       "11     19251\n",
       "9        210\n",
       "8         27\n",
       "6          7\n",
       "7          5\n",
       "4          3\n",
       "3          2\n",
       "1          1\n",
       "Name: bought_time_bin, dtype: int64"
      ]
     },
     "execution_count": 229,
     "metadata": {},
     "output_type": "execute_result"
    }
   ],
   "source": [
    "Train_data['bought_time_bin'].value_counts()"
   ]
  },
  {
   "cell_type": "code",
   "execution_count": 230,
   "metadata": {},
   "outputs": [
    {
     "data": {
      "text/html": [
       "<div>\n",
       "<style scoped>\n",
       "    .dataframe tbody tr th:only-of-type {\n",
       "        vertical-align: middle;\n",
       "    }\n",
       "\n",
       "    .dataframe tbody tr th {\n",
       "        vertical-align: top;\n",
       "    }\n",
       "\n",
       "    .dataframe thead th {\n",
       "        text-align: right;\n",
       "    }\n",
       "</style>\n",
       "<table border=\"1\" class=\"dataframe\">\n",
       "  <thead>\n",
       "    <tr style=\"text-align: right;\">\n",
       "      <th></th>\n",
       "      <th>model</th>\n",
       "      <th>brand</th>\n",
       "      <th>bodyType</th>\n",
       "      <th>fuelType</th>\n",
       "      <th>gearbox</th>\n",
       "      <th>power</th>\n",
       "      <th>kilometer</th>\n",
       "      <th>notRepairedDamage</th>\n",
       "      <th>v_0</th>\n",
       "      <th>v_1</th>\n",
       "      <th>...</th>\n",
       "      <th>usetime_price_average</th>\n",
       "      <th>kilometer_price_max</th>\n",
       "      <th>kilometer_price_std</th>\n",
       "      <th>kilometer_price_average</th>\n",
       "      <th>fuelType_price_max</th>\n",
       "      <th>fuelType_price_std</th>\n",
       "      <th>fuelType_price_average</th>\n",
       "      <th>bodyType_price_max</th>\n",
       "      <th>bodyType_price_std</th>\n",
       "      <th>bodyType_price_average</th>\n",
       "    </tr>\n",
       "  </thead>\n",
       "  <tbody>\n",
       "    <tr>\n",
       "      <th>0</th>\n",
       "      <td>222.0</td>\n",
       "      <td>4</td>\n",
       "      <td>5.0</td>\n",
       "      <td>1.0</td>\n",
       "      <td>1.0</td>\n",
       "      <td>313</td>\n",
       "      <td>15.0</td>\n",
       "      <td>0.0</td>\n",
       "      <td>49.59375</td>\n",
       "      <td>5.246094</td>\n",
       "      <td>...</td>\n",
       "      <td>14995.41</td>\n",
       "      <td>99999.0</td>\n",
       "      <td>4494.769646</td>\n",
       "      <td>3825.44</td>\n",
       "      <td>99999.0</td>\n",
       "      <td>8185.950469</td>\n",
       "      <td>8697.66</td>\n",
       "      <td>99999.0</td>\n",
       "      <td>12388.087242</td>\n",
       "      <td>10292.61</td>\n",
       "    </tr>\n",
       "    <tr>\n",
       "      <th>1</th>\n",
       "      <td>19.0</td>\n",
       "      <td>21</td>\n",
       "      <td>0.0</td>\n",
       "      <td>0.0</td>\n",
       "      <td>0.0</td>\n",
       "      <td>75</td>\n",
       "      <td>12.5</td>\n",
       "      <td>1.0</td>\n",
       "      <td>42.40625</td>\n",
       "      <td>-3.253906</td>\n",
       "      <td>...</td>\n",
       "      <td>1638.56</td>\n",
       "      <td>87900.0</td>\n",
       "      <td>6699.991616</td>\n",
       "      <td>6364.63</td>\n",
       "      <td>99999.0</td>\n",
       "      <td>6836.239888</td>\n",
       "      <td>4647.47</td>\n",
       "      <td>99999.0</td>\n",
       "      <td>6932.760706</td>\n",
       "      <td>5693.34</td>\n",
       "    </tr>\n",
       "    <tr>\n",
       "      <th>2</th>\n",
       "      <td>82.0</td>\n",
       "      <td>21</td>\n",
       "      <td>0.0</td>\n",
       "      <td>0.0</td>\n",
       "      <td>0.0</td>\n",
       "      <td>109</td>\n",
       "      <td>7.0</td>\n",
       "      <td>0.0</td>\n",
       "      <td>45.84375</td>\n",
       "      <td>4.703125</td>\n",
       "      <td>...</td>\n",
       "      <td>9543.39</td>\n",
       "      <td>85911.0</td>\n",
       "      <td>9623.507957</td>\n",
       "      <td>11011.20</td>\n",
       "      <td>99999.0</td>\n",
       "      <td>6836.239888</td>\n",
       "      <td>4647.47</td>\n",
       "      <td>99999.0</td>\n",
       "      <td>6932.760706</td>\n",
       "      <td>5693.34</td>\n",
       "    </tr>\n",
       "    <tr>\n",
       "      <th>3</th>\n",
       "      <td>0.0</td>\n",
       "      <td>0</td>\n",
       "      <td>0.0</td>\n",
       "      <td>0.0</td>\n",
       "      <td>1.0</td>\n",
       "      <td>160</td>\n",
       "      <td>7.0</td>\n",
       "      <td>0.0</td>\n",
       "      <td>46.43750</td>\n",
       "      <td>4.320312</td>\n",
       "      <td>...</td>\n",
       "      <td>13099.73</td>\n",
       "      <td>85911.0</td>\n",
       "      <td>9623.507957</td>\n",
       "      <td>11011.20</td>\n",
       "      <td>99999.0</td>\n",
       "      <td>6836.239888</td>\n",
       "      <td>4647.47</td>\n",
       "      <td>99999.0</td>\n",
       "      <td>6932.760706</td>\n",
       "      <td>5693.34</td>\n",
       "    </tr>\n",
       "    <tr>\n",
       "      <th>4</th>\n",
       "      <td>26.0</td>\n",
       "      <td>14</td>\n",
       "      <td>2.0</td>\n",
       "      <td>0.0</td>\n",
       "      <td>0.0</td>\n",
       "      <td>75</td>\n",
       "      <td>15.0</td>\n",
       "      <td>0.0</td>\n",
       "      <td>42.18750</td>\n",
       "      <td>-3.166016</td>\n",
       "      <td>...</td>\n",
       "      <td>1487.55</td>\n",
       "      <td>99999.0</td>\n",
       "      <td>4494.769646</td>\n",
       "      <td>3825.44</td>\n",
       "      <td>99999.0</td>\n",
       "      <td>6836.239888</td>\n",
       "      <td>4647.47</td>\n",
       "      <td>69900.0</td>\n",
       "      <td>6326.130000</td>\n",
       "      <td>5820.47</td>\n",
       "    </tr>\n",
       "  </tbody>\n",
       "</table>\n",
       "<p>5 rows × 51 columns</p>\n",
       "</div>"
      ],
      "text/plain": [
       "   model  brand  bodyType  fuelType  gearbox  power  kilometer  \\\n",
       "0  222.0      4       5.0       1.0      1.0    313       15.0   \n",
       "1   19.0     21       0.0       0.0      0.0     75       12.5   \n",
       "2   82.0     21       0.0       0.0      0.0    109        7.0   \n",
       "3    0.0      0       0.0       0.0      1.0    160        7.0   \n",
       "4   26.0     14       2.0       0.0      0.0     75       15.0   \n",
       "\n",
       "   notRepairedDamage       v_0       v_1  ...  usetime_price_average  \\\n",
       "0                0.0  49.59375  5.246094  ...               14995.41   \n",
       "1                1.0  42.40625 -3.253906  ...                1638.56   \n",
       "2                0.0  45.84375  4.703125  ...                9543.39   \n",
       "3                0.0  46.43750  4.320312  ...               13099.73   \n",
       "4                0.0  42.18750 -3.166016  ...                1487.55   \n",
       "\n",
       "   kilometer_price_max  kilometer_price_std  kilometer_price_average  \\\n",
       "0              99999.0          4494.769646                  3825.44   \n",
       "1              87900.0          6699.991616                  6364.63   \n",
       "2              85911.0          9623.507957                 11011.20   \n",
       "3              85911.0          9623.507957                 11011.20   \n",
       "4              99999.0          4494.769646                  3825.44   \n",
       "\n",
       "   fuelType_price_max  fuelType_price_std  fuelType_price_average  \\\n",
       "0             99999.0         8185.950469                 8697.66   \n",
       "1             99999.0         6836.239888                 4647.47   \n",
       "2             99999.0         6836.239888                 4647.47   \n",
       "3             99999.0         6836.239888                 4647.47   \n",
       "4             99999.0         6836.239888                 4647.47   \n",
       "\n",
       "   bodyType_price_max  bodyType_price_std  bodyType_price_average  \n",
       "0             99999.0        12388.087242                10292.61  \n",
       "1             99999.0         6932.760706                 5693.34  \n",
       "2             99999.0         6932.760706                 5693.34  \n",
       "3             99999.0         6932.760706                 5693.34  \n",
       "4             69900.0         6326.130000                 5820.47  \n",
       "\n",
       "[5 rows x 51 columns]"
      ]
     },
     "execution_count": 230,
     "metadata": {},
     "output_type": "execute_result"
    }
   ],
   "source": [
    "# 这里要以 train 的数据计算统计量\n",
    "Train_gb = Train_data.groupby(\"kilometer\")\n",
    "all_info = {}\n",
    "for kind, kind_data in Train_gb:\n",
    "    info = {}\n",
    "    kind_data = kind_data[kind_data['price'] > 0]\n",
    "    info['kilometer_price_max'] = kind_data.price.max()\n",
    "    info['kilometer_price_std'] = kind_data.price.std()\n",
    "    info['kilometer_price_average'] = round(kind_data.price.sum() / (len(kind_data) + 1), 2)\n",
    "    all_info[kind] = info\n",
    "usetime_fe = pd.DataFrame(all_info).T.reset_index().rename(columns={\"index\": \"kilometer\"})\n",
    "Train_data = Train_data.merge(usetime_fe, how='left', on='kilometer')\n",
    "Test_data = Test_data.merge(usetime_fe, how='left', on='kilometer')\n",
    "\n",
    "Train_gb = Train_data.groupby(\"fuelType\")\n",
    "all_info = {}\n",
    "for kind, kind_data in Train_gb:\n",
    "    info = {}\n",
    "    kind_data = kind_data[kind_data['price'] > 0]\n",
    "    info['fuelType_price_max'] = kind_data.price.max()\n",
    "    info['fuelType_price_std'] = kind_data.price.std()\n",
    "    info['fuelType_price_average'] = round(kind_data.price.sum() / (len(kind_data) + 1), 2)\n",
    "    all_info[kind] = info\n",
    "usetime_fe = pd.DataFrame(all_info).T.reset_index().rename(columns={\"index\": \"fuelType\"})\n",
    "Train_data = Train_data.merge(usetime_fe, how='left', on='fuelType')\n",
    "Test_data = Test_data.merge(usetime_fe, how='left', on='fuelType')\n",
    "\n",
    "Train_gb = Train_data.groupby(\"bodyType\")\n",
    "all_info = {}\n",
    "for kind, kind_data in Train_gb:\n",
    "    info = {}\n",
    "    kind_data = kind_data[kind_data['price'] > 0]\n",
    "    info['bodyType_price_max'] = kind_data.price.max()\n",
    "    info['bodyType_price_std'] = kind_data.price.std()\n",
    "    info['bodyType_price_average'] = round(kind_data.price.sum() / (len(kind_data) + 1), 2)\n",
    "    all_info[kind] = info\n",
    "usetime_fe = pd.DataFrame(all_info).T.reset_index().rename(columns={\"index\": \"bodyType\"})\n",
    "Train_data = Train_data.merge(usetime_fe, how='left', on='bodyType')\n",
    "Test_data = Test_data.merge(usetime_fe, how='left', on='bodyType')\n",
    "\n",
    "Test_data.head()"
   ]
  },
  {
   "cell_type": "code",
   "execution_count": 231,
   "metadata": {},
   "outputs": [
    {
     "data": {
      "text/html": [
       "<div>\n",
       "<style scoped>\n",
       "    .dataframe tbody tr th:only-of-type {\n",
       "        vertical-align: middle;\n",
       "    }\n",
       "\n",
       "    .dataframe tbody tr th {\n",
       "        vertical-align: top;\n",
       "    }\n",
       "\n",
       "    .dataframe thead th {\n",
       "        text-align: right;\n",
       "    }\n",
       "</style>\n",
       "<table border=\"1\" class=\"dataframe\">\n",
       "  <thead>\n",
       "    <tr style=\"text-align: right;\">\n",
       "      <th></th>\n",
       "      <th>pricehat</th>\n",
       "      <th>kilometer_price_max</th>\n",
       "      <th>kilometer_price_std</th>\n",
       "      <th>kilometer_price_average</th>\n",
       "      <th>fuelType_price_max</th>\n",
       "      <th>fuelType_price_std</th>\n",
       "      <th>fuelType_price_average</th>\n",
       "      <th>bodyType_price_max</th>\n",
       "      <th>bodyType_price_std</th>\n",
       "      <th>bodyType_price_average</th>\n",
       "    </tr>\n",
       "  </thead>\n",
       "  <tbody>\n",
       "    <tr>\n",
       "      <th>0</th>\n",
       "      <td>2002.461914</td>\n",
       "      <td>87900.0</td>\n",
       "      <td>6699.991616</td>\n",
       "      <td>6364.63</td>\n",
       "      <td>99999.0</td>\n",
       "      <td>6836.239888</td>\n",
       "      <td>4647.47</td>\n",
       "      <td>99999.0</td>\n",
       "      <td>3158.898609</td>\n",
       "      <td>2789.36</td>\n",
       "    </tr>\n",
       "    <tr>\n",
       "      <th>1</th>\n",
       "      <td>3683.500977</td>\n",
       "      <td>99999.0</td>\n",
       "      <td>4494.769646</td>\n",
       "      <td>3825.44</td>\n",
       "      <td>99999.0</td>\n",
       "      <td>6836.239888</td>\n",
       "      <td>4647.47</td>\n",
       "      <td>69900.0</td>\n",
       "      <td>6326.130000</td>\n",
       "      <td>5820.47</td>\n",
       "    </tr>\n",
       "    <tr>\n",
       "      <th>2</th>\n",
       "      <td>6773.818848</td>\n",
       "      <td>87900.0</td>\n",
       "      <td>6699.991616</td>\n",
       "      <td>6364.63</td>\n",
       "      <td>99999.0</td>\n",
       "      <td>6836.239888</td>\n",
       "      <td>4647.47</td>\n",
       "      <td>99999.0</td>\n",
       "      <td>3158.898609</td>\n",
       "      <td>2789.36</td>\n",
       "    </tr>\n",
       "    <tr>\n",
       "      <th>3</th>\n",
       "      <td>2784.069824</td>\n",
       "      <td>99999.0</td>\n",
       "      <td>4494.769646</td>\n",
       "      <td>3825.44</td>\n",
       "      <td>99999.0</td>\n",
       "      <td>6836.239888</td>\n",
       "      <td>4647.47</td>\n",
       "      <td>99999.0</td>\n",
       "      <td>6932.760706</td>\n",
       "      <td>5693.34</td>\n",
       "    </tr>\n",
       "    <tr>\n",
       "      <th>4</th>\n",
       "      <td>5390.518066</td>\n",
       "      <td>99990.0</td>\n",
       "      <td>11060.099213</td>\n",
       "      <td>13571.85</td>\n",
       "      <td>99999.0</td>\n",
       "      <td>6836.239888</td>\n",
       "      <td>4647.47</td>\n",
       "      <td>99999.0</td>\n",
       "      <td>3158.898609</td>\n",
       "      <td>2789.36</td>\n",
       "    </tr>\n",
       "  </tbody>\n",
       "</table>\n",
       "</div>"
      ],
      "text/plain": [
       "      pricehat  kilometer_price_max  kilometer_price_std  \\\n",
       "0  2002.461914              87900.0          6699.991616   \n",
       "1  3683.500977              99999.0          4494.769646   \n",
       "2  6773.818848              87900.0          6699.991616   \n",
       "3  2784.069824              99999.0          4494.769646   \n",
       "4  5390.518066              99990.0         11060.099213   \n",
       "\n",
       "   kilometer_price_average  fuelType_price_max  fuelType_price_std  \\\n",
       "0                  6364.63             99999.0         6836.239888   \n",
       "1                  3825.44             99999.0         6836.239888   \n",
       "2                  6364.63             99999.0         6836.239888   \n",
       "3                  3825.44             99999.0         6836.239888   \n",
       "4                 13571.85             99999.0         6836.239888   \n",
       "\n",
       "   fuelType_price_average  bodyType_price_max  bodyType_price_std  \\\n",
       "0                 4647.47             99999.0         3158.898609   \n",
       "1                 4647.47             69900.0         6326.130000   \n",
       "2                 4647.47             99999.0         3158.898609   \n",
       "3                 4647.47             99999.0         6932.760706   \n",
       "4                 4647.47             99999.0         3158.898609   \n",
       "\n",
       "   bodyType_price_average  \n",
       "0                 2789.36  \n",
       "1                 5820.47  \n",
       "2                 2789.36  \n",
       "3                 5693.34  \n",
       "4                 2789.36  "
      ]
     },
     "execution_count": 231,
     "metadata": {},
     "output_type": "execute_result"
    }
   ],
   "source": [
    "df_lasttrain=pd.DataFrame()\n",
    "df_lasttrain['pricehat']=model1.predict(train_x)\n",
    "\n",
    "df_lasttrain['kilometer_price_max']=Train_data['kilometer_price_max']\n",
    "df_lasttrain['kilometer_price_std']=Train_data['kilometer_price_std']\n",
    "df_lasttrain['kilometer_price_average']=Train_data['kilometer_price_average']\n",
    "\n",
    "df_lasttrain['fuelType_price_max']=Train_data['fuelType_price_max']\n",
    "df_lasttrain['fuelType_price_std']=Train_data['fuelType_price_std']\n",
    "df_lasttrain['fuelType_price_average']=Train_data['fuelType_price_average']\n",
    "\n",
    "df_lasttrain['bodyType_price_max']=Train_data['bodyType_price_max']\n",
    "df_lasttrain['bodyType_price_std']=Train_data['bodyType_price_std']\n",
    "df_lasttrain['bodyType_price_average']=Train_data['bodyType_price_average']\n",
    "\n",
    "df_lasttrain.head()"
   ]
  },
  {
   "cell_type": "code",
   "execution_count": 232,
   "metadata": {},
   "outputs": [],
   "source": [
    "df_lasttrain['pricehat']=df_lasttrain['pricehat'].apply(lambda x:10 if x<10 else x)"
   ]
  },
  {
   "cell_type": "code",
   "execution_count": 234,
   "metadata": {},
   "outputs": [
    {
     "data": {
      "text/html": [
       "<div>\n",
       "<style scoped>\n",
       "    .dataframe tbody tr th:only-of-type {\n",
       "        vertical-align: middle;\n",
       "    }\n",
       "\n",
       "    .dataframe tbody tr th {\n",
       "        vertical-align: top;\n",
       "    }\n",
       "\n",
       "    .dataframe thead th {\n",
       "        text-align: right;\n",
       "    }\n",
       "</style>\n",
       "<table border=\"1\" class=\"dataframe\">\n",
       "  <thead>\n",
       "    <tr style=\"text-align: right;\">\n",
       "      <th></th>\n",
       "      <th>pricehat</th>\n",
       "      <th>kilometer_price_max</th>\n",
       "      <th>kilometer_price_std</th>\n",
       "      <th>kilometer_price_average</th>\n",
       "      <th>fuelType_price_max</th>\n",
       "      <th>fuelType_price_std</th>\n",
       "      <th>fuelType_price_average</th>\n",
       "      <th>bodyType_price_max</th>\n",
       "      <th>bodyType_price_std</th>\n",
       "      <th>bodyType_price_average</th>\n",
       "    </tr>\n",
       "  </thead>\n",
       "  <tbody>\n",
       "    <tr>\n",
       "      <th>0</th>\n",
       "      <td>36968.121094</td>\n",
       "      <td>99999.0</td>\n",
       "      <td>4494.769646</td>\n",
       "      <td>3825.44</td>\n",
       "      <td>99999.0</td>\n",
       "      <td>8185.950469</td>\n",
       "      <td>8697.66</td>\n",
       "      <td>99999.0</td>\n",
       "      <td>12388.087242</td>\n",
       "      <td>10292.61</td>\n",
       "    </tr>\n",
       "    <tr>\n",
       "      <th>1</th>\n",
       "      <td>322.917023</td>\n",
       "      <td>87900.0</td>\n",
       "      <td>6699.991616</td>\n",
       "      <td>6364.63</td>\n",
       "      <td>99999.0</td>\n",
       "      <td>6836.239888</td>\n",
       "      <td>4647.47</td>\n",
       "      <td>99999.0</td>\n",
       "      <td>6932.760706</td>\n",
       "      <td>5693.34</td>\n",
       "    </tr>\n",
       "    <tr>\n",
       "      <th>2</th>\n",
       "      <td>6582.872070</td>\n",
       "      <td>85911.0</td>\n",
       "      <td>9623.507957</td>\n",
       "      <td>11011.20</td>\n",
       "      <td>99999.0</td>\n",
       "      <td>6836.239888</td>\n",
       "      <td>4647.47</td>\n",
       "      <td>99999.0</td>\n",
       "      <td>6932.760706</td>\n",
       "      <td>5693.34</td>\n",
       "    </tr>\n",
       "    <tr>\n",
       "      <th>3</th>\n",
       "      <td>11925.357422</td>\n",
       "      <td>85911.0</td>\n",
       "      <td>9623.507957</td>\n",
       "      <td>11011.20</td>\n",
       "      <td>99999.0</td>\n",
       "      <td>6836.239888</td>\n",
       "      <td>4647.47</td>\n",
       "      <td>99999.0</td>\n",
       "      <td>6932.760706</td>\n",
       "      <td>5693.34</td>\n",
       "    </tr>\n",
       "    <tr>\n",
       "      <th>4</th>\n",
       "      <td>611.073547</td>\n",
       "      <td>99999.0</td>\n",
       "      <td>4494.769646</td>\n",
       "      <td>3825.44</td>\n",
       "      <td>99999.0</td>\n",
       "      <td>6836.239888</td>\n",
       "      <td>4647.47</td>\n",
       "      <td>69900.0</td>\n",
       "      <td>6326.130000</td>\n",
       "      <td>5820.47</td>\n",
       "    </tr>\n",
       "  </tbody>\n",
       "</table>\n",
       "</div>"
      ],
      "text/plain": [
       "       pricehat  kilometer_price_max  kilometer_price_std  \\\n",
       "0  36968.121094              99999.0          4494.769646   \n",
       "1    322.917023              87900.0          6699.991616   \n",
       "2   6582.872070              85911.0          9623.507957   \n",
       "3  11925.357422              85911.0          9623.507957   \n",
       "4    611.073547              99999.0          4494.769646   \n",
       "\n",
       "   kilometer_price_average  fuelType_price_max  fuelType_price_std  \\\n",
       "0                  3825.44             99999.0         8185.950469   \n",
       "1                  6364.63             99999.0         6836.239888   \n",
       "2                 11011.20             99999.0         6836.239888   \n",
       "3                 11011.20             99999.0         6836.239888   \n",
       "4                  3825.44             99999.0         6836.239888   \n",
       "\n",
       "   fuelType_price_average  bodyType_price_max  bodyType_price_std  \\\n",
       "0                 8697.66             99999.0        12388.087242   \n",
       "1                 4647.47             99999.0         6932.760706   \n",
       "2                 4647.47             99999.0         6932.760706   \n",
       "3                 4647.47             99999.0         6932.760706   \n",
       "4                 4647.47             69900.0         6326.130000   \n",
       "\n",
       "   bodyType_price_average  \n",
       "0                10292.61  \n",
       "1                 5693.34  \n",
       "2                 5693.34  \n",
       "3                 5693.34  \n",
       "4                 5820.47  "
      ]
     },
     "execution_count": 234,
     "metadata": {},
     "output_type": "execute_result"
    }
   ],
   "source": [
    "df_lasttest=pd.DataFrame()\n",
    "df_lasttest['pricehat']=df7['price']\n",
    "\n",
    "df_lasttest['kilometer_price_max']=Test_data['kilometer_price_max']\n",
    "df_lasttest['kilometer_price_std']=Test_data['kilometer_price_std']\n",
    "df_lasttest['kilometer_price_average']=Test_data['kilometer_price_average']\n",
    "\n",
    "df_lasttest['fuelType_price_max']=Test_data['fuelType_price_max']\n",
    "df_lasttest['fuelType_price_std']=Test_data['fuelType_price_std']\n",
    "df_lasttest['fuelType_price_average']=Test_data['fuelType_price_average']\n",
    "\n",
    "df_lasttest['bodyType_price_max']=Test_data['bodyType_price_max']\n",
    "df_lasttest['bodyType_price_std']=Test_data['bodyType_price_std']\n",
    "df_lasttest['bodyType_price_average']=Test_data['bodyType_price_average']\n",
    "\n",
    "df_lasttest.head()"
   ]
  },
  {
   "cell_type": "code",
   "execution_count": null,
   "metadata": {},
   "outputs": [],
   "source": [
    "continuous_feature_names = [x for x in df_lasttrain.columns]\n",
    "train_x = df_lasttrain[continuous_feature_names]   #训练集x值\n",
    "\n",
    "continuous_feature_names = [x for x in df_lasttest.columns]\n",
    "test_x = df_lasttest[continuous_feature_names]   #测试集x值\n",
    "\n",
    "train_y=Train_data['price']                       #训练集y值"
   ]
  },
  {
   "cell_type": "code",
   "execution_count": 236,
   "metadata": {},
   "outputs": [
    {
     "name": "stdout",
     "output_type": "stream",
     "text": [
      "|   iter    |  target   | learni... | max_depth | n_esti... | subsample |\n",
      "-------------------------------------------------------------------------\n",
      "| \u001b[0m 1       \u001b[0m | \u001b[0m-557.5   \u001b[0m | \u001b[0m 0.1355  \u001b[0m | \u001b[0m 14.18   \u001b[0m | \u001b[0m 188.2   \u001b[0m | \u001b[0m 0.6904  \u001b[0m |\n",
      "| \u001b[95m 2       \u001b[0m | \u001b[95m-545.4   \u001b[0m | \u001b[95m 0.09488 \u001b[0m | \u001b[95m 14.33   \u001b[0m | \u001b[95m 170.8   \u001b[0m | \u001b[95m 0.7006  \u001b[0m |\n",
      "| \u001b[0m 3       \u001b[0m | \u001b[0m-554.3   \u001b[0m | \u001b[0m 0.1007  \u001b[0m | \u001b[0m 16.43   \u001b[0m | \u001b[0m 103.9   \u001b[0m | \u001b[0m 0.8315  \u001b[0m |\n",
      "| \u001b[0m 4       \u001b[0m | \u001b[0m-563.2   \u001b[0m | \u001b[0m 0.1278  \u001b[0m | \u001b[0m 14.82   \u001b[0m | \u001b[0m 179.5   \u001b[0m | \u001b[0m 0.5128  \u001b[0m |\n",
      "| \u001b[0m 5       \u001b[0m | \u001b[0m-603.1   \u001b[0m | \u001b[0m 0.06124 \u001b[0m | \u001b[0m 9.613   \u001b[0m | \u001b[0m 169.2   \u001b[0m | \u001b[0m 0.355   \u001b[0m |\n",
      "| \u001b[0m 6       \u001b[0m | \u001b[0m-600.8   \u001b[0m | \u001b[0m 0.05832 \u001b[0m | \u001b[0m 14.47   \u001b[0m | \u001b[0m 199.9   \u001b[0m | \u001b[0m 0.1186  \u001b[0m |\n",
      "| \u001b[95m 7       \u001b[0m | \u001b[95m-541.7   \u001b[0m | \u001b[95m 0.06394 \u001b[0m | \u001b[95m 14.26   \u001b[0m | \u001b[95m 189.2   \u001b[0m | \u001b[95m 0.9037  \u001b[0m |\n",
      "| \u001b[95m 8       \u001b[0m | \u001b[95m-540.9   \u001b[0m | \u001b[95m 0.06605 \u001b[0m | \u001b[95m 14.33   \u001b[0m | \u001b[95m 189.2   \u001b[0m | \u001b[95m 0.8782  \u001b[0m |\n",
      "| \u001b[0m 9       \u001b[0m | \u001b[0m-557.8   \u001b[0m | \u001b[0m 0.1279  \u001b[0m | \u001b[0m 14.39   \u001b[0m | \u001b[0m 189.1   \u001b[0m | \u001b[0m 0.6507  \u001b[0m |\n",
      "| \u001b[0m 10      \u001b[0m | \u001b[0m-548.6   \u001b[0m | \u001b[0m 0.05325 \u001b[0m | \u001b[0m 14.49   \u001b[0m | \u001b[0m 170.8   \u001b[0m | \u001b[0m 0.4777  \u001b[0m |\n",
      "| \u001b[0m 11      \u001b[0m | \u001b[0m-556.8   \u001b[0m | \u001b[0m 0.1291  \u001b[0m | \u001b[0m 14.47   \u001b[0m | \u001b[0m 151.7   \u001b[0m | \u001b[0m 0.8749  \u001b[0m |\n",
      "| \u001b[0m 12      \u001b[0m | \u001b[0m-550.1   \u001b[0m | \u001b[0m 0.1166  \u001b[0m | \u001b[0m 10.7    \u001b[0m | \u001b[0m 155.2   \u001b[0m | \u001b[0m 0.8136  \u001b[0m |\n",
      "| \u001b[0m 13      \u001b[0m | \u001b[0m-551.9   \u001b[0m | \u001b[0m 0.1229  \u001b[0m | \u001b[0m 14.26   \u001b[0m | \u001b[0m 170.8   \u001b[0m | \u001b[0m 0.7866  \u001b[0m |\n",
      "| \u001b[0m 14      \u001b[0m | \u001b[0m-546.3   \u001b[0m | \u001b[0m 0.09623 \u001b[0m | \u001b[0m 14.34   \u001b[0m | \u001b[0m 189.1   \u001b[0m | \u001b[0m 0.8845  \u001b[0m |\n",
      "| \u001b[0m 15      \u001b[0m | \u001b[0m-554.3   \u001b[0m | \u001b[0m 0.1132  \u001b[0m | \u001b[0m 15.87   \u001b[0m | \u001b[0m 156.8   \u001b[0m | \u001b[0m 0.8929  \u001b[0m |\n",
      "| \u001b[0m 16      \u001b[0m | \u001b[0m-614.3   \u001b[0m | \u001b[0m 0.1113  \u001b[0m | \u001b[0m 11.54   \u001b[0m | \u001b[0m 119.3   \u001b[0m | \u001b[0m 0.2415  \u001b[0m |\n",
      "| \u001b[0m 17      \u001b[0m | \u001b[0m-551.0   \u001b[0m | \u001b[0m 0.07189 \u001b[0m | \u001b[0m 10.82   \u001b[0m | \u001b[0m 155.4   \u001b[0m | \u001b[0m 0.862   \u001b[0m |\n",
      "| \u001b[0m 18      \u001b[0m | \u001b[0m-548.8   \u001b[0m | \u001b[0m 0.09808 \u001b[0m | \u001b[0m 10.75   \u001b[0m | \u001b[0m 155.3   \u001b[0m | \u001b[0m 0.8336  \u001b[0m |\n",
      "| \u001b[0m 19      \u001b[0m | \u001b[0m-569.6   \u001b[0m | \u001b[0m 0.0825  \u001b[0m | \u001b[0m 11.76   \u001b[0m | \u001b[0m 185.6   \u001b[0m | \u001b[0m 0.373   \u001b[0m |\n",
      "| \u001b[0m 20      \u001b[0m | \u001b[0m-543.6   \u001b[0m | \u001b[0m 0.07977 \u001b[0m | \u001b[0m 14.38   \u001b[0m | \u001b[0m 170.8   \u001b[0m | \u001b[0m 0.6323  \u001b[0m |\n",
      "| \u001b[0m 21      \u001b[0m | \u001b[0m-614.0   \u001b[0m | \u001b[0m 0.07485 \u001b[0m | \u001b[0m 14.55   \u001b[0m | \u001b[0m 137.0   \u001b[0m | \u001b[0m 0.1188  \u001b[0m |\n",
      "| \u001b[0m 22      \u001b[0m | \u001b[0m-546.5   \u001b[0m | \u001b[0m 0.09329 \u001b[0m | \u001b[0m 14.35   \u001b[0m | \u001b[0m 170.9   \u001b[0m | \u001b[0m 0.6104  \u001b[0m |\n",
      "| \u001b[0m 23      \u001b[0m | \u001b[0m-569.9   \u001b[0m | \u001b[0m 0.07256 \u001b[0m | \u001b[0m 12.65   \u001b[0m | \u001b[0m 132.0   \u001b[0m | \u001b[0m 0.3761  \u001b[0m |\n",
      "| \u001b[0m 24      \u001b[0m | \u001b[0m-575.1   \u001b[0m | \u001b[0m 0.1285  \u001b[0m | \u001b[0m 12.58   \u001b[0m | \u001b[0m 127.4   \u001b[0m | \u001b[0m 0.4416  \u001b[0m |\n",
      "| \u001b[0m 25      \u001b[0m | \u001b[0m-550.9   \u001b[0m | \u001b[0m 0.1099  \u001b[0m | \u001b[0m 14.22   \u001b[0m | \u001b[0m 189.1   \u001b[0m | \u001b[0m 0.9846  \u001b[0m |\n",
      "| \u001b[0m 26      \u001b[0m | \u001b[0m-542.2   \u001b[0m | \u001b[0m 0.08267 \u001b[0m | \u001b[0m 14.41   \u001b[0m | \u001b[0m 189.2   \u001b[0m | \u001b[0m 0.7528  \u001b[0m |\n",
      "| \u001b[0m 27      \u001b[0m | \u001b[0m-576.5   \u001b[0m | \u001b[0m 0.0726  \u001b[0m | \u001b[0m 9.369   \u001b[0m | \u001b[0m 116.4   \u001b[0m | \u001b[0m 0.864   \u001b[0m |\n",
      "| \u001b[0m 28      \u001b[0m | \u001b[0m-550.8   \u001b[0m | \u001b[0m 0.09893 \u001b[0m | \u001b[0m 10.78   \u001b[0m | \u001b[0m 155.3   \u001b[0m | \u001b[0m 0.8204  \u001b[0m |\n",
      "| \u001b[0m 29      \u001b[0m | \u001b[0m-543.3   \u001b[0m | \u001b[0m 0.05929 \u001b[0m | \u001b[0m 12.34   \u001b[0m | \u001b[0m 167.1   \u001b[0m | \u001b[0m 0.7629  \u001b[0m |\n",
      "| \u001b[0m 30      \u001b[0m | \u001b[0m-554.6   \u001b[0m | \u001b[0m 0.09851 \u001b[0m | \u001b[0m 14.49   \u001b[0m | \u001b[0m 170.8   \u001b[0m | \u001b[0m 0.4678  \u001b[0m |\n",
      "=========================================================================\n"
     ]
    }
   ],
   "source": [
    "#xgb模型调参\n",
    "from bayes_opt import BayesianOptimization\n",
    "from xgboost.sklearn import XGBRegressor\n",
    "from sklearn.model_selection import cross_val_score\n",
    "from sklearn.metrics import mean_absolute_error,  make_scorer\n",
    "\n",
    "#rf = xgb.XGBRegressor(n_estimators=120, learning_rate=0.1, gamma=0, subsample=0.8,colsample_bytree=0.9, max_depth=7)\n",
    "rf = xgb.XGBRegressor()\n",
    "def rf_cv(n_estimators, max_depth,subsample,learning_rate):\n",
    "    val = cross_val_score(\n",
    "        XGBRegressor(\n",
    "            subsample=subsample,\n",
    "            n_estimators=int(n_estimators),\n",
    "            max_depth=int(max_depth),\n",
    "            learning_rate=learning_rate\n",
    "        ),\n",
    "        train_x, train_y, scoring=make_scorer(mean_absolute_error), cv=4,verbose=0\n",
    "    ).mean()\n",
    "    return 1-val\n",
    "rf_bo = BayesianOptimization(\n",
    "        rf_cv,\n",
    "        {'n_estimators': (100, 200),\n",
    "        'learning_rate': (0.05, 0.14),\n",
    "        'max_depth':(7, 17),\n",
    "        'subsample':(0.1,1)}\n",
    "    )\n",
    "\n",
    "rf_bo.maximize()"
   ]
  },
  {
   "cell_type": "code",
   "execution_count": 237,
   "metadata": {},
   "outputs": [
    {
     "name": "stdout",
     "output_type": "stream",
     "text": [
      "Train xgb...\n",
      "MAE of val with xgb: 147.81810631034904\n",
      "Predict xgb...\n",
      "Sta of Predict xgb:\n",
      "_min -24.990963\n",
      "_max: 90029.22\n",
      "_mean 5916.392\n",
      "_ptp 90054.21\n",
      "_std 7357.9243\n",
      "_var 54139052.0\n"
     ]
    }
   ],
   "source": [
    "#定义xgb模型函数\n",
    "def build_model_xgb(x_train,y_train):\n",
    "    model = xgb.XGBRegressor(n_estimators=189, learning_rate=0.06605, gamma=0, subsample=0.8782,\\\n",
    "        colsample_bytree=0.9, max_depth=14) #,objective ='reg:squarederror'\n",
    "    model.fit(x_train, y_train)\n",
    "    return model\n",
    "## Split data with val\n",
    "x_train,x_val,y_train,y_val = train_test_split(train_x,train_y,test_size=0.3)\n",
    "\n",
    "## 定义了一个统计函数，方便后续信息统计\n",
    "def Sta_inf(data):\n",
    "    print('_min',np.min(data))\n",
    "    print('_max:',np.max(data))\n",
    "    print('_mean',np.mean(data))\n",
    "    print('_ptp',np.ptp(data))#最大与最小值的差\n",
    "    print('_std',np.std(data))\n",
    "    print('_var',np.var(data))\n",
    "    \n",
    "print('Train xgb...')\n",
    "model_xgb = build_model_xgb(train_x,train_y)\n",
    "val_xgb = model_xgb.predict(x_val)\n",
    "MAE_xgb = mean_absolute_error(y_val,val_xgb)\n",
    "print('MAE of val with xgb:',MAE_xgb)\n",
    "\n",
    "print('Predict xgb...')\n",
    "model2 = build_model_xgb(train_x,train_y)\n",
    "test_y = model2.predict(test_x)\n",
    "print('Sta of Predict xgb:')\n",
    "Sta_inf(test_y)"
   ]
  },
  {
   "cell_type": "code",
   "execution_count": 238,
   "metadata": {},
   "outputs": [],
   "source": [
    "df8=pd.DataFrame()\n",
    "df8['SaleID']=T.SaleID\n",
    "df8['price']=test_y\n",
    "df8['price']=df8['price'].apply(lambda x:10 if x<10 else x)\n",
    "df8.to_csv('G:/sub_Weighted.csv',index=False)"
   ]
  },
  {
   "cell_type": "code",
   "execution_count": 239,
   "metadata": {},
   "outputs": [
    {
     "data": {
      "text/plain": [
       "count    50000.000000\n",
       "mean      5916.395143\n",
       "std       7357.995678\n",
       "min         10.000000\n",
       "25%       1365.389984\n",
       "50%       3280.475342\n",
       "75%       7711.568115\n",
       "max      90029.218750\n",
       "Name: price, dtype: float64"
      ]
     },
     "execution_count": 239,
     "metadata": {},
     "output_type": "execute_result"
    }
   ],
   "source": [
    "df8['price'].describe()"
   ]
  },
  {
   "cell_type": "code",
   "execution_count": 241,
   "metadata": {},
   "outputs": [
    {
     "data": {
      "text/plain": [
       "count    50000.000000\n",
       "mean      5918.767283\n",
       "std       7363.116054\n",
       "min         10.000000\n",
       "25%       1369.651656\n",
       "50%       3279.444360\n",
       "75%       7714.607294\n",
       "max      91069.875391\n",
       "Name: price, dtype: float64"
      ]
     },
     "execution_count": 241,
     "metadata": {},
     "output_type": "execute_result"
    }
   ],
   "source": [
    "df9=pd.DataFrame()\n",
    "df9['SaleID']=T.SaleID\n",
    "df9['price']=0.4*df8['price']+0.35*df7['price']+0.25*df_sum1['price']\n",
    "df9['price']=df9['price'].apply(lambda x:10 if x<10 else x)\n",
    "df9.to_csv('F:/sub_Weighted.csv',index=False)\n",
    "df9['price'].describe()"
   ]
  },
  {
   "cell_type": "code",
   "execution_count": 242,
   "metadata": {},
   "outputs": [
    {
     "data": {
      "text/plain": [
       "count    50000.000000\n",
       "mean      5929.621089\n",
       "std       7430.121725\n",
       "min         10.500000\n",
       "25%       1369.472483\n",
       "50%       3276.820309\n",
       "75%       7708.627036\n",
       "max      91700.718240\n",
       "Name: price, dtype: float64"
      ]
     },
     "execution_count": 242,
     "metadata": {},
     "output_type": "execute_result"
    }
   ],
   "source": [
    "df10=pd.DataFrame()\n",
    "df10['SaleID']=T.SaleID\n",
    "df10['price']=0.4*df8['price']+0.35*df7['price']+0.25*df_sum_12['price']\n",
    "df10['price']=df10['price'].apply(lambda x:10 if x<10 else x)\n",
    "df10.to_csv('G:/sub_Weighted.csv',index=False)\n",
    "df10['price'].describe()"
   ]
  },
  {
   "cell_type": "code",
   "execution_count": 243,
   "metadata": {},
   "outputs": [
    {
     "data": {
      "text/plain": [
       "count    50000.000000\n",
       "mean      5929.621089\n",
       "std       7430.121725\n",
       "min         10.500000\n",
       "25%       1369.472483\n",
       "50%       3276.820309\n",
       "75%       7708.627036\n",
       "max      91700.718240\n",
       "Name: price, dtype: float64"
      ]
     },
     "execution_count": 243,
     "metadata": {},
     "output_type": "execute_result"
    }
   ],
   "source": [
    "df11=pd.DataFrame()\n",
    "df11['SaleID']=T.SaleID\n",
    "df11['price']=np.sqrt(df7['price']*df8['price'])\n",
    "df11['price']=df10['price'].apply(lambda x:10 if x<10 else x)\n",
    "df11['price'].describe()"
   ]
  },
  {
   "cell_type": "code",
   "execution_count": 244,
   "metadata": {},
   "outputs": [],
   "source": [
    "df11.to_csv('E:/sub_Weighted.csv',index=False)"
   ]
  },
  {
   "cell_type": "code",
   "execution_count": 246,
   "metadata": {},
   "outputs": [
    {
     "data": {
      "text/plain": [
       "count    50000.000000\n",
       "mean      5926.039333\n",
       "std       7407.712740\n",
       "min         10.335000\n",
       "25%       1369.434096\n",
       "50%       3277.544230\n",
       "75%       7709.354059\n",
       "max      90936.531246\n",
       "Name: price, dtype: float64"
      ]
     },
     "execution_count": 246,
     "metadata": {},
     "output_type": "execute_result"
    }
   ],
   "source": [
    "df12=pd.DataFrame()\n",
    "df12['SaleID']=T.SaleID\n",
    "df12['price']=0.34*df10['price']+0.33*df11['price']+0.33*df9['price']\n",
    "df12['price']=df12['price'].apply(lambda x:10 if x<10 else x)\n",
    "df12.to_csv(r'C:\\Users\\Administrator.RPK-20180123GWR\\Desktop\\df12\\sub_Weighted.csv',index=False)\n",
    "df12['price'].describe()"
   ]
  },
  {
   "cell_type": "code",
   "execution_count": 247,
   "metadata": {},
   "outputs": [
    {
     "data": {
      "text/plain": [
       "count    50000.000000\n",
       "mean      5925.941017\n",
       "std       7407.166223\n",
       "min         10.330616\n",
       "25%       1369.430196\n",
       "50%       3277.526150\n",
       "75%       7709.353193\n",
       "max      90937.146276\n",
       "Name: price, dtype: float64"
      ]
     },
     "execution_count": 247,
     "metadata": {},
     "output_type": "execute_result"
    }
   ],
   "source": [
    "df13=pd.DataFrame()\n",
    "df13['SaleID']=T.SaleID\n",
    "df13['price']=np.power(df10['price']*df11['price']*df9['price'],1/3)\n",
    "df13['price']=df13['price'].apply(lambda x:10 if x<10 else x)\n",
    "df13.to_csv(r'C:\\Users\\Administrator.RPK-20180123GWR\\Desktop\\df13\\sub_Weighted.csv',index=False)\n",
    "df13['price'].describe()"
   ]
  }
 ],
 "metadata": {
  "kernelspec": {
   "display_name": "Python 3",
   "language": "python",
   "name": "python3"
  },
  "language_info": {
   "codemirror_mode": {
    "name": "ipython",
    "version": 3
   },
   "file_extension": ".py",
   "mimetype": "text/x-python",
   "name": "python",
   "nbconvert_exporter": "python",
   "pygments_lexer": "ipython3",
   "version": "3.8.8"
  }
 },
 "nbformat": 4,
 "nbformat_minor": 4
}
